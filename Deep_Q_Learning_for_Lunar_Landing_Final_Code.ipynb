{
  "cells": [
    {
      "cell_type": "markdown",
      "metadata": {
        "id": "LbZcI9ZXHl3a"
      },
      "source": [
        "# Deep Q-Learning for Lunar Landing"
      ]
    },
    {
      "cell_type": "markdown",
      "metadata": {
        "id": "E8yPRjteXgPb"
      },
      "source": [
        "## Part 0 - Installing the required packages and importing the libraries"
      ]
    },
    {
      "cell_type": "markdown",
      "metadata": {
        "id": "slEm5teGWjWU"
      },
      "source": [
        "### Installing Gymnasium"
      ]
    },
    {
      "cell_type": "code",
      "execution_count": null,
      "metadata": {
        "id": "dbnq3XpoKa_7",
        "colab": {
          "base_uri": "https://localhost:8080/"
        },
        "outputId": "f7ba6d32-77ae-4501-ce2c-7e9bfffb6162"
      },
      "outputs": [
        {
          "output_type": "stream",
          "name": "stdout",
          "text": [
            "Collecting gymnasium\n",
            "  Downloading gymnasium-0.29.1-py3-none-any.whl (953 kB)\n",
            "\u001b[2K     \u001b[90m━━━━━━━━━━━━━━━━━━━━━━━━━━━━━━━━━━━━━━━━\u001b[0m \u001b[32m953.9/953.9 kB\u001b[0m \u001b[31m4.2 MB/s\u001b[0m eta \u001b[36m0:00:00\u001b[0m\n",
            "\u001b[?25hRequirement already satisfied: numpy>=1.21.0 in /usr/local/lib/python3.10/dist-packages (from gymnasium) (1.25.2)\n",
            "Requirement already satisfied: cloudpickle>=1.2.0 in /usr/local/lib/python3.10/dist-packages (from gymnasium) (2.2.1)\n",
            "Requirement already satisfied: typing-extensions>=4.3.0 in /usr/local/lib/python3.10/dist-packages (from gymnasium) (4.12.2)\n",
            "Collecting farama-notifications>=0.0.1 (from gymnasium)\n",
            "  Downloading Farama_Notifications-0.0.4-py3-none-any.whl (2.5 kB)\n",
            "Installing collected packages: farama-notifications, gymnasium\n",
            "Successfully installed farama-notifications-0.0.4 gymnasium-0.29.1\n",
            "Requirement already satisfied: gymnasium[accept-rom-license,atari] in /usr/local/lib/python3.10/dist-packages (0.29.1)\n",
            "Requirement already satisfied: numpy>=1.21.0 in /usr/local/lib/python3.10/dist-packages (from gymnasium[accept-rom-license,atari]) (1.25.2)\n",
            "Requirement already satisfied: cloudpickle>=1.2.0 in /usr/local/lib/python3.10/dist-packages (from gymnasium[accept-rom-license,atari]) (2.2.1)\n",
            "Requirement already satisfied: typing-extensions>=4.3.0 in /usr/local/lib/python3.10/dist-packages (from gymnasium[accept-rom-license,atari]) (4.12.2)\n",
            "Requirement already satisfied: farama-notifications>=0.0.1 in /usr/local/lib/python3.10/dist-packages (from gymnasium[accept-rom-license,atari]) (0.0.4)\n",
            "Collecting autorom[accept-rom-license]~=0.4.2 (from gymnasium[accept-rom-license,atari])\n",
            "  Downloading AutoROM-0.4.2-py3-none-any.whl (16 kB)\n",
            "Collecting shimmy[atari]<1.0,>=0.1.0 (from gymnasium[accept-rom-license,atari])\n",
            "  Downloading Shimmy-0.2.1-py3-none-any.whl (25 kB)\n",
            "Requirement already satisfied: click in /usr/local/lib/python3.10/dist-packages (from autorom[accept-rom-license]~=0.4.2->gymnasium[accept-rom-license,atari]) (8.1.7)\n",
            "Requirement already satisfied: requests in /usr/local/lib/python3.10/dist-packages (from autorom[accept-rom-license]~=0.4.2->gymnasium[accept-rom-license,atari]) (2.31.0)\n",
            "Requirement already satisfied: tqdm in /usr/local/lib/python3.10/dist-packages (from autorom[accept-rom-license]~=0.4.2->gymnasium[accept-rom-license,atari]) (4.66.4)\n",
            "Collecting AutoROM.accept-rom-license (from autorom[accept-rom-license]~=0.4.2->gymnasium[accept-rom-license,atari])\n",
            "  Downloading AutoROM.accept-rom-license-0.6.1.tar.gz (434 kB)\n",
            "\u001b[2K     \u001b[90m━━━━━━━━━━━━━━━━━━━━━━━━━━━━━━━━━━━━━━━━\u001b[0m \u001b[32m434.7/434.7 kB\u001b[0m \u001b[31m11.1 MB/s\u001b[0m eta \u001b[36m0:00:00\u001b[0m\n",
            "\u001b[?25h  Installing build dependencies ... \u001b[?25l\u001b[?25hdone\n",
            "  Getting requirements to build wheel ... \u001b[?25l\u001b[?25hdone\n",
            "  Preparing metadata (pyproject.toml) ... \u001b[?25l\u001b[?25hdone\n",
            "Collecting ale-py~=0.8.1 (from shimmy[atari]<1.0,>=0.1.0->gymnasium[accept-rom-license,atari])\n",
            "  Downloading ale_py-0.8.1-cp310-cp310-manylinux_2_17_x86_64.manylinux2014_x86_64.whl (1.7 MB)\n",
            "\u001b[2K     \u001b[90m━━━━━━━━━━━━━━━━━━━━━━━━━━━━━━━━━━━━━━━━\u001b[0m \u001b[32m1.7/1.7 MB\u001b[0m \u001b[31m5.6 MB/s\u001b[0m eta \u001b[36m0:00:00\u001b[0m\n",
            "\u001b[?25hRequirement already satisfied: importlib-resources in /usr/local/lib/python3.10/dist-packages (from ale-py~=0.8.1->shimmy[atari]<1.0,>=0.1.0->gymnasium[accept-rom-license,atari]) (6.4.0)\n",
            "Requirement already satisfied: charset-normalizer<4,>=2 in /usr/local/lib/python3.10/dist-packages (from requests->autorom[accept-rom-license]~=0.4.2->gymnasium[accept-rom-license,atari]) (3.3.2)\n",
            "Requirement already satisfied: idna<4,>=2.5 in /usr/local/lib/python3.10/dist-packages (from requests->autorom[accept-rom-license]~=0.4.2->gymnasium[accept-rom-license,atari]) (3.7)\n",
            "Requirement already satisfied: urllib3<3,>=1.21.1 in /usr/local/lib/python3.10/dist-packages (from requests->autorom[accept-rom-license]~=0.4.2->gymnasium[accept-rom-license,atari]) (2.0.7)\n",
            "Requirement already satisfied: certifi>=2017.4.17 in /usr/local/lib/python3.10/dist-packages (from requests->autorom[accept-rom-license]~=0.4.2->gymnasium[accept-rom-license,atari]) (2024.6.2)\n",
            "Building wheels for collected packages: AutoROM.accept-rom-license\n",
            "  Building wheel for AutoROM.accept-rom-license (pyproject.toml) ... \u001b[?25l\u001b[?25hdone\n",
            "  Created wheel for AutoROM.accept-rom-license: filename=AutoROM.accept_rom_license-0.6.1-py3-none-any.whl size=446659 sha256=b05526712140771256915f61b5593d574d69d4b84c9da18fbbe8e63c50abdafa\n",
            "  Stored in directory: /root/.cache/pip/wheels/6b/1b/ef/a43ff1a2f1736d5711faa1ba4c1f61be1131b8899e6a057811\n",
            "Successfully built AutoROM.accept-rom-license\n",
            "Installing collected packages: ale-py, shimmy, AutoROM.accept-rom-license, autorom\n",
            "Successfully installed AutoROM.accept-rom-license-0.6.1 ale-py-0.8.1 autorom-0.4.2 shimmy-0.2.1\n",
            "Reading package lists... Done\n",
            "Building dependency tree... Done\n",
            "Reading state information... Done\n",
            "The following additional packages will be installed:\n",
            "  swig4.0\n",
            "Suggested packages:\n",
            "  swig-doc swig-examples swig4.0-examples swig4.0-doc\n",
            "The following NEW packages will be installed:\n",
            "  swig swig4.0\n",
            "0 upgraded, 2 newly installed, 0 to remove and 45 not upgraded.\n",
            "Need to get 1,116 kB of archives.\n",
            "After this operation, 5,542 kB of additional disk space will be used.\n",
            "Get:1 http://archive.ubuntu.com/ubuntu jammy/universe amd64 swig4.0 amd64 4.0.2-1ubuntu1 [1,110 kB]\n",
            "Get:2 http://archive.ubuntu.com/ubuntu jammy/universe amd64 swig all 4.0.2-1ubuntu1 [5,632 B]\n",
            "Fetched 1,116 kB in 0s (3,342 kB/s)\n",
            "Selecting previously unselected package swig4.0.\n",
            "(Reading database ... 121913 files and directories currently installed.)\n",
            "Preparing to unpack .../swig4.0_4.0.2-1ubuntu1_amd64.deb ...\n",
            "Unpacking swig4.0 (4.0.2-1ubuntu1) ...\n",
            "Selecting previously unselected package swig.\n",
            "Preparing to unpack .../swig_4.0.2-1ubuntu1_all.deb ...\n",
            "Unpacking swig (4.0.2-1ubuntu1) ...\n",
            "Setting up swig4.0 (4.0.2-1ubuntu1) ...\n",
            "Setting up swig (4.0.2-1ubuntu1) ...\n",
            "Processing triggers for man-db (2.10.2-1) ...\n",
            "Requirement already satisfied: gymnasium[box2d] in /usr/local/lib/python3.10/dist-packages (0.29.1)\n",
            "Requirement already satisfied: numpy>=1.21.0 in /usr/local/lib/python3.10/dist-packages (from gymnasium[box2d]) (1.25.2)\n",
            "Requirement already satisfied: cloudpickle>=1.2.0 in /usr/local/lib/python3.10/dist-packages (from gymnasium[box2d]) (2.2.1)\n",
            "Requirement already satisfied: typing-extensions>=4.3.0 in /usr/local/lib/python3.10/dist-packages (from gymnasium[box2d]) (4.12.2)\n",
            "Requirement already satisfied: farama-notifications>=0.0.1 in /usr/local/lib/python3.10/dist-packages (from gymnasium[box2d]) (0.0.4)\n",
            "Collecting box2d-py==2.3.5 (from gymnasium[box2d])\n",
            "  Downloading box2d-py-2.3.5.tar.gz (374 kB)\n",
            "\u001b[2K     \u001b[90m━━━━━━━━━━━━━━━━━━━━━━━━━━━━━━━━━━━━━━━━\u001b[0m \u001b[32m374.4/374.4 kB\u001b[0m \u001b[31m7.0 MB/s\u001b[0m eta \u001b[36m0:00:00\u001b[0m\n",
            "\u001b[?25h  Preparing metadata (setup.py) ... \u001b[?25l\u001b[?25hdone\n",
            "Requirement already satisfied: pygame>=2.1.3 in /usr/local/lib/python3.10/dist-packages (from gymnasium[box2d]) (2.5.2)\n",
            "Collecting swig==4.* (from gymnasium[box2d])\n",
            "  Downloading swig-4.2.1-py2.py3-none-manylinux_2_5_x86_64.manylinux1_x86_64.whl (1.9 MB)\n",
            "\u001b[2K     \u001b[90m━━━━━━━━━━━━━━━━━━━━━━━━━━━━━━━━━━━━━━━━\u001b[0m \u001b[32m1.9/1.9 MB\u001b[0m \u001b[31m45.2 MB/s\u001b[0m eta \u001b[36m0:00:00\u001b[0m\n",
            "\u001b[?25hBuilding wheels for collected packages: box2d-py\n",
            "  Building wheel for box2d-py (setup.py) ... \u001b[?25l\u001b[?25hdone\n",
            "  Created wheel for box2d-py: filename=box2d_py-2.3.5-cp310-cp310-linux_x86_64.whl size=2349115 sha256=16106a7a666d0e9dbdf81e331da17749a51caf7565e93dbbad6d8aa43e1b83c4\n",
            "  Stored in directory: /root/.cache/pip/wheels/db/8f/6a/eaaadf056fba10a98d986f6dce954e6201ba3126926fc5ad9e\n",
            "Successfully built box2d-py\n",
            "Installing collected packages: swig, box2d-py\n",
            "Successfully installed box2d-py-2.3.5 swig-4.2.1\n"
          ]
        }
      ],
      "source": [
        "!pip install gymnasium\n",
        "!pip install \"gymnasium[atari, accept-rom-license]\"\n",
        "!apt-get install -y swig\n",
        "!pip install gymnasium[box2d]"
      ]
    },
    {
      "cell_type": "markdown",
      "metadata": {
        "id": "brqiMN3UW9T9"
      },
      "source": [
        "### Importing the libraries"
      ]
    },
    {
      "cell_type": "code",
      "execution_count": null,
      "metadata": {
        "id": "mZaKXP_aMl9O"
      },
      "outputs": [],
      "source": [
        "import os\n",
        "import random\n",
        "import numpy as np\n",
        "import torch #Pytorch is the framework using which we build this model.\n",
        "import torch.nn as nn\n",
        "import torch.optim as optim\n",
        "import torch.nn.functional as F\n",
        "import torch.autograd as autograd\n",
        "from torch.autograd import Variable\n",
        "from collections import deque, namedtuple"
      ]
    },
    {
      "cell_type": "markdown",
      "metadata": {
        "id": "EzlDKXvkXzGI"
      },
      "source": [
        "## Part 1 - Building the AI"
      ]
    },
    {
      "cell_type": "markdown",
      "metadata": {
        "id": "UtG6Zc83YYy3"
      },
      "source": [
        "### Creating the architecture of the Neural Network"
      ]
    },
    {
      "cell_type": "code",
      "source": [
        "class Network(nn.Module):\n",
        "\n",
        "#The fully connected layers act as the brain of the AI.\n",
        "\n",
        "  #Building function to create the layer architecture.\n",
        "  def __init__(self, state_size, action_size, seed = 42) -> None: #'seed' ensures that the random number generator is set to an inital state of 42 so that every time a random process is called, it gives the same output ensuring reproducibility given all other parameters remain the same.\n",
        "      super(Network, self).__init__() #'super()' function is used to call the initializer of the base class to activate inheritance.\n",
        "      self.seed = torch.manual_seed(seed) #Does random number generation in pytorch.\n",
        "      self.fc1 = nn.Linear(state_size, 64) #64 is the number of neurons. fc1 means full-connection 1, connection is established between i/p layer and first fully connected layer.\n",
        "      self.fc2 = nn.Linear(64, 64) #First 64 as 64 neurons are there in fc1 which connects to fc2 and second 64 as next is a second fully connected layer with 64 neurons.\n",
        "      self.fc3 = nn.Linear(64, action_size) #First 64 as 64 neurons are there in fc2 which connects to fc3 and action_size as next is output layer that has action_size.\n",
        "\n",
        "  #Basically we created a neural network with input layer as state_size that is connected to first fully connected layer with 64 neurons.\n",
        "  #We connected the first fully connected layer with 64 neurons to the second fully connected layer that has 64 neurons.\n",
        "  #We connected the second fully connected layer with 64 neurons to the output layer with action_size.\n",
        "  #Above is a neural netwok between input state_size and output action_size with 2 hidden layers each having 64 neurons.\n",
        "\n",
        "\n",
        "  #Building function to propogate signal from input layer to get output.\n",
        "  def forward(self, state):  #Forward Propogation.\n",
        "    x = self.fc1(state) #x stores the value in fc1 (which takes state as input) which is the state itself.\n",
        "    x = F.relu(x) #relu basically updates the value of x by applying activation function to x.\n",
        "    x = self.fc2(x) #Here the value of x is updated as the signal coming to fc2 from fc1.\n",
        "    x = F.relu(x)\n",
        "    return self.fc3(x) #The value of x coming to fc3 from fc2 is returned as o/p.\n",
        "\n",
        "  #Now we have built the architecture of the AI model. Next comes the training phase and then the model can be visualized.\n",
        "\n"
      ],
      "metadata": {
        "id": "I8x0dC9SEYi3"
      },
      "execution_count": null,
      "outputs": []
    },
    {
      "cell_type": "markdown",
      "metadata": {
        "id": "UxVrBnFWZKb1"
      },
      "source": [
        "## Part 2 - Training the AI"
      ]
    },
    {
      "cell_type": "markdown",
      "metadata": {
        "id": "T364fz9qZb2j"
      },
      "source": [
        "### Setting up the environment"
      ]
    },
    {
      "cell_type": "code",
      "source": [
        "import gymnasium as gym\n",
        "env = gym.make(\"LunarLander-v2\") #Creates an environment object that imports/calls and stores the LunarLander environment.\n",
        "state_shape = env.observation_space.shape #Provied the dimensions of the possible observations (state vector).\n",
        "state_size = env.observation_space.shape[0] #Retrieves the first dimension of the observations which is the number of elements in the state vector.\n",
        "number_actions = env.action_space.n #Provides the number of actions the agent can take.\n",
        "print(\"State shape: \", state_shape)\n",
        "print(\"State size: \", state_size)\n",
        "print(\"Number of actions: \", number_actions)"
      ],
      "metadata": {
        "colab": {
          "base_uri": "https://localhost:8080/"
        },
        "id": "AGTZWzIGmaeB",
        "outputId": "9286d68b-f19d-4ec9-c498-a4fea0848da6"
      },
      "execution_count": null,
      "outputs": [
        {
          "output_type": "stream",
          "name": "stdout",
          "text": [
            "State shape:  (8,)\n",
            "State size:  8\n",
            "Number of actions:  4\n"
          ]
        }
      ]
    },
    {
      "cell_type": "markdown",
      "metadata": {
        "id": "c_dZmOIvZgj-"
      },
      "source": [
        "### Initializing the hyperparameters"
      ]
    },
    {
      "cell_type": "code",
      "source": [
        "learning_rate = 5e-4 #5*(10^-4)\n",
        "minibatch_size = 100 #Number of observations used in one step of the AI to update the model parameters.\n",
        "discount_factor = 0.99 #Gamma used in Bellman equation. It is the present value of future rewards (Close to 1 indicates higher reward and close to 0 indicates lower reward).\n",
        "replay_buffer_size = int(1e5) #Number of experiences stored in the memory of the AI (10^5).\n",
        "interpolation_parameter = 1e-3 #Updates the rate at which the target values are updated(10^-3), aka 'Tau'.\n",
        "\n",
        "#These numbers are derived after a lot of experimentation. These are the best values for the model for this scenario.\n"
      ],
      "metadata": {
        "id": "e-ezjnrksAs8"
      },
      "execution_count": null,
      "outputs": []
    },
    {
      "cell_type": "markdown",
      "metadata": {
        "id": "8hD_Vs-bYnip"
      },
      "source": [
        "### Implementing Experience Replay"
      ]
    },
    {
      "cell_type": "code",
      "source": [
        "class ReplayMemory(object):\n",
        "\n",
        "\n",
        "  # Method 1: GPU/CPU setting and memory initialization.\n",
        "  def __init__(self, capacity):\n",
        "    self.device = torch.device(\"cuda:0\" if torch.cuda.is_available() else \"cpu\") #Sets the CPU or GPU for pytorch operations. If 'cuda:0' is satisfied, GPU is set for operations, else CPU is set.\n",
        "    self.capacity = capacity #The maximum memory buffer for the AI is initialized to capacity which wull get updated later on.\n",
        "    self.memory = [] #Initializes the memory array as an empty array. Stores the experiences of the array.\n",
        "\n",
        "\n",
        "  #Method2: Appending an event to memory.\n",
        "  def push(self, event): #An event is passed as a parameter in the constructer. An event is an experience that an AI gets which contains state, action, next_state and reward and boolean_done(indiates whether event is completed or not).\n",
        "    self.memory.append(event) #Event is appended to the memory.\n",
        "    if len(self.memory)>self.capacity: #If size of memory array exceedes the total memory buffer/capacity of AI the first event(oldest event) is removed from the memory as it is less relevant.\n",
        "      del self.memory[0]\n",
        "\n",
        "\n",
        "  #Method3: Choses experiences randomly from the memory buffer.\n",
        "  def sample(self, batch_size): #Batch size is the number of experiences sampled in a batch.\n",
        "    experiences = random.sample(self.memory, k = batch_size)\n",
        "    #An experience contains - state, action, reward, next_state, boolean_done.\n",
        "    states = torch.from_numpy(np.vstack([e[0]for e in experiences if e is not None])).float().to(self.device) #The states from experiences are stacked (e[0] as state is the first element in experience) by ensuring that the experince is not None.\n",
        "    #np.vstack() Stacks the states from the experiences(states or any other element in experiences) by extracting them and stacking them.\n",
        "    #torch.from_numpy() converts these numpy arrays (containing the stacked states from experiences) into pythorch tensors for compuation.\n",
        "    #.float().to(self.device) moves these pytorch tensors converted to floats to the GPU or CPU for processing.\n",
        "    actions = torch.from_numpy(np.vstack([e[1]for e in experiences if e is not None])).long().to(self.device) #Datatype is long integer and array index is 1 for actions.\n",
        "    rewards = torch.from_numpy(np.vstack([e[2]for e in experiences if e is not None])).float().to(self.device) #Datatype is float and array index is 2 for rewards.\n",
        "    next_states = torch.from_numpy(np.vstack([e[3]for e in experiences if e is not None])).float().to(self.device) #Datatype is float and array index is 3 for next_states.\n",
        "    dones = torch.from_numpy(np.vstack([e[4]for e in experiences if e is not None]).astype(np.uint8)).float().to(self.device) #Datatype is float and array index is 4 for boolean dones.\n",
        "    #.astype(np.uint8) is used to specfy the boolean datatype before converting it to float. 'uint8' is the datatype used for boolean values.\n",
        "    return states, next_states, actions, rewards, dones #Samples of all these elements of experiences will be returned.\n"
      ],
      "metadata": {
        "id": "2ggulnPrvTPW"
      },
      "execution_count": null,
      "outputs": []
    },
    {
      "cell_type": "markdown",
      "metadata": {
        "id": "JmEkbFbUY6Jt"
      },
      "source": [
        "### Implementing the DQN class"
      ]
    },
    {
      "cell_type": "code",
      "source": [
        "class Agent():\n",
        "\n",
        "\n",
        "  #Method1: Creating qnetworks.\n",
        "  def __init__(self, state_size, action_size):\n",
        "     self.device = torch.device(\"cuda:0\" if torch.cuda.is_available() else \"cpu\") #Sets the CPU or GPU for pytorch operations.\n",
        "     self.state_size = state_size\n",
        "     self.action_size = action_size\n",
        "     self.local_qnetwork = Network(state_size, action_size).to(self.device) #We create local_qnetwork which is an instances of the Network class and is sent to the GPU/CPU. The local_qnetwork basically selects the actions.\n",
        "     self.target_qnetwork = Network(state_size, action_size).to(self.device) #We create target_qnetwork which is an instances of the Network class and is sent to the GPU/CPU. The target_qnetwork calculates the target q values to be used in training the local_qnetwork.\n",
        "     self.optimizer = optim.Adam(self.local_qnetwork.parameters(), lr = learning_rate) #An optimizer object is created as an instance of the Adam class of the optim module. It optimizes the parameters of the local_qnetwork for the agent to take better actions. Learning rate is also taken as an argument.\n",
        "     self.memory = ReplayMemory(replay_buffer_size) #An instance of the 'ReplayMemory' class is stored in the object variable 'self.memory'. The 'ReplayMemory' class takes the capacity as an argument which is the replay_buffer_size. Basically it stores the experiences.\n",
        "     self.t_step = 0 #Refers to the timestep which is the time/moment in which the network parameters are updated.\n",
        "\n",
        "  #Method2: Stores experiences and decides when to learn from them.\n",
        "  def step(self, state, action, reward, next_state, done): #Method step takes experience.\n",
        "    self.memory.push((state, action, reward, next_state, done)) #We store the experience in the replay memory i.e, by storing it in self.memory which is an instance of the ReplayMemory class. Two brackets are used here - first one for the push function and the second one to enclose the entire experience.\n",
        "    self.t_step = (self.t_step + 1) % 4 #Incrementing the time step by 1 and reseting it every 4 steps.\n",
        "    if self.t_step == 0: #Ensuring that learning happens only after every 4 steps (as '(self.t_step + 1) % 4' has been implemented, after every 4 steps self.t_step will be 0).\n",
        "      if len(self.memory.memory) > minibatch_size: #Ensures that the number of experiences in the memory is greater than the minibatch_size.\n",
        "        experiences = self.memory.sample(100) #Samples 100 experiences from the memory and stores it in the variable experiences.\n",
        "        self.learn(experiences, discount_factor) #Learn method is called with parameters experiences and discount_factor aka gamma.\n",
        "\n",
        "  #Method3: Choses an action based on a given state and epsilon value.\n",
        "  def act(self, state, epsilon = 0.): #Epsilon in initialized as a float.\n",
        "    state = torch.from_numpy(state).float().unsqueeze(0).to(self.device) #The state is initially a numpy array which is set to float values and converted to pytorch tensors and is sent to GPU/CPU. The '.unsqueeze(0)' adds an extra dimension to the tensor (8d becomes 9d) which contains the batch number of each state indicating which batch the state belongs to. The batch number (experiences are sampled into multiple batches) is added to the 0th position.\n",
        "    self.local_qnetwork.eval() #The local_qnetwork is set to eval mode. The local_qnetwork is an instance of the network class and the network class has the .eval() function.\n",
        "    with torch.no_grad(): #Ensures that the model is in inferance mode (does predictions) instead of training mode by disabling gradiant computations.\n",
        "      action_values = self.local_qnetwork(state) #We pass the state through the local_qnetwork to get the predictions from the model. This is stored in action_values (these are q values). These are q values of a given state (current state).\n",
        "\n",
        "    #However we need to update these values using epsillon. So action_values can be viewed as q values which is later updated with epsillon values to get the final prediction/take final action.\n",
        "    self.local_qnetwork.train() #Sets the model back in training mode using '.train() which is a function of the Network class.\n",
        "    if random.random() > epsilon: #We generate a random number using the random function and check if it is greater than epsilon.\n",
        "      return np.argmax(action_values.cpu().data.numpy()) #The 'np.argmax()' selects the value with the highest q value from action_values. The 'cpu()' is used to send the operation to the CPU as it is a simple operation, '.data.numpy()' is used as 'np.argmax()' expects a numpy format of data.\n",
        "    else:\n",
        "      return random.choice(np.arange(self.action_size)) #The '.choice()' function of the random library randomly choses one among the 4 possible actions (0, 1, 2, 3). 'np.arange()' is used to understand a range i.e, here it is used to understand the action_size which is 4, so the range is from 0 to 4 -> 0, 1, 2, 3 and '.choice()' choses one among these actions randomly.\n",
        "\n",
        "  #Method4: Implementing the learn method. It updates the q_values of the local_qnetwork.\n",
        "  def learn(self, experiences, discount_factor):\n",
        "    states, next_states, actions, rewards, dones = experiences #Unpacking experiences into its different element states.\n",
        "    next_q_targets = self.target_qnetwork(next_states).detach().max(1)[0].unsqueeze(1) #We forward pass the next_states to the target_qnetwork to predict the q values of the next states. We detach the obtained q values and find the max value from it so that the agent can go to that new state (Bellman Theory). '.unsqueeze(1)' adds the batch number as an extra dimension at index 1. These are intermediary q values (q values of intermediary states) used in calculating the q_target.\n",
        "    q_targets = rewards + (discount_factor * next_q_targets * (1 - dones)) #Bellman Equation. This is different from action_values as q_targets incorporate future rewards to update q parameters as requiered.It is the final q value of the target state which is calculated by incorporating the intermediary q values (next_q_targets).\n",
        "    q_expected = self.local_qnetwork(states).gather(1, actions) #The expected q value from the local_networ (current states) is calculated and gathered.\n",
        "    loss = F.mse_loss(q_expected, q_targets) #Calculates the loss between the target value and the expected value. 'F.mse_loss' gives the mean squared error loss where F is a module of the torch library.\n",
        "    self.optimizer.zero_grad() #Resets gradiant parameters to 0 as it has to be done before back propogation.\n",
        "    loss.backward() #The loss is backpropogated back to the nodes/network.\n",
        "    self.optimizer.step() #Parameters of the model are updated (local q_network) using the step function.\n",
        "    self.soft_update(self.local_qnetwork, self.target_qnetwork, interpolation_parameter) #The target_qnetwork is updated using the local_qnetwork using the soft_update function.\n",
        "\n",
        "  #Method5: Updating the target_qnetwork using the local_qnetwork.\n",
        "  def soft_update(self, local_model, target_model, interpolation_parameter): #local_model and target_model are the same as local_qnetwork and target_qnetwork.\n",
        "    for target_param, local_param in zip(target_model.parameters(), local_model.parameters()): #Looping through the local_qnetwork aka local_model and target_qnetwork aka target_model to get the parameters of these networks using '.parameter()'. Zip is used as we are iterating over both target_model and local_model (similar to nested for loop).\n",
        "      target_param.data.copy_(interpolation_parameter * local_param.data + (1.0 - interpolation_parameter) * target_param.data) # Here we update the target parameters based on the local parameters (basically updating weights). It is implemented as per weight updation formulas. '.copy_()' copies content from one tensor to another tensor i.e, basically updating target_param using weighted sum of target_param and local_param.\n",
        "\n"
      ],
      "metadata": {
        "id": "gtFmLo4zAyeU"
      },
      "execution_count": null,
      "outputs": []
    },
    {
      "cell_type": "markdown",
      "metadata": {
        "id": "o1tZElccZmf6"
      },
      "source": [
        "### Initializing the DQN agent"
      ]
    },
    {
      "cell_type": "code",
      "source": [
        "agent = Agent(state_size, number_actions) #We are calling an instance of the 'Agent' class and we call this object (the instance of the 'Agent' class in an object) as 'agent' and it will take the size of the state and the number of actions as parameters.\n"
      ],
      "metadata": {
        "id": "q771SHtnbQi0"
      },
      "execution_count": null,
      "outputs": []
    },
    {
      "cell_type": "markdown",
      "metadata": {
        "id": "E8v0PtUfaVQp"
      },
      "source": [
        "### Training the DQN agent"
      ]
    },
    {
      "cell_type": "code",
      "source": [
        "#Initializing.\n",
        "number_episodes = 2000 #Maximum number of episodes over which we need to train our model.\n",
        "maximum_number_timesteps_per_episode = 1000 #Maximum time steps per episode is set to 1000 as we dont want the AI to be in infinite loops.\n",
        "#A timestep represents one step in the interaction between the agent and the environment. An episode is a sequence of timesteps.\n",
        "epsilon_starting_value = 1.0 #Starting value of epsilon is set.\n",
        "epsilon_ending_value = 0.01 #Ending value of epsilon is set.\n",
        "epsilon_decay_value = 0.995 #Decay value of epsilon is set. During updation the epsilon value is multiplied with the epsilon decay value (will be done till we arrive at epsilon_ending_value).\n",
        "epsilon = epsilon_starting_value #The epsilon value is initialized to its start value.\n",
        "scores_on_100_episodes = deque(maxlen = 100) #Scores are calculated after every 100 episodes. Score basically refers to the cumilative reward that the agent receives for its actions and in this case it is calculated after every 100 episodes. 'deque' is a double ended queue.\n",
        "\n",
        "#We are going to measure the score of the model (cumilative reward) after every 100 episodes.\n",
        "for episode in range(1, number_episodes + 1): #We loop episodes from 1 to total number of episodes over which we train the model. We add +1 as python does not consider upper limit of range by default.\n",
        "  state, _ = env.reset() #Here 'state' returns the initial state and '_' eliminates any other unnecessary thing that is returned along with state. The environment is reset as we are starting a new episode.\n",
        "  score = 0 #We initialize the score to 0 before an episode.\n",
        "  for t in range(maximum_number_timesteps_per_episode): #We start the second loop which is from 1 to the maximum number of timesteps per episode that we prescribed. This is to prevent the AI from going into an infinite state (similar to infinite loop).\n",
        "    action = agent.act(state, epsilon) #The model now has to chose an action which is done using the function .act() which is described in the 'Agent' class. 'agent' was initialized as an instance of the 'Agent' class earlier.\n",
        "    next_state, reward, done, _,_ = env.step(action) #Information we get after performing an action (next_state, reward, done) are returned by the step function for the particular action. The '_' is used to avoid unnecessary information coming with the step function.\n",
        "    agent.step(state, action, reward, next_state, done) #The step method (which takes experience as parameters) is implemented which has the learn method with which the agent learns.\n",
        "    state = next_state #The current state is updated to the next state.\n",
        "    score += reward #The score is updated with the reward. Score is basically the cumilative reward. So we add reward for each action to the score every time an action is performed.\n",
        "    if done: #If the episode is done at a specific time_step before the maximum number of time_steps then we break the episode and go to the next one.\n",
        "      break\n",
        "  scores_on_100_episodes.append(score) #We append the score of the finished episode to the window of 100 episodes. The oldest episode gets removed if the number of episodes exceed 100.\n",
        "  epsilon = max(epsilon_ending_value, epsilon_decay_value * epsilon) #The epsilon value is updated by multiplying it with the epsilon_decay_value and the higher value among epsilon and epsilon_end_value is chosen as the next epsilon.\n",
        "  print('\\rEpisode {}\\tAverage Score: {:.2f}'.format(episode, np.mean(scores_on_100_episodes)), end = \"\") #Real-time score of every episode is printed and is replaced by the next one (more like running/real-time score update).\n",
        "  if episode % 100 == 0:\n",
        "    print('\\rEpisode {}\\tAverage Score: {:.2f}'.format(episode, np.mean(scores_on_100_episodes))) #Score after every 100 episodes are printed.\n",
        "  if np.mean(scores_on_100_episodes) >= 200.0:\n",
        "    print('\\n Environment solved in {:d} episodes!\\tAverage Score: {:.2f}'.format(episode - 100, np.mean(scores_on_100_episodes))) #The solution episode and the average score is printed when average score crosses 200 which is the ideal result.\n",
        "    torch.save(agent.local_qnetwork.state_dict(), 'checkpoint.pth') #Model parameters (state, action, reward, next_state, done) are saved in 'checkpoint.pth' file (pytorch file) using .state_dict() function.\n",
        "    break"
      ],
      "metadata": {
        "colab": {
          "base_uri": "https://localhost:8080/"
        },
        "id": "xIeD25_Zpaj3",
        "outputId": "746ca313-61ba-4738-b028-69769eac582b"
      },
      "execution_count": null,
      "outputs": [
        {
          "output_type": "stream",
          "name": "stdout",
          "text": [
            "Episode 100\tAverage Score: -152.27\n",
            "Episode 200\tAverage Score: -90.26\n",
            "Episode 300\tAverage Score: -46.67\n",
            "Episode 400\tAverage Score: 24.85\n",
            "Episode 500\tAverage Score: 139.92\n",
            "Episode 600\tAverage Score: 183.46\n",
            "Episode 639\tAverage Score: 200.60\n",
            " Environment solved in 539 episodes!\tAverage Score: 200.60\n"
          ]
        }
      ]
    },
    {
      "cell_type": "markdown",
      "metadata": {
        "id": "O8CNwdOTcCoP"
      },
      "source": [
        "## Part 3 - Visualizing the results"
      ]
    },
    {
      "cell_type": "code",
      "execution_count": null,
      "metadata": {
        "id": "cb9nVvU2Okhk",
        "colab": {
          "base_uri": "https://localhost:8080/",
          "height": 458
        },
        "outputId": "2eabf08e-0a86-40eb-d98e-a8863b1fa23e"
      },
      "outputs": [
        {
          "output_type": "stream",
          "name": "stderr",
          "text": [
            "WARNING:imageio_ffmpeg:IMAGEIO FFMPEG_WRITER WARNING: input image is not divisible by macro_block_size=16, resizing from (600, 400) to (608, 400) to ensure video compatibility with most codecs and players. To prevent resizing, make your input image divisible by the macro_block_size or set the macro_block_size to 1 (risking incompatibility).\n"
          ]
        },
        {
          "output_type": "display_data",
          "data": {
            "text/plain": [
              "<IPython.core.display.HTML object>"
            ],
            "text/html": [
              "<video alt=\"test\" autoplay\n",
              "                loop controls style=\"height: 400px;\">\n",
              "                <source src=\"data:video/mp4;base64,AAAAIGZ0eXBpc29tAAACAGlzb21pc28yYXZjMW1wNDEAAAAIZnJlZQAA1eBtZGF0AAACrgYF//+q3EXpvebZSLeWLNgg2SPu73gyNjQgLSBjb3JlIDE1OSByMjk5MSAxNzcxYjU1IC0gSC4yNjQvTVBFRy00IEFWQyBjb2RlYyAtIENvcHlsZWZ0IDIwMDMtMjAxOSAtIGh0dHA6Ly93d3cudmlkZW9sYW4ub3JnL3gyNjQuaHRtbCAtIG9wdGlvbnM6IGNhYmFjPTEgcmVmPTMgZGVibG9jaz0xOjA6MCBhbmFseXNlPTB4MzoweDExMyBtZT1oZXggc3VibWU9NyBwc3k9MSBwc3lfcmQ9MS4wMDowLjAwIG1peGVkX3JlZj0xIG1lX3JhbmdlPTE2IGNocm9tYV9tZT0xIHRyZWxsaXM9MSA4eDhkY3Q9MSBjcW09MCBkZWFkem9uZT0yMSwxMSBmYXN0X3Bza2lwPTEgY2hyb21hX3FwX29mZnNldD0tMiB0aHJlYWRzPTMgbG9va2FoZWFkX3RocmVhZHM9MSBzbGljZWRfdGhyZWFkcz0wIG5yPTAgZGVjaW1hdGU9MSBpbnRlcmxhY2VkPTAgYmx1cmF5X2NvbXBhdD0wIGNvbnN0cmFpbmVkX2ludHJhPTAgYmZyYW1lcz0zIGJfcHlyYW1pZD0yIGJfYWRhcHQ9MSBiX2JpYXM9MCBkaXJlY3Q9MSB3ZWlnaHRiPTEgb3Blbl9nb3A9MCB3ZWlnaHRwPTIga2V5aW50PTI1MCBrZXlpbnRfbWluPTI1IHNjZW5lY3V0PTQwIGludHJhX3JlZnJlc2g9MCByY19sb29rYWhlYWQ9NDAgcmM9Y3JmIG1idHJlZT0xIGNyZj0yMy4wIHFjb21wPTAuNjAgcXBtaW49MCBxcG1heD02OSBxcHN0ZXA9NCBpcF9yYXRpbz0xLjQwIGFxPTE6MS4wMACAAAAHRGWIhAA3//728P4FNlYEUJcRzeidMx+/Fbi6NDe9zvB4KkCbZddJACQVcz+kFlpKTeb5lLp68JY8ICNPbzsCtdE6kjX+nKFA9Bt7Fk/Rt8UVD7efoYqbOZkaXAifT+Eh8guMQ1mGUa48jCqglFC4DzC0PYCsBFbPdOGPv7n92SRLBHPUlQjR/stlpxGxJ5mRjQG9aGV0DWy9AdbJh/gdfzrpXRfWWDvGWaHhd9tgSJwN4sG1ZY3fW1SY9gejWiGPoKBrEIAAAAMAA9Dn21o46Sgya4lsNNDCdGb4AAtwNZL8KoIwJIL8PUaIsRiC1G6XYEDdsn2bmmQBE29R0T8tesalfGAo5kOfWzzV2zhVraNEyjWZcu8boQA1LLxQOykZBLhgep/qDxTCRUcPD5ceW8GwS5o9P5g+ruErxpTLaDbtUsMibBm16lxh9G2eiFHGUlv1bOCB6R/nMPvMzf0a1fHCYQPGYId7F/irG0r15/WSJMjUJaGQq+BSVZYc34ox9N4r7Mc/1/H/cfJFjrvHhrTH1gswA++s6CfkPwcV9b3VqKWgjf7M/bBz2aDdAcBrhqjDF/K2rXY7J9/IzT9wgRqoa59qcUmEfuyuBHV3qjKmlHo2qDaf2f297lWzbBikM9GP/NzZcyMz95jI7r1jpBMvaBq2of9qIlU0oJx8rk7rNUfC9VvnerXoYAIHAoj1LVltrc5Nyb3jGYVcGCcUHKr0Bub70ro1r6A9s/0oAohKDoVqMdOK8EiUjM5htahAA/VOAGQAopOdmwFxrIlDjI7aE+e1XZvB0esXLMa6wCYr/4Xf3Es9dgfzFslfBuzgHxwysBtRGgqTmtUvpCoIUeiqNE1JOiOzwXuSlxrnU76fi2OZcfGARnBS3rcLHgOAyEGhtHuChZ/8YptM6mc3nqGm8S3T4d2V2X2TjGV4VB8NgSDqZLW+ChLYnFgnhGfAvLw1/HJNwAHUZRbisrznApKxqsLYRoOm8qv89A2bkzXTJqFH/39OPrDmflyFwNl8YpeoSB3eBaGGz6kZZkXY4Eqm/5ORL6nS+ykUs2WReSm8p3rwXuiLO38jg9ezPG5Ep8Nt7xt4hj+o1EW72HxtL6kqpCKEW7ADGBxgsyyJBMBNMF4YU3LWCMdvXpII4q3W96Vb5rXbUrE3dn+f2ORPP/qnbzkckLujHIeMo0kocsOx8CQJKmyL1bbIfusgpJbF1bm4CeKtnYDF0JufXFUmcc+bI2LmpAoYNgA4EKAFcNNsc392aDRgIXB3vGLYfkxeiBknvMQpyn34uUSTXaJz2+4mh/qY9MgAhgxidjeVYvoQYKoqlmKlk1f1urIAK+Q7o0bKbHtzZEitkFQ7w33B+hNru3TNzb0N+5W41YFB2gQ6uEBayiVYtGXFjaGUbACFK2jwypgXqLCNQVZrDY/fdZUEsMpPhlx1/ebReFslojSwHh2OO3fKijhCv69TvDPcWC2V8OqZ+RLax3E4gyYLOGTMSGTuySI/xH1KM4tqOS0lgG9joSW/1HQEkHyQivnCHwA1DwzAEIBgfcmeXwvQTzlwCCZX6OaOTB0LG7LZiPcCgzzapVSkBk+FqC6WX0xD7XjnSPSJiwZGVu0FTvOIpN8XVwc2r7lHn2XgJvjiwkXGSoEPibtzFe/aYIXq0ZEejNxqnbAFVLc6/YYHyWG9YGegSStxgAiWySReVPNfzifSUZ876Rq8kyOkxdOb2VEYwWYSeZ/ys1kDIshW1g0hdQjyZdQMtOqmgzL0Sxewfl2Rdax442ZMk803XClZvn36JYN6iu396C1SrdrGE2660nHD8CgIccnhohqNGO3ed/0LMeZF7rA5cDQKffz1F5kZas9TUK3PNV7zA6Ryx2eKLcsE9RqRt/qDarp6uN0r2T+L3gBue/h+p9hLbHWaHNkX+f8NvJJGT1AgtxODJ7k7tM/DZMW8/tlhDgo7ea9Xuh5IM4DUEPO//XWyJRk3//YbP+waGB7k/0nbkQIEthl76bguMy+oyIjsJcSXl/WvNqQyBW6QM0XdZ3H3YyiWLwiCsHGAca6BTfqNqg2fs9OjE/oIrGXT0CnoFUXFEBS9RXEAkkInZUXXjssYudAUMfa00dwqkrU9g35O9lKT1qt6znD/fOY71M8NnWZSa5rjOpVFWDN/C0QOCFVCbvsQi/oGqjLCyzsvjZLibkckwOq5pkmPlmAsNwmVOFhcte68c4y2rHodx4+Af3dq+hLKk0iy906AB1YwyFLWMZhSkD3fCFKYFyU4NB8hIcC045IQFZXadbFY6aLdKFWkBoOt6WN8/5sZinEp8LywdBhAADA+e7oLQ2CtymBrVCjdYcNSlfvG77qEJMuBwI5E+reAYH+c0sJwmHiDm/kh4ODl8h/mSL8VxsrBET/XNwgVqKpPHohFkxvnHOkd5WSnzBScBe1durqhOgl/UYdmxlKs+xtU2KQrVQpSOYAAAZGYAAE+QFGgJZAnIQAAATZBmiRsQ3/+p4tun858AD+7oF6qzxDDT7pKsreJWk7lu42D4bpJnk4kDKp7WOCJ1ygfZtSSyyxwV3JUU0vfPZMi2XPYLS9vn7GMdgeI0XPCmqL4h5OY+XDYhNRarjW4QC584IwBjeCYdRtGPcdwfnxaswB1+oefmNPXdPOZCZSdn4HIKBT4II6mnwC4mNwL2JI8zsR5mQexySrux3oF5Uhy310poKge7gyq0WCwf2CUbDe1oYulKlRbPM2AY1Z7e8R7iXhwQmGQZriNOqz+rLRel+rZZZjVnrpzt9pvJLYuHWEM54FrRWJulDXj56no4oJ3nB0GYxAIv2vcV/ef/CqGdAWe+6MdwNvqFE5/ad2k6RZwS085DWc10D7mqIWhgCjiqag7IYDphusSQrxvcRdSdyKjngG1AAAAWUGeQniFfwp2zn9Wf/RADX6CjNRuBdgWAQql5hd2EpDfz8A/FwjiR8Ly+vG3wKlCz40oyAMABsFRA3mDuAWdIZ/9dCXwInfwjGOOeRCj71Asec2VLqaCXhjxAAAARQGeYXRCfwukRfZP8UACcC0ZnjWiISwWoKLjPDqmjtwXsABdHPe721tlBwJteYoAfUK3XNR00FkRCRXG8f6dH3L2ytkHzAAAAEEBnmNqQn8MeaPDXcuzZJ/L+9wAtaEC5O6+pd8XnXJvZokAAvrsEB2dRQjnVERW6IiBEMxpxLtcVQ0VFqo2L4YEnQAAAIZBmmhJqEFomUwIb//+p4t2L07mScFi1UAjZGgW5pDQUfUwtmNtalv54faqOIXAabkBWDUZjw0w6yKTaLXaO7YrnuXxwVqSj84d8AAGn7R83tSqVoVZVytC8EMvD06XzMG0EtLaX6J5NErq9GIy/vvgT9ZCObvKiTEJ9mDu+7Rlo9rsrWJk7QAAAFFBnoZFESwr/wqEeMEqU3sRgCrm0IbJW9r7woEYn52MvkA8BgQ4AaZkFTyJ8KlPdoObS/H1KDYFysjQbt3mVJ7L0zYBS6bjfv2XL+xKHoIqkoMAAAAtAZ6ldEJ/DH3VPpdyu32uz4klD5uoAAKzrUlsnTfTuSH8oKb71eQqP/4ZH8d1AAAAOgGep2pCfwxNoMvFAKUOWBAABstfw29O+0nuAHmdWsqzlQJUAd/Rkcg3KUJroT8Ba/BYdKspAwMWnpAAAAB7QZqsSahBbJlMCG///qeIaQYFDpAFXQ+VwFbAN2KfeI1G6AoqYjqkEAAAAwAWv77tqmXkzYECMtxZ1Onwn5PmI0TkG5odsIwsOe8sNMy3czMOSw6VmYmSSoQriFkAquNM6wfx+CBAaiAh4Y41LgR2kSywcp0+X1EIKAzIAAAAQ0GeykUVLCv/CWMbHmQ71eBhOFiFkD//lG8QAo2+SVgzuNgjnaZFfjrNDA7o7hJd/PRregYfMFuQMFZ9A3/sjkrUFtEAAAAnAZ7pdEJ/CpuzTqEPmbVgLSDHGwgBHPzG+UEFesYzc17bCUAq/g7oAAAAKAGe62pCfwsszZRAFWm/WF/zDm25yfCOjZ2ABLdaCFP3qXsO3cXrGfAAAAB1QZrwSahBbJlMCG///qeI1xencyTgsZLAJkUJBTc36imBFAEGEPIC5aAAeUtflZFZH9DHcU7wV16wvEjH9QwwfjGnghfaN+CnRZv3YhUF/X7HdGtW3sIyQgZdBTZ9ZytDUHWgfyUWe/HjTZxzdFF07XD/labhAAAAKUGfDkUVLCv/CXDBFedKjAAEeEw+5iUdo6Sal4OzJz8Mu7g7thTBgFfBAAAAHAGfLXRCfwsqyxBH+5gADS9vGpzYAmhbGoFwFeEAAAAXAZ8vakJ/CysTkZj+wABYrLggiRjeJZQAAABcQZs0SahBbJlMCG///qeHOETH63moASyQa79X6eiNCQMP+M86BDt1OsNbWvwR9/35SgCgAAADAnkU/uPdtUzHEvaAUaWfKGt8x889qjwlaqICi7+E+xvBRlnAHpAAAAAnQZ9SRRUsK/8Id6RH5NBcwAGmhmz79O9qlH3iwKTkpG06lO0S0D5hAAAAHAGfcXRCfwoiyV8AAb0q3cDXmZAAF93HPP5nFsAAAAAZAZ9zakJ/CiVqnfG8ABYqv4yX1HqufnzhvQAAAHNBm3hJqEFsmUwIb//+p4cfFKvAWNIAFygs17nB+M+hjYtf3Hbr+nrEhCujp0Xn1KJMxtKSHfcE9xOFvZ0UQjbWLRGuzVJ1pE4IAAAbNb/5z3bVMxxKwNw3rfd3gLzoHxnMrwlfmEfu8drEbJ83d7ADYAHdAAAANEGflkUVLCv/CIbeW1aHPFliAHLAJWXEUpbeVh7cAB/MqaBGM3fawL1pcUQjXDHNmCjAEHAAAAAmAZ+1dEJ/CjT4xx0AFUJbFj1LKlW8ABYf/hvcXYX/2HulsQuUUkEAAAAkAZ+3akJ/CiVqnhgWHkbAADtx8//zSMHrQ1RJGgHTFJOIe6MLAAAAvUGbvEmoQWyZTAhv//6nh1Qn/AAdGoReFHAAmgW7AWquRxLRniWL7FqL4PXxM1Xe3uZ6mQqJgJieaZsatQvbOZbU4qoiDFc3KCX9BbTNdcO1roBFniZC8Du3ids64lGQb3lJaQbpLRVbC9Go9ljF1uc1q+aQp2NIZtWog2BOtNDi554An1GnyEGeTlj7UsA6lAGB34sTO18JcAAIr7GjXqmYubMn6K2yAK5/s2oqhVeRt8rFKBLCGbSReggBKwAAAElBn9pFFSwr/wiM/QHL9s6ACcaTTMLH+9/vyaOJsXFT3MwbM13jUFxarf7mgBfru+ugslAADi042qgBM/9ojcAg7siCY3VhE4l5AAAAJgGf+XRCfwovZ61FT9qGWGzUgVBPjMrcAAPKqUMmzc04q6+6/I+AAAAANgGf+2pCfwkhN7CEN7eUCHWAHyXK2SQFfzMjLA3NQO34NaFZ8M4AIzULhN17hyccsXhMJeD5gQAAAL5Bm+BJqEFsmUwIb//+p4Y6PKDQsppRABW0qjnIAxKmsrPNgrV8E8Y4RPSWtUmSRoY2KxE21Z7l4hGTq5B5QPekI8PPHYnUArNy1qxIpPdgjwNGk6k+HxjGzz/7uu14bGuQYeeUNUoahJOW3CtO0Ol29UPkdDzKTx5IT6OZcXDa4FNs3OzgD1M8oXuozD+eogliZ5AtCpcT49ytYvfdtTTspyBr4vvnx1WClEKIMhWtcZnlyXWVpnwVz2+2goPnAAAAVUGeHkUVLCv/B7fkJbxPPbPXiqQAmRb5Gk967FQe53N2FtRdn5isD60cxAZ3oFNjIu6WeglPm+ToCxAAPswl57GvI81N123ouXIsBrJ0XOqsjN1QJOAAAAAxAZ49dEJ/CSMDqUg+5PIAPv0xmWXc/BR3O0AtqKWaH3/Rag5AAgosxTki2RqkIQApIAAAADgBnj9qQn8JMboglHAhaanpAAWdSOY9mvDfpvMYZ2/LMzBjTfGqACoOsF+ss+UUZ0sobcZdZGgpoQAAASBBmiNJqEFsmUwIb//+p4ZNp/zSTTSVSAsAC4qy4as6pSWLljOZQ9lULFUcxz/NBHCen1osaFOYYwGhuqr52bI4d8XK9qg3yEbdbfVfuK4dLFNgZrGCm2f5ILWVcZ4boqFL2ukq9EudWwd8e72FjgcaPix2EREkwf3QTWbEIyl8AT60NQzH/RFdA/eqf0Km2z0WrLQFB91DRlGDcMM2evw/HhL33a0yWjj68Ov6SSDy+BtezBsMZenxmqliHXwA/JBlIsUii5lgL0lsgkQzUmCDDb/Xul+DLl9jfi5OrFoJ3u/RquXgXQHuPow01dBNBb6bbTbPNR0g4jHfPgHOzgG8MW5oB84bK5sr3ZaTwcUH+Bh152NKgCMvSSRohq+gDKgAAABXQZ5BRRUsK/8HvViajpvRQfwAmq2c+Un2y5k8LocLmGCT1Xa4lWabmPu0QDULmOH9vDDggXpJ/8XjXiDRUOuAU7HS8v/fyStQHfrLfNLLa4tbl0rfYKqBAAAAaAGeYmpCfwf40qSs9Y3AnVd1uYxvK2Ls8WKqv3ACUrAiIZn3ofmg8E2mdkLuj/Uj0Ia9YmSgnaetNx63QwrAJLmS1r9E3tv49Lx49NZJB9eiGwPyGVmVMASfxtZsnAPoRMze/20tvktoAAABpEGaZ0moQWyZTAhv//6nhXxWu+uACVHrj7e8e7CAXABwpfn6LrMkhu9UKs2mFwb7m+7ViXaJ38tUWxLNmlVGG2g0QADQD368uVF+HmAEkvyEsK0Re0cqHG21fnyx7VMs2R6Q4h/LakvBWIH5YKSTtT8cihBY8e7zozv/zi0rvoTSYJvGxrZbyae6mxagCPJ/JjGzGSAzD2KJdI9pRXfnJoSf3Z8K7024tRBtB/mQel5Fd6mEworh/iTpVSJNu77tqJT5Z740cpftKuRWmHf3ieDAikucERgxOjGzYGp+XNsasEQYg7jh2TazvqBy7JjzbXpCyiwzXI4kIpjcfbFTnOsO2hZFooovXfRwdeKQseJhkqyPs0i1HwaYtEI6H83sAGNWS015qe0yr/EbwvQhKCMpErBYDbzCDE3i10j9NrdBWbnKfsUf3j8iFVMmxPhLUdSXhbtpaYjSeEjC8u76Gy041PRIRWeIAtjiHy9P3ysekr/F1dlRcKghuda3ceDyY3SKVaJQ5vu0CT6kau9mQpUsGng12yKpcnOjvVKgppldMLABNwAAALNBnoVFFSwr/wcQZCXVwACMcXjMcVwGgnxu3Oo+7FvcLHbYFCNkbJ69dHBX9UpZhv+4PemOzwk5q057gupeq1fmrXvR9xcHYO7TRWK0jd9WBoy06so6etv1RHe9PWk0mDHgb49rx+te/rOrbodeZchIohvIbaSl3vfM0HP3tZnf8422mcgFtSrZtW5zNj2To15esd7BOcgSGmAoXy3Vr6SECNgQO4bzJggQSQAg3lhnn/w1IQAAAHUBnqR0Qn8IY2yKmqPK5GygBWdoIxft0mC5FGVkQeJiMl0OxqnlhN7tqm8UdSMUO1zSvFYjl9ZWJEmGBZF4B2+mctKJH9fTI+nTBKt85pOLSIjJNio/Qhw2UqNPFSTmC0PoHvDqOhB2OF7dhoBVey6aFDwIVMEAAACSAZ6makJ/CHjLoe2BDleYar/SqUlUYQ7PcGgA+bzq7uIaEBdIuMixPEy/2HJOIsbYhXSIQHesIP5oYLinwbURG1nxCu9zKQnBp6TTchPsIkdRWlsw6EHu7whmIur+rWlfzNjNdSG7oPu6PnZOMOx3ReHwQSL2UG6TjoChJZON4YSQOQZrVcQnLZwFhJ14cMeCTcEAAAGLQZqqSahBbJlMCG///qeI0efgfF6AA/Gpcn0R53h3hCEZhBbs+hpAwim5frq+yDZq5xX2EafQyMIm8OgjvhU1xy7kbVenzutCsRh8wSxUu/FGioK79mOLeHC4Y6LKIaIEqkrt/eFw7I5otoPL9248fRJC/yFIAm67UaDwJrBtwABXPbaxYpOsMcEI/gfyrb94xPMsUidUHxl2s5hDasNzVAwfI1MaqWSz+dSXGuiSoFCmkS2VuEa6E6QAOuVe21LaIOBII5WRZxumVQW480BlQfW7TL+bzWEsd77feJwZUACC62Mjw97ySsdNhwLNEhKpRu1ym+jrXKYRibpFqIy0xP1nkZgWOO+39fYD6V+lM6eN4wIzgGi4PiE2dlar3s9XDy9kL+k/gl7+wOVcFUcmOEnwmjhqyl2FDETIZZ5OmD5q0iNBHHDD0wkEtDYD6UgrigAUIv2YIH93qxD3gcW2DC2YoycPKzIeFwZMYCNC6LJsqfzZqTwPQUw/5T9ZzUqS6ZdlqcMY3ZkArYAAAADoQZ7IRRUsK/8KwRpAHpTEsr3WjmMs+XXpTkGGY0qShsyihWeGK5ksYkDU9W38LfDlMYEcx7DW13dshBej3cqXdasysg4JUSZTk5DGLJAjvqEBSwdlOXlwgw/5hDxbtiL6+O/kbcIzjEDUWDT26cXrSyuTLF1lggUZXfPHa/HwmFBdBU1wqpGreM203kZGzLOb2wABN4+8drpbdauk2kXHHQ/MCwFiciasOHAiX+q8LDxmSEqJEAa5EV1MBnr93WyTiuWXC09267ebI2VTktLIe+qW0KweKXlYl6RJZViqumuUqjgEg4jegAAAAMsBnulqQn8McXXKoFlmQns8AOP7TgS5dZA69kdHimlMJ5NkkzoWJrXYa9UVs+UeiGyVK08+VHv7RpX3W76qFo7NIxHUdlnr/rU9RMKYBg5E6YZ4JlbEPmQHa5XDno/S1nFJYY4LW4qyoaffF73MnfFLSheJQsqMR5xZAX8KA90qKrNOrPXHNAXETyh5b8BhQU0EVdn+YRq5dvLc4Ec0SSgYuuo7mDMBhBIuIJmvMIq4j79k2E/KCZ/D/Tgos5uvDbF4oLNL0yTrm1NFwQAAAYNBmu5JqEFsmUwIb//+p4hwKHC1dAA4tVhZUxtNbf41O7zjiK+WAQ0NfB53qC5UtC9bfP2xQfvMDHD28ZQ8mCcU7cEtSr+d8/UG0Hbkk+FLk16uhv2WRj30YQLSuzIqpbwMCg7P/AUUXut93DwtT0MmYlGb6VruAACnTSAdwOGdf/i2OcifQwjNQ7o2d9iVBsmxi60QUHbFuihnpmK+Wq4VR1j7iOwi9T0vm2KFQQu+T29EIbDjtSTXN2rzs2bZIKsm2SesR1wwM4NiY/WRpn592pp/Cd+WECrdmhIP+8q33K7C/EE95x+AoC5EZIJH3J2LvNTDxXpP7cjBdE4M1vMMet9FXb2e78tXhXJpOQ4YhdsFm5wu1juwBMsGJktA1RaIcUJFQtq0qxAY/EyzfrKQDoBhfW02bG5j3rfRROqBLUC702CKQx7aCli7rzapJOPgfJ1dx6ApD4BxXAlUbddxYBYjkjESmLLN0L1QW65VqMJZjWZxDb3DjW7FfVYmW+NAUkAAAADiQZ8MRRUsK/8JdQA8y1cGVq8aYASQlDReEowGUoxeqooDbOnidgrXZMDS2haWAzLOBQiMzDGoEMw8ro6/Z62ee53fCO1rZTUPb6Q0NlYHCmGAq+ZgP4g5I6O0PPbP9ZVmCwTnuAJU8QFPC1XYo9+vN71lPGIRmgwZY1WmQ4WAwXMfdu19TbipKIzOigrosc+OLvsTi0XAK/YigoZyvHfsynYjxPCf20ZH0mwv/5GLTlRWBJN0IgjcRZsUVruHT5PG3BAKzfBiXiH9ZTS7W0/YSf4gAADvojnvxcuKzAybzoBowAAAANwBnyt0Qn8Mrt0AIR4z4AGawrHkBmhnppFS1r1aMs+TyTR7aNsGuhCwlMHmy3eSkJcWZJTJ0cBKvwrhr6T8KKqHZUnP7iOUe6UmgypKPUzra61hwWhMBHi6G+NCQtT90b4BFz1mz57X9KSSo1J+jfAV+cX1wtnLjG4QQ+0sxCj/Qb046x+bd3MQSYne5uVfz9fLHShKskWEtrTkTkd8yAmVAXCY6wrR8DlSuOj5YKKW7prpc64XwTV87PUclwqTFAqpILaKN0vs4bydDmOyR0AJa4YF5vEGysachFxBAAAA1wGfLWpCfwxxi2rDCAEZEPmydrzn36dcLQzkSYTNoyUPgEjnwOTnpeN/utmhf67PBsPuJVYwWz0i7JZ303n5D9i+k/k1E3YIeWNbHS6KDjOS8cuz854rLfR4u14biJooD/zpJUnPmmBPtVFvyLdH+6f8mIawE240Pnpxg/AzZ3VTZ7Mxu9WP7xqU4uwVBK2mAy77hv3bY6V+a2upVjEquLtMwWZYXBDlnbL155kJhuZx5UBmhKXSPQfSpXB3SYCzIFUKLxQq8CAASRYECBNG5kP5jANZJ9TBAAABM0GbMkmoQWyZTAhv//6nhw2N3EE/uHJhAUAWel6qwQJx/6Cnh5RtT1YAT7cQACaicuzCYi1ZgKZjfmlermvZ4xhiVrzkeZHyZR5Ou+HBLhgcrDAnl2XeMgl0Oi3lNX1QCvtf37hYckpBsVbJlUayaME0N8D+93dSDzZrnDEEnGQ/7ClnEp+vsiaNdMhGiGF8WcmVDNnaAkZKySnkGjNJt5TicPZBTuIedoua+PbpnYzqLqWQWmx2S9v0WMuaHzFZE2fRSPzT8gOHSb9/o0AnYmHMwkQAtXrpykFjJk0Bxr9BtcoO5ckQf3c+mWTCD7uy1UWJZs+p6zc4dOR4bTLdBuCYdhfwCXkwYqk1KoO5+ICvnGLx/XV7wLsXXljp17SA14Sw3dFDoyISjsR3mV82+8fgCHkAAADdQZ9QRRUsK/8IjQh++2kMza26kXjScA5e16kD/z15xcITWGwA49pw6r86OU/EAol/3LowVoEpbYxYt5HxKV2/3vSzDuPMUuTvNEyKh0xHHO/vsRDH1hdfH+9bf40KKgvkk3oFH1J+xljst41OcKV87NkAvKHX2HMN3JOTRoS8dQvGhcXf903HTUZeGu2mrear7zGNTojXwQiuRqXCh3HbVxiaeU6/ientyMEpznQkXdEKmBBpOYw1CzwEIzfAViPQ3kIlpQjIEsP7NH3rvAAAM0ne+UEsGgoGKMWAouAAAADCAZ9vdEJ/CiaPVwxAqNm2aW8z8Fw6QSvPZTyM4fYSVfm7XFl++jKxey0cFiVJi59Dc40/GZnAun0ojaLtRycdeFboLi6Bt6EG6gDJ9HsR8pYSePPKh/4LWaXsZaMp5j55J1T1ovxsWWwDeCdzV8XpFckAZOcSU389MuZEMpMpHReZU8qx431XoTQQjMPMHSt79QE3gf/um083b9iKkDWRYKRKe1yu735wAAY5020FND/P0Y25/3d88Xg7Dg8Bh52+2FAAAAC+AZ9xakJ/BzL/KqwWDhdZABcRnLJGAx3gRd68KZK6VMwOLtHwofnxWPh/zM3qFrfUjknKfooMHF2TrjmtHmj6PP9WkHlznW1DjdshsfxCeFZl1EI7McMy3vOlNXvvhV1vwoOsIa8jhk3b4xmDWyT4/G4I+M8ZnHvY/aUd709NThAUBkFk9xnUOO5KCACiEalgKgev9wZyJ4ed7drUkTZxOnRbD5WefrM0CxK/8Q7+/X4/cpfwPCRniNw+h3qLgQAAAUFBm3ZJqEFsmUwIb//+p4Te2yoYkrjjT7DLQH0kXNSPpcRO+/0UI6hKyty65kn1sReGECVIFMZI/4NxpGkR/95d3fKHpgV0VoidOPyxbXb3f/fuXEtFQ1IfZw8f1l86TURd77tZL/fI1u+Fm9jE2GNalT++JMkBPTYQtvJesHnq0NclBbRXP3P0PnzzkE9BGr6l9HpFDKPZwUh6nNBNFe58/NCbVd+XvjbLHjynZDIxAjTMisYYRuA1VSfW9qdpO1DTRFGTOkDs3Uj+l7hqBRkxpNtL86vLkSQ3xCq5AqJ8yBrI0nHw8ADwZqPIapwQkrB7MLsuTuYLoiqJeX4BiXM7G3sHkEqECb0+mbtjT5jsG2ApZ+aalYh9ZZJ5TXhof7zaDMJiUu311WsAWCABiOkEHC5KUbpW6FyRN+4TLdcAoIAAAADiQZ+URRUsK/8F7uzJe2Uec/yvvAd+/vgBt27QmqwScexVtOybUJSSk49unopS5MSwUocY+G6xZlyq0sTQT7paOVCKyjriAwGj4Gih5m38SZPBPtuFzVi4z3OYwCSsee3+meW4XiKYx7tWOEidlfaIMHujtKkGs8MkCLjLvbHnfVflMbi+Wu9DS5QvC2dpTPOzeiUzo7O25YfcrbTomNXMaiU02W3pf+5YqdJBa95t3c2ua1R7KjDdQzk5MwVzMSy3+o7iV16PUViob0Q5oVsqZZUr/UdACItCqp/d4TGF4ngmzAAAAN0Bn7N0Qn8HMFx0AqfH3wuNJnfVbfWr8BNq6koJJVzV+AHPN2tfnuOjdmvR1RHV58uZ7jUOcpsFljhsd/eetNbZexznxvHm3eXwVn+mk8RMlb36nxu/AbWcgwBdW80ri1TmzVWrUHkDWTpfNcfUvxYgHgrb+VSNfNJyzMtawYlkwiLPBG7rSZa0jGHfpffSA6Rg79vNBM3Ntl5JoDivPZ6Pu04gAtj4NDTwajq4jNuSOFWAiJUXVqykf+UeRCaZdEGw+qzLZPTZx4qWc8bhJ4E6OrXNAlQ/+qPVfUj0gQAAAOEBn7VqQn8HLrXul0K/74rKfZfo2QArihFMmlUjuTMx2vdoISfQ5SHwNci4JnZHYXXnWK4CdFmVp7jZgaIQpcilk8b+nueOl2Nl13UHeJofIN473I3Bdi1ZIgma5xhlfNBi+oCvhPNgpXMwggMeS8n8k9x66Tjbol6+Tn/q6ZzA7vXLTFqN4AtI/xL2W6l5ywB7mAbm1Y0Twb77QXZclYqHuB1FdzAqyDXwp2p/B8A586nAmW8QVszPOZRvkYzadkyROFb+JMVayn5pLc/B7KyBT0Uqoyh/PFCXRqfZ97XYF3AAAAFLQZu6SahBbJlMCG///qeEYnFRcSLsdxAEQSyiNwxFG4a/dZVU88rwOJ67PQUFBbLdq2s3g/2Mr5A9tqilUNRE/e/rVzksvpIloyUMRoQ8h6fa/UVY1uDt14gyz8BA/8znkOHxWHsUJW4mk+YYx8W8r7is4WODYMSI3BtlpvW+Aiu3rOOIMww9/5VKJwfIrea/bnXRjil71GhryWnbRgF1ocLcMPoHyvUe/lz1zrLImvbpfKjoOs2lIh2sXyWYarVH8wyF9lowudtq5HD0fFVSjZF0e1+7BkK/l9jSPffldpbAxTDuVT1ieua/MC3qPegYk21dFXgQf1aQ10qHILBhhMD6yRHuCKfgAs17Ryo9GJTJ4G5xtEmAlmpmirI51NeaH1DnjVOlP93oM0wZ1N+2gDP25H9Agywv7VAmZ85b8IWl+0i2PgFOAACbgQAAANlBn9hFFSwr/wSs9/hOIAbrjytHM3+zkhCjCfnYqYQ6HECxVQz9Rs/u3Cz5t/Gg1evsKCj2JkuCJfAl2wLaViwdhTuc0jRD0fj0YWs0k5htjPifOlx4iQgv9dnU4rhJ2AkpgvXub1GVWxXvl06WIHSjBOgLoN8H+Y+CNRe1mpRkiYGV5TThhuTo3QG1Yz7pTPgqro+RWuZCNmIqTwRtRLO3lcCk91EZx3WW6SjCpefGkUgxPnRGACZSjTWIgr1ZD96mVDduNLRsnQvqJ5AVUBhrxXv4f2sCgbm5AAAAtwGf93RCfwXHlNZfABaEeIoeMDYRoUDGNDtTJXRkNSA1IyvZSLQudgg+k6dLUETF7pmFHmNV/IzgisGQrBk7w0q0K3zpHtqZsWlnxthPIrmDvGXP5h13K9sLg8tqx5PgL1h8jZyrPOiVzcJ7FX6GusjHxbnkTjqjpL/UOyR3K//yoww2IuYlk8vayiHJXrAyerUxauoWn3iXsrbakzG/4tNY/wlXB4hE905zM3/xIZUdeioNiBYH+AAAALYBn/lqQn8FGFSv+liAFAZ7VyAkz67QpRCVzq7GnL+MBt4WlYE9l5DQ+4N9hVMbOmfUUnWAgJeBhfN3+2NnCtjv6v+0LUN67G3kN92gpBOrxsLy1tZrD88RMlXG5hozCFCLI2JK/PP9GHIch2tZMIBeczXy4y+yDOWCdDmiRbpjs9wx7wWO+ksiTevvrOgxuMeprOhn4SRm19J4i7PVOan0ofRX2SaGkw1OWLBoMD9QsBsU7OLOXwAAARFBm/5JqEFsmUwIb//+p4Qkt86bz2nwVG4jcY0+Hy8aWkz24Dk8eY6UVCs8eCFxbokd+YjrT9OoZwaGywR8i3uTTO1H9wS1+vlpi5tLze9v8iom0A6Z5gK1IfYTrOf5SGbVommCQdh/nwliCK7wRNDQTy3Z43CQGUfA+xPQ16QqpOyUNtI7Br1daSeReGt+vfXU/IphJw5aAPBqGuICKWu/CFYRdEZZLAAhff8fpyfisZEWbNvKVYVQnGtnXu1VJxWd1V06dzgOBmA1/aJuvcIYP6P+6EBG0uuaDkXuwOtxH2Shwza8N/ANLX08zS8y5To6MSuOHaI1gmeUlZazKYaO0CBUJ0K6mDgmJwjQEAYAGZAAAAC4QZ4cRRUsK/8Dm0D0uYEwTWPYgQYg0pToK9E4KuDuO3oAWPcrSDV3ZjZCFxouXSHy5p02oz5/RGa4p5JfuErnYlJcmz2yy+M7JyS1aeljgFQbUQEsEKYP7A0EBBQmjm07NPI2ayRrFklHScFZtpaSz2I686jhxWUwXrYLrhedxtO8nQ9s5YB7SzO/cTPMjL11bLgCS2x6qnMUlSWeS3okQ+X2KVxc0s1B8lqkHiQ5V+sMtbfZ6DjBqQAAAJkBnjt0Qn8EhpjILN1/EWKE+ACm5MTiHBNG4oeztkgBwWGOiOGAdhJ1M1e3XYyvBADfknebq2Wj93HBV8pw07m7onay1ZktTgds2G58lkeucBRtZ/0LYPpuwUArMPm9juc2NVEyZwzGb4cIvYbq4dJFkQKr+1WGdfI6/w80jOV10h503Ftn8n3mFR4g7pjCp4B+ctWxKLkRi2kAAADwAZ49akJ/AZnzgsYGUAsVJ6llwMVBYAFrnGOiOF1pWrzPqJcmJDA/pl8I3eSms2443oobij58Ogqb/gkcONKawektoyqWuf/IQanzAasv9cSWS9JRju+TE7tM750vM/O+CnEXuRDpkEZceM1V0i/ECuaTCug8eAW/OkPJlTtO9v6NufRMGkCcwWWKPbyVxQu4/hu1Bn1yoWov+PUAtqKs2E/aZVXnPsGWhaZZ7jG/qNjKsNFQoq1xsLrI9Ot44eheoUfUwqi/JHAFWnE+XCGc9Wp8E+whf9JCKr9jU48W7OEKhwd5fw0GXyj5forrn4GAAAABPUGaIkmoQWyZTAhv//6nhAGR03tQn4u4Pg/53XB1dGACUuSsAcHz1UVwy9PAqAMyP1YhgTtMflEax5OrE1yXklkq854//6qbVOTpUlx7MYwDonpvv8+xmBpPlvhtR6aBasB/zZPBFbwypSOe+iLNWAUVgyelLhQCTE17QCNNm3Q6T5pIx0q/c6LrBj7vgOCcVCyRnq52gSPq92XV/MSZY5PYjip73ukCpUmmuSgEmZuI+q1Faj7wneEcuvoB6rOEr/Be547raKUVEk6H+QX8tnJi79hdU22IMtp+WEG+rnayk1w8ed/QT7zWlHfYeyinsX1YXESjKaMGzGpF+RMnJ/YX+Ihe5Lb3CgoaqVkkERtlJcepbhft46iAgFzAaVhRDhTdDNwzkDi3pDPAfHF0hNixcbsgOX/m2xgZQAJuAAAAyEGeQEUVLCv/ATaZMQFC+2Lcq3rkL5iJo9dBtn0NKSNDtfOxFsMNPQ0uCaAFUwuB1GtGjtVRmxY9EiGE7e0NsUzbu/Oj/rkZG2JA5oEW/LE1coK3pfeWNc/PLOMvacBqNMstlOZSmgz6BYfmRSCWjmUfjmUNRXpbAtVxFrHkrj7fuH/kc0dhst72o9oi79r5iHCLMPJQcYpKM0/nM0tyQHnvc0PAmTCZJupByv/9fpKOY7DEyJeIBjZAuguh9hWlk9M0ourOYSlJAAAAwQGef3RCfwGQOUAeILQykALmJ0gMQ0dE007j4ZAgBUYM4m7pfKlVRkF5UQkqXrLOoho+4vC2VLdijZGoqO6F4TpjsMyrSYsP4Upu6ZSdiprEEvHok4yda61STPGjf0FA34EYuVziy6VR4bGwPiNBpOXbZTg1M++/GQttRvqZQvonG3Fu9k5IcBHQjiMjXRHyK8/oBvO6zVKWNHI9yFtqIg2dkzMD04ZG7my9RZtGaJGsr4TextmGdVFYba11WME9DCgAAACwAZ5hakJ/AYwWg+EXQc1qHANssgo465cqzw0NVrTyiAD3HlgrIRgkt37n19sPfoYxjCCd0v2pzV0w0UkYyf4lJ8xmE6ywXRqJE75jLGfPDu8kzxDNOKr3DqlxOlb8Mv+0djna7BPOAlHgJFQWlglvdLGJstqOwfi9N22N57DZZRFt0edypuD/m3arLjlzlMp5WTTms3HYtJX98KR8W3Gk+M0GIh5vRoAW0GLZ84H3ATsAAAENQZpmSahBbJlMCG///qeEAZHTe1CMd91S2GatwANAbWFCQsKZLmyV6Ux75ft4ryJ20JyKlIgFgLpd6ow4iNz1cJrIFu1hfKWTRildg+dNdBsICTa0znE1hCAyRv0AlA9G4t0q+oLlOry+EnKtnqGUMeISCZggTbh17AKzdZvoDSWx6KbB3qJOWNolTjuokaVN6aS99txDKnc51PNistGg56e3Ao9JedzOVdt2UucpkmvcqJhpKnFmynYIVwybaED4KRSk2xk93/tfXCf0pGHcN62mQLlWwPGSLZxK1W261JFxUmKwxe7wpVzsQ6qSmUUv+X1hSblXQ1HDwKHifo+GDfJA0tTEDKL2TROwA3oAAADcQZ6ERRUsK/8BNpH77qqoO61IFlZmUoX9uXx/FmAKgBLZztnJktThCD8MA7CziWrpBKFGTm3Xv8/INw3bhzMQWKEfXptV0iYM251WPsqWlTNzZIo+0mUesglKTXrFLddUfQx1FlroHUazfSGyUvS8UT5YbDWa4tGzTRzqI285oTsXiJzzF62T1xJY01o9b9utzrG6UkNmUPvYHQqaFT49gCwOBArN1uN5/HUCFdBbZDaGyKmasyXNvNhUmJ5aKZMVw03fxOK0OxCIEYQ/2DoKFDoY5D1oy3qVNuAScQAAAK8BnqN0Qn8Bj/OOfT6c0cs/bDQaCyXgGliCZefnWn5QMLQSQ9qBsAJkYXpKepSJ963giT7RAVSX9Zz9uPWSeonNxchZBKO2MSjFi67a7VyI7E5sKMzRxiCqi007kE1pYu3Uj0agxdQSP4JQ5/71wL/cPF7Ld1Fumwp2h6juuLpJuJ0kbLBw5ko0LvNv58sjbBH46v9EouJiTFfL28xAsdpgXyBEpzeCGOGeqW/m9M45AAAA1wGepWpCfwCbCXn8eJbGdMeuXxdFd/hK+wAAsC4eF3m6U8UdFWdj9ltqrX1hwoCSd2KojswqAoFY9XSkd7s6b7q0/zhPUG3HQw+UgzYQTyVhEhKSHvDfMcgvBt+AWae0gH8q70tkfYYl75oVRskRKJOPCSR8awCLrvp7azkj8PCS3px4a+wtSb4L3u75GOZM7v0XhiIKF3srvxc4Og4ojr/O9Odqr7MYZ3AJsyACRpM7epIo67spu4gxl6GjUrVTfdKE4LsB2ahL9tx4xAgAjVF5sGd8blBBAAABCkGaqkmoQWyZTAhv//6nhAFbIBIAOlchKok3k8X9nxrMc0RJ8GHnaB0h3LWEZAHdZSaXJXIVAgZcodQogxWJHJPWRgaUhYYQ1OYeCluP7/Q/5QAhpYN/0IkN1qLWtJYtQI48W+Bipb6eIn4CNlT59zkCXvNuaUzs9/xJKlZUpps1/Y2mMyys0O6bnSNnTYgoezD1BvjOeoIXi/9oNKD2G9hvyCVlW7O/m2Z60o6aUos7DxIY2Z3p4sHC7FrYbYnrgmXSlfe4XpXq+WUn9yYI6BnXSEXNZjOIFXB0YkMFwz9irwtKJy8PjBJVElkwM7XDA9buzI3aI0PApfgf1zEiHshHlfxgWkjAABWxAAAA5UGeyEUVLCv/ATu3NWBBjoKGCv6mDWOfh/wNiVZwn/zAC0Vrta1Sf99uNO3Cf9nTki+VnQbgNrI2Fu2yJoAhMoPdqABchW5QstR0S1ooZ1ZlUA0dFW6NcCwUDptaKi+6SL4QQxxHOjSrreT7VeaS9Tw+a/hAbpkB4k6D+6mRLBSe0jnUI3+QGhZ6YzrrlJ4Icnn5CBNX0YJnqwlP2EE1fhjvW3TE4BbYSCR1ThgLSosJzg8vZoaBeUeE6WKbwDj3ilguhzzESSsquk4nmUThj5PKImgRz/javQx9JzCIBdFCXf4A1oAAAADEAZ7ndEJ/AZnzQrAP35s8rp1UMZgAcWXnTr6t6GQA/L35lO6uAIyjkQnUDoUOuBsZVKXhaN/expNM9jhoqZ2blXZNPT3S26rwAhUNURmgbkNWL89mZOOByM0L7T4OHOsJWMJRMlhVccQjdczKulEB4rUJRiMZrnoBQxK+PIMfC0H1kCEF7MsoPVOTAyoIxX3U17PTa3EIBXHnRObi/0alV/dQhxQPGkodwFkxLnXrI5hiYQ4s66E//J8NQpFkVv+DuSkO6AAAAKwBnulqQn8BardaaQ3pE0eYSjMhvrkUAKiDm0TZ0HvOYxuL+Ss3mjMS/7Vr4ppChzZlnEpyMBOT0rBy5Ek6WhbFXWC2q8kUGEq8vZDxtHcVhX1JzyzmYu/hpOawPdv5V9bHpQb1Flx6Es45NY0QBU5LUSGzrtVcaaIZCTuP7nrYu6coUShzOHbGxugIOuZH/g+EaNyQ0HnlbYXJCkNBLT/F5ABczD89jNNnnGzBAAAA/EGa7kmoQWyZTAhv//6nhAFd9lPwXGzXdBjWZymd5JmD8C5VGgvc3Ofv4m45VEBrcj+QcyniRi6WwdNUG3rygIJG5TS+6lS31U5afZR0OEyDXcD/+94WNXlKlovsVsB8PR3f/1DmTwhOHKP+j9Xt/A+UuIhCdCLt1LEgrjl86caGlAsNN5c77K2VBkNRmx9c6CF9LNrx3HVEuueFR/1BvlP2RdFnLjZb6vqZt2RcLZclgX+mJSkX+1G4eFBSa7d/9WOxUVZ3zO032tFfCDqUOcqWb3nLJtI7lAfeRIK/g3No+73hniXwkIlHK6Yml6evm1a5THx37HvGAAAWUAAAAONBnwxFFSwr/wEWkJ6bd41COpj9ofVu6207UTH47AVyvcgxaSPwMeNH1xEYQAXTQvHURbb20NEbAKRa/3aj94Z+XoReLlvM1FtfnEZdBp5slFeWv5XxDUX9IlLh0/ZLpuWIVMr7xGkcwtaqzj+1fc9mkAlat6vGwBf26yeD8XeMBKuE494KyqFojMzvxzgoVfYcI40T50+/llsd358KySLiiVTca/zxOM1ff1M6PKuwwMu0LEfURVHNiQ47P88tbVUnT1mLBevIgPZIV5TiNTCOfCMJRpF4hjkXyX5QvJbllQDegAAAAK8Bnyt0Qn8BakVBFAAv83/P4L7qZtNm+PHA43vBvNcM0/d5hvEKP1oj7mLSEfH35QCaCfG2LimCAq0hoB5MwROrHELCYNKhV3RT8ALRfNDCcWmdtg9OcbvGqlBPV37pvoYmivu7CkMQGRj6sKlfaOV4nQw7HNThRk0pprI8bnpgeXFSSVG+qTI0DgJ9f43tie/RHWjfomSCz+fwwRgxXL/hNrIRy/ADH/7CvwtxJlfBAAAA2AGfLWpCfwCRKXfFxmNXkANOshxWkJKz3jfgd8ipjSUh3qhb6cxO5eZ3ikJNKBr0EpLaJT9SyhQKkxsxIOX1RWTPQkL/cZoGIYWviOoO+rMwyXSJhzlgUM+/z0QmGnMHFiDcQEL+hjOatb5wiRfa+BuhGfBlq6X3lkv+zFgT+draHsy/OGtOlQmGWzmGum2Dbs8mj8jhvURrlLJLiA6m+gF0MmvORkg6+BudbxdugD7777PsugsSLjIQ8/p4ruk+VikhVTW9sw2B8lktVpgABRjW5LUdu+JR8QAAAP1BmzJJqEFsmUwIb//+p4QAefhPmb4ASW4z1Tp18wPrmbWUBXl57MuMPt8dXOASBovc/3vkveRk+js9gTyHvFZOhZIkK1HPJSDjpnYyn5VxdsL2q17HnyGfGyBSFEU5j194oxHL4/VY9rRYYKRRu8AWsYilHQx42Dsd/duBoHr/g7emHvG4q1PLIf/qeEBbWZ9WzZNotLV4BBouP/FFb3fKii8oD43y3JMH0J7Asn+36CYVxzIV6EqheC6f6iu7GfrXnaJcNnThEg0ivTGYjO56EmToRm1f3+WwXhcdgR2i+BUaKDFh7ZzCXYoWSEoGtzgZmwHioA8pX5u+AGrBAAAAxUGfUEUVLCv/AH8r4WJ6Uvg15fG6AGuXTmmMhjkYlfuh2spWU1chOhA/UIy43z0yLMQs9ToDGIpCTNFImvVlcqoT0kLQ302EXmvFRo2KZRecfrDxRN+TPBwSRxx2lKe+JOH+63UfrZ3InD6+2Qb7kngppG5HagBGkuier9eyOuC2yLdIRQSsGy7EvKzXkcV3dxhDL8v0SJ2+k5IPmWTf71rHRCymadsh74/LZgCmajwx4lJfiG1Eq4DoetwE+jkVhui/mO6AAAAAtgGfb3RCfwCatZMFuAC1fQH6MkGjPlSqCb/6DIsjQdwTYCdwXXc/7tlRf/fyisAigwB7+XP5Xmr6DbueTivnJ2/UFI11kIwHzHSJaKkcporThjqOQJi1ojDhEVUq/49CBNyyGNMFdd3N1SAErpv1VizkM0CuIb6SoAGPOU9Gueg8Mb/gFmoB59pwi2Iqol7ViRTt0a0AFtsHw0FNmBzBLOGIla8XXwBQILarRh6DAQXRo0CSXYjYAAAApAGfcWpCfwCGwrUpZ8363oAWCc4w95TQynKYhPuYp/gNbi8ThXxVRtJhs9gNSFNaYoiYVZFNAaYGJHzzh9hJV+jCjFpGv5I2oUXq9Pv3HWn8o5BbuCidqV0d2qfqibA4mkrDt4MRSiTO9uwjSgY0bHeZrJmTqFT8iWDz1yGehUUAR3R1qwTUnrDKHe0AQwjuoo3uW3WARXwaj8rE03R9bJ5+2c+BAAAA/kGbdkmoQWyZTAhv//6nhAB5/ZT8FzB1wmT+3GIgqaFfNvsCqzb2nVb7ryXwgAyJek1j9UXvysbMYy7Q3W+syr+Ab1+0eMY3VZ5fN8nfDp+jkNGd7/QAOgMOSetXZk9lmxkVUgmgfTN/uIRqSLt18bvPExMbkqVn3Z0uumpaebrw7a7nwb8DnYRJiGYhdTaIJx7i4DG04LHZiZJcIavQsbMSsTJM0lkOC/02bz0vdLc4tIR7N9hSlEGaHYE9o7XaxtlJJpWbH/CbBf3o31bG7rX3YeugMf0Xk4eyUOTGLIc+aDZzFFWki2PSsIg7GenoAdRkfkQD3UUDYeaEACLgAAAAmEGflEUVLCv/AH8r2jJmYOoo0Kn8TqpnKZSoQA3MF++MyHOPr7f3tv2tg/xh7QoFBUkqiPwnnlAsBVzrOgFcuA4oPuEnRMhZKTQ8jXCcxmdPH5eIt3olYW+W91vwxCcvu4B9X/2bKx+qL7VV9VioexL4x2GYB7ucHIP4RG5zNnJxJFym6k2jgAZB6NahQLgUr5aJiO7Ic0toAAAAgwGfs3RCfwFQbXgGr497ZM9unmOnMp3rPWCN5aZXmpIbJRa13Z8nuK6b3qDiKCkfCJTibNwakvyLaIGnTQVBiApZkuMPsPQcIx3T91kTvjMSSCjvU/03ooW1V9REvaYvySu51Jt1LHHPaCygnJR+v1Lg1pIoLBAhIa5gaUZR05szygdNAAAAbwGftWpCfwA3Ug0UPgGr5X7cxF24o7/Dkz9DOjoJ2y2xhqgLZQ73386CgQXwb+u55GWAA3s3t3ssdmV3ykVsl5gvGxzspkk3AwHfOMu8DdRXTjgHdCjsYZ/ORgA+ItICQjuWdIlO4k0kWu/QWWB0wAAAAP9Bm7pJqEFsmUwIb//+p4QAFI57ELN+JPRBR7m33iKMRnbtjGJ2UAw3Q4WUE1j1nyCxFgaeL8S5mG39l2/86krklWAh6NElx8KPXYEMej/DzLdxKyaH6ziG+LXUQnuDq3JAaBUtsNeapT6OhT+BHQUgC5n/PPVNhkRbMYbBrJKVOr5LtgjK1ATNyNwfGmJ7WtDgFBiMHTzAa8mZhIAbSjdPxUqlUdMik1IeiAuKAjHqvj9X/orIDIBzSQykePhj/uHuqOVo5Dt6flelwwsmz72gWYJ0eviTwLlQ0s/J6fRU22Tb1fY5gbjbg7/mM8x/fls5OS8RFh9Oj8iOumTAA/0AAACDQZ/YRRUsK/8AfyvRhqe8KcfhbNkAJl4FMGZDsbGNtFTf47rTxA74BA523944qM0ynou8MYMQW26AebAQ90U1/8GuOC8CTyEw7yyICaiR837sEjSQy8RGzLZ94+ZK0m1bTLbyzgQFD26X4buZFc/QKQoBK/23RvVeJUwCeTJhsK41AccAAACIAZ/3dEJ/ABWfUhnrykizw/pv28gBa0Q1R3YH7FUwUgfI5SliRud+kK/2VMtEs55W1XUG0GiHxwA00R2W23GBZhN5ARBA0EuD+vG3wZYu6mZ3Gnqz8cvVUYzccIygqYdxox1zVQ429WkqD459ENSkDfCTl0AcVeDZAFLGsCCyAflmMx34kfZ6QAAAAFwBn/lqQn8AFZVdOiMsmRQy8WnJUP2YHQnADF7MI/WIiXeIRRiFz9rRY/eTjVblQReSSyCRxh84ARpHzbmB6WsWqGUVvMS4mJvnAnVLuJyGTyTc1NxFHIeb2CgHHQAAANlBm/5JqEFsmUwIb//+p4QAFI9or3Sx2CXURppPA3thYUgNwDHQ2QA+/rqZ5QtZvZM2ePxZuDvxw6McQyNXI3cU61TxoiqEMdC4sA3fOSg/jJZpKGbEU1PDrZ6ytOrN3/Gv0Fwu9eIidQ71jNdywk82hkZ4x7IccfCgXX3l1Jnavo8EWihMAcXNeymZSmEFZuuuRauNDVGffovjf3377PwJPr6QZCTrLCG6XTSSr64fDHci1aRxQrGwuDp4Yj/8qDQsHMJfBSgAAW89U6qzOJOjgff1f4Y+ABxwAAAAdUGeHEUVLCv/AH8r0Yay91ZHWTS8TwYUSTjzFkD8Nfin6pipThl4XyPZuMk/SyLs7Ay94wA3cVDGUbkYZkZr/xLGFqhXepZnvHYCFtbLjYndIxgEB9b1DFqPodz9206WBTavJcknQWgtWpcVTZgk6+EJ8AxNwQAAAGgBnjt0Qn8AFZROLb685Pv8iOjhxYdp+ABegF4ocBX7reifXcRgS9olr7XXfqEwJdkBK4E7phqWNG7Suz0veeiAKg9QNwCtiTn19HEZ9hSBNPlGKXRDr9PnLddDRmKFJa0UVUplmzlqQQAAAHIBnj1qQn8ACa7kR4a6q1J5dS+9TmYDfjN6jEaeH9Ophm0MzIK+SMcjyDEQATnuyhJJY60oX4Jrj1u5DiA5k066C88C3A5/fCOYt+BNm7ziMlO/2r902LFpKg0rTXGUjKhc5mDlnH4v2GQ7az08UFr2ZzQAAAE/QZoiSahBbJlMCG///qeEAAefhPMliGR8A1kxaYWS3RqGv6WVrBjPXA13ypryHK9kxsJcomE6WyLHLIGGwyeXMUn/aH03J70Ycc3JgSqftZzRNMo1ChggJCfbkf0SfKGhOMVoBgNtkQU9vveQj0P87Hat7H6H6RSJSbXvb1+zvaEsE05JOtf3ZifExK5CcqSs+bTMWHy6TW+YsBpH9+Myn/Z9P/1vRI4UZ+QVZFRU80LhNi6N8beLU9hJl0BYNuwG25YHUol5NlnIrum8qjuXRdphVkrIoNNS1v5Lgp9PwgFUoOo+ZZgKy5c/nVAkIWBVfYFnMGrm0PI7/ZZGb+slZMbozMJeygng25bgofCFmaZhL9Av2mq0vcpw1dw5/E58h22uOrvcJKGo9HhdLeci0OGjR4FI/f4qSDdPKgA44AAAALVBnkBFFSwr/wB/K9E810+QjNXnSfz7kT5a8xriHUWPluNwDsHpW24N9KC+UzziKIJDobpRDb7aLwHB+rr5pR/TWM34Dz0TtRz7KBXRGJJlTvLol54T86ZfKaaiWm7XVifIBUImY0pP+5Ihyq4VL/ZnW+eQWlOEiyflVy7HCIs4W/bppsHOcZZaX/yxJisgOAA8+75H74D6slBqeYiZU29Qh5hqtk2TKWXFhzU0D+8ewC4OdXEjAAAAlAGef3RCfwAJq1dRMxGmqMIogE4y0PQ8amKJjPht9jMs0F3aQfdChqGrSAuzuvA2EmSIAOK1NLxJJBxH0xXINIAH/4cVjRnH1+i/1/EzK/Br0FYe97kRzjVTwJOcZ+putQiqo5X5Oh/ZVAL+SP46vcvOMsKxyMze8qdFeKWmBXMrJW7r3TcoShwBnwejyaYBr4uWqaAAAACQAZ5hakJ/AAmu473Ic4VQo15B0Zh8uQyETAyJK0AeIBoFFA8hpYjkIsADitfNy9qRCxUITEAG2gAB01dZiQXfvE2K5R7uak4CssF3yLHGmmFN9ls59jpovj3tNl3NK9657vWI8Bb5KMpALqpELf+wCRK3FvGOEgWwZj8xM7xulwYZMs+vHigAfo0jHYcxikI/AAAA6kGaZkmoQWyZTAhv//6nhAAC6AFYRspTwlVEAIKT4tV5wGqip27+09MTzDTcxm6JCZAlBDUxHtyQDI84RaCaa0+7kSOTp28mjn94vbrus74o2LrTr2k12zcxGmJHibFcwrprLuQ/uaPo6qyCy4U2nsO/S7QKlWKi5PCMcVvZ87NV3jKK4LrCUhN0XRuqUHFK+2GNCN5uokCLsbdZgZdS95yp/7vvZJL/RjEnvwjJx2RrkTYJrQDckbMtyhtwhWqwYBwPPB3Nsg2d25OGG8f8lR+j7VATeXHFgqF24dn06q3+2MHqDoHVBADugAAAANRBnoRFFSwr/wB/K9E810K8awVhqAFkXNiAEt7+WErNg7AdVu5ZM4P/XR/DUPsTh1S7hnbUq8QBNhfIXvuw3O+Dl5eGH6JVOtMLm0fP4yN2GbqJL+/HjkoC9ChbmXD5VU2Aqdd5m/+hjBuyJvXWzXb7aH851jf9W/ZQ5NHKZD/glMxp2+9Flfs2kFaIzAvaMguQU1AxMESWFcUeHpzaYREFogh7o4DeDoiMv2h491Gy0yk4WpI36nRz1vlezxMg1TJKLDY0qqHOhIUbAy3Lb23JTEADFwAAAJABnqN0Qn8ACatSSBYJfn+SeMdMFCduCQzQepl1eaAD9rnWgII0nGQFHEzy2tJgHBVR2Fz8fR0ZEKGq8hSLbqoe/h/KA/XQVYwu7HosOiArKmbrId/yfyOiPMliqY7OgGyi7jbctTqRREkbD7d8LgT6Rb9D3rJjOT1BzSdsx3DZNcT2oGsMfo8Ay/FjID8coocAAACPAZ6lakJ/AAmu3//PAdmd2BWsmUSqQLBHO5M/7vABN6leeff+W01oRTlwM3GnZskz7BDzmvJlusvKTOc2AhQjHGtruYxKRhHAWP4L5wmFjSbhv9Y3FqlGnkDBmMvpU4ClSJHHG3p7ozzX3U22uTwcDW3yHFAlVeVCCdUoH6sjPP08unSD2vNQlM4/aHi4xQcAAAEMQZqqSahBbJlMCG///qeEAALrzLtHN5Q8/m3m8/96gCKUzVlZwp6IZbH+MQTa9d9EFL8H36upsKFEB5qu74dmQji770DiXClATaJGKohsTZo0/nJFtgJUGqcFDb8cF+rp2I6U38LmIYMk2to/VSRnaZf9ZzYxbGnWKmvmwlyAT1ULyLv8B/CwRJAyloatpWO7oVzwLa+cdedpPIfl3+h+D9oDvL2rfT4djj1Qg82XgCqQtCVC+GsXDli8fZVN62YZ4UJxQ4PoCjLMI+k94K0Jj+kIoVTY33nUZ1r/9IQUKLwPBVNX0Qn6las782rmdb9sNVymQJ8CUPi/gaTkE6t1NTAFPSQWW1gH3uYN+QAAAOdBnshFFSwr/wB/K9E810K7pnYAo95HXVLfVgOgAGzMkyfdpqn2od2nseamVJAR3MT1QCQKkwRjRtvTzW9XreT2tQw+SaIqOqgM8YvtWYJ4/81cmqklNPnY3casgTIf6wEgAKHO6RJoEMeVy2c3BtfSEI7rRiCnk1ge62GWTZowigMT7O0d9vjkIceUBGRFmiughtm+mWL7iYixfa0VAkhX3GwQIyBpnV/Ij0R9NayMJ4ezWpREdgMQCXDi8xNuT3DKU9CJF/34L6GmFb5xW18AVJz4OCFlfPFezfFjqeG95H5o7yUAHzAAAACjAZ7ndEJ/AAmrUkgDV8zF0yPNSPesSIV/owrRhpCUkPPNsz9GujhABOrdx0aEXUfEQ3rAvlSqn/arkMXXylXq2MsD0uv3XAAxs52mI1Aq20QerHGdqdeekSZSc+KOPTGkES/ee99iWFc/2Nhy/UoDEm5HLSVSzKMSVuhOnX21JtDqhlypktB30AISnxHCvbXiYFS6QMgxba6+OTGEkWyAuH2q2gAAAKEBnulqQn8ACa7f97lESIHW/l37QVoXqSHxqpigULwniieFGOBTNbwoRR8gp4nDvdkAsYLqxgh43vv4w3U71DPPbt/XJpyR2EZ0/NkTZFRIJAmBbtPBhBYotZcKHoF8+KSyIm+7FkznTJwtoIzQH/KVAfCz4OrldQ1o30NxqfRcyywLQlyPPphv/ECii7U4yxbAaO5IT25BCvu01NTj5eqXdQAAARFBmu1JqEFsmUwIb//+p4QAARVaEWmFzvAyh6aDeAHFpFF3qXWOAl9YgZPBKlagwMq/5UY2hz4KguHFFLj66T0FykWRkqDBnKlleizueVLhBqiYSUB4Ss18zUPqmC+gTqQdHGO5Tz9fMRbsK94AFGntscSfhmdIRx90siTA05tvBk172jaHGh8iDC3WAMX21EBv8kJkwJh1e1Bg4H0B8qYZX/N0aq8bVDHoDA9hFXO3BvMTDH7MkApZ01iJ48e7sVBTprUAs19sDzu55CZfBn44XsFEIyhvbqCHGfJQKO344qxzRRfq96LH0PP5ZUbvJ+AlsZpQpRxv8NxtF4qrO3ztxDB60pPM+dZc+3tXcDZ5q+AAAACqQZ8LRRUsK/8AfyvRPNdBkipiQn1aeUOZUCFFdqXRbWAHGsz6Iqx9HoNMyrgQkbgddxL7EZCRKQ6mfvRtUjA49FyE6eBp2g9eJ3C24Kde7pK3H4b93xFGeKXtWQzv+upyOesGq3eAMznUXWQFvuvIvEPke/34J4kdvlvps3/RGqlCRnU4ARo96v8SAATSqxVb9EvgCVHz2gE30pz7vTevMaD9nW6gpJW0k4AAAACbAZ8sakJ/AAmu36tl/HxyHz8WAoYLoQNgC0+T7sJHvYzRagAAWFL/ANuH24Q/OFDlWS6ebALK1woJc9YRrE8tkN+fKr8vHddQ1WIsRWqa3uBRS+JMO5MqXJL36nRXwL5xrEHUrgz+tanezJBAsTSv0zKGvot0FA90RcTgbo0RrSWTbNZdPy6eHugNvkYO9z/2f6mY0+o7uNfA3gUAAADpQZsxSahBbJlMCG///qeEAAEW6b2jm9icCGxobghb53KXUQVkJwegRjO01Jb89VlQQh59l7Q8I7WX5+rXYBU/jqTcTPxnU7Tf7rsWn6ijPmdXCRBpiNJDgH/0sxXz2S0nJFxdkSbwEdSG9FWZ4PMt2WD5s1jZOZgfpGQ8+mJ1tU/xPUywEPO7qp0f6m0VmhDcfaOhMgHs55M7DY/+t90mwhlr9cQ6HlQzpyqk73mATsThq3A1xGt717eKKhh4jBPCMJw/oSa0gKAY89UEioYMcbI+mMkwSkzXUxv7/2C9tj5iMK9AeCkLXHEAAADTQZ9PRRUsK/8AfyvRPNdBkgI49u9m5WOFF6xXDtMhcrLugGfCW/ikbsaWBi9NxbtVDwXIDf//v4AFca7xdRezgTD4pnTc7sXhBy+OBXXMR4sTT5Wz/ZhYHgdRSNj148LRh/cRXhQEcCDEtLddOi/tSdnw9jrQVQ3r5G/CYGxYCOTpjbZJ7vBE9lDKKlGNlI73zG1KmX0x/Yy5eo04tTjNSQe0/cRPOOUNyhVGTejLszxfSKFpx07K68HQQ40rJl14wmR+FOXQA/YKlyKHvkXCS8b1lQAAAGoBn250Qn8ACatR3jJbGLMblDcK+GzOJsUACS17MrPjftfCtlMSQFG+m1Qa1+dUgvfHIdr6lZFh4sDFv5LH2ZaqroeJEh2fUy+nQ3OgVTozksmAyHaeMcq6bgYSlJR7Vmlnt5xxBxKTdKCAAAAAhgGfcGpCfwAJrt+qJJuaOilIBr4IPMRtgJ1pqjflOXuRieQM+z730Cc//uggANSOoiFrsYHYELPVCXc1+WL4yBdcbLITOSyyw0CYdxOPFSNBGb5zSbrGmUKlmx/BxpnR7B9WGuPFeWHXkv/awZnd3mVx41HcoJ+6lSStxXXozB3/Q1V110XcAAAA7UGbdUmoQWyZTAhv//6nhAABDum9qIKX2CLxu2y29xJ+9C5ls3cAJE+lpakaIxCliF0FxOtRmLXJB7tc9PBycHd8X9AvWVvPHDeF9tSv9keYwL4EPz6z5Q8bj7o+peKfxiidQeZp/c6ID8mhMBM1d20tQR8BXCoM1iEKzkRMe1qI6T9w+zeJ29ehSXPsQ33OYiNbJGiZbvEHbwgPUdkgOUG45UNeG+XOubZxSWwUbxwu/NqcKoMRyIZ4egpKe5KY80kULgFYBIvD34MZflM5rTGMlQhsgURth/6o3cN4m4VIIeCMLAX5P7VR1I1b0QAAAJ1Bn5NFFSwr/wB/K9E810EdXd0CtxCAFr3l0us7J86nQKGQETscgOpdKQfzgkQinj0fTUzABncN8220DBIjkL3OAQITTzg0VYO5IXWiHWtb4NLWTzSa+C0hgNoLUaIfFEreEPgyu0stCa+9oExdPp9DChxIJmAlmjEoWoD98TkSUjBfXm2bZ/n4e4M3Kt5qOAw5WkbzfeszCYJ1ipiwAAAAhQGfsnRCfwAJq1G5KhaH8AN1xiKhFA6fUVvLK1wminypVLjy6xtA9N3QOG2O/wA8EnKAlgiWAQAVxuYdqiCefuwrKQMNwVa7hJkx+fJiAUMRSCXPckWC0gphPONHwU/tHaywmCL7X6vXJFBwL5soPSAar4jUxpdqLQ8MvadnGpY0B4935lQAAACTAZ+0akJ/AAmu34xydxXjwtoIDUsY+DHl4J0cAHHsejz5PkVk7svFblg+g5sypzEWJ6IhwC0v7CnapmVF4TzG4Y9i9qvPA/DQMcj8KJcSG0jD8UKIIcip2v7lidqOp6pc9C9rIN1QrDlAaphq6PzsAOFdYMo07XchFfihSw17Iy05ggZPzbKIkMlpiVEvyUy5ljtJAAABHkGbuUmoQWyZTAhv//6nhAAAafhPJtG+ee7/1yM94I+iyQR5yrXFMLTSa7KOOM1s6p7fkTIuKGQrhl5+8HvGJO1n9Lm7jB8HEbhs8IiDf1ACvVaPFHaXZdOQiVthqJj3bVfwFuwcmydEPVutF1u9sIqgKXjfpqecQZCAldRxZGNMsPUteLK6Z6y3Lxd6TLKX3Kign19tM3D21XeEUjpS2RVCF1J704JTX4UAbU/yhhfrLdcPbIQ+kKsvzPI7F9xcqwUkctjxQ66tSvq++ZlEzEIRStAqmpcOv+CtebKDC4ThlOLVtoMB9MyZf4j0biUjjgNtnFKrHbG/9IdKfhDocsesdahv7dap5ryiSMKZsdT0KYepVl1TxmQROIVNfpAAAADnQZ/XRRUsK/8AfyvRPNdBiXrG8lrNBqJparh78omlZd0wbOirr+zqAQjupL6Qw6AtpHIBxwv6iYgTaKrTAgPgPmkOZMvBPR9LD3CDeyyXJ20dkB33+Tyw9d/lucPrNjGVwQ152quzAAFaXH5AaYj3NJvFYCrcoIv98bnGaEQwWx3LihRvKrpiZAuys6qVPdaSwjwUQPQi70I6pvTT4vCFGLXtFaOJJdF58FJDNRzLg8xN5gzDtZ6UHeqa0eEyrZMbRmHMP4dtm7KZQ9RxTZWXk8ikTvYmeGDaZQ05mzBFN/X6Y/7AkAh5AAAAlwGf9nRCfwAJq1G33/STNhEVkUIINxMhIpgDlFA8gFbwssD6r714H0okXNFRSopxencn1oU2Eb87mZZNi5KaAOZbT92SS4u3Mknmu5uK7l0HYttqwa/E/AcnYxbkEpUu0yLPiTqVo5e3RULTlKXwuRcXqd2bT/0x+NdHsUuUZdlFY6vqci+spgJNMZahkuG2e2z2eA3FEXEAAACpAZ/4akJ/AAmu34tUBsuGTh7GaqUN1XS4idSrFwDVoHPS9IpzEvSatn5DTy+MAAz3Akq/E9l+tGKLkWbNqEIWbbD4r4OOiX2mpqY8m4iWgupIcgm94Rzb8ukEJ+VcZYU+HWmzbMT5Eh59Dq6KSb0YmZO8vcnNY7n8MmB5Se+LaDqwmaP1nIEiZFoqGQNHrclNKhggF3IDzOSwv/A70ABaAnMXR5mI6TDmpAAAAPtBm/1JqEFsmUwIb//+p4QAAGd4TzJYh1wxPf19kxAC3oGA2yzS3OQHOa4+imf8C5g8FnZP24tJ1z78zStlbG6qFjh2QFx+LjnXiOyDZQv5tir4MKR/5GWWg76bw1epB41qA4vgvlZGcBQu/vV4XrlsxFd3vZJonlHh++7OiBODk19rf8ZOJUUC1TV2rBWUP8AWwgHecMTOZsx0v8AWlb7jTsWioQOTPJBBErBqfswqQeoganQ6oYnKu3MAE0aHlAOFvBJlIz8XSXk7yJWL5orf2pBKVPXJOpV0lLaGeZiLKiOBputqFIJxDVCAEF7elIKdfznWr9KiFsT8IQAAAMFBnhtFFSwr/wB/K9E810GJesWo+5cWk7va6YYl7vC32P0ooESpsZ4InSMr8mat0AHG9g5U9EAUT4tj5rmymyTll55MGCy+8c5PTTW8XbtbxTd25mM7SUnRkBYP0CiUqjlPhosC9r1jHkv8tzyQ2yzA1vd2C7pCxsOPUgHugv+u0nl4iA+ukYz2jHduCKuxhaK75wIXJ936pypFeZaZWb88azhSUM8efVSH92TlCx08AIhszwvyH3RSVyrdnbLaiQZ8AAAAnwGeOnRCfwAJq1G2/1J1bHrYIMkCGtwHtrzB7ox2FX8TmUaTsmiwmwhYvFIANr7ju5LyZ426smxHqqlZypFyHS1JKhSIuvTcty+O21UBtc+V48a2h9nYJruuDyTU8h2qnzZ3IlmR0/0TyqIl7xTAp7SWn5i7zDxjIhrlZhukoJWliJg+WxM4Rws4Ay6vEnz5qW24oZf55VjU3ro/DtAymwAAAHMBnjxqQn8ACa7filcGrJo/LixzyQUJYIc6CSDcEq30IqAQGNAB88NEMTEDkKDhUEHhxahtaHlPSd2w+6+NytvyYiKwbL17xcBxMUleOUKjbzO3bxwmlheww/QhYbgBg7TxOMFMC3Z2cQRABp2ZZbBZooH/AAABIUGaIUmoQWyZTAhv//6nhAAAKftLUAJq95kzpRTCCligvNPJfl/bkKQR3bxIqDQtB+c7mqgsoppGyOy6v/XhQxSIbJbjkUtDIaAwnJMnA67itVOrvsUh+8kWECJbB6y4dlBKw3g8e4N2CzFCGu62+Hhn97teOA6qieyojwaog6t6VnOxxDvLS/pnIzrAS6Tv+8BdXapXqgoEwB8GEVY9WBGAkuq7EbAdc1zPsLTc6yVV6rZBRxTAPwAcXjJbd0KIvSVfu17tjqqWzCcNnNWt6zzHKpoP9Qp9vmKv5wMY3d4GQMG8JoD1rawjges43u6B5+KuwgKd6jKbi5EzzRkj5GQujOFTlgUXpOfgNrjdIGdVLZgQFlyTGNLZVTT1BjWjaz4AAACVQZ5fRRUsK/8AfyvRPNdBiXrEhIynnh6Lm1hTlYicLIgBMnscw0YZjiP8L6ew8g38TcJg+e7iBKVoYJmohwAxaWol9t3u6QIq5Fz//p0fjPnuRG4TgFCs072t1cOlyslyKLrHiOcK0Pdofq+p0O42f/w6uQngTC6mreOejrUdw29TlxcI/hjbrgRkX7LKFDi5sR/A8QcAAACcAZ5+dEJ/AAmrUbYglHSnvW1/1ejhH+X9Vq+GMTqpTEKHvFJ5n5qACcdnr4R+lpwhq7iC0GEAv1243h+6oP+QFYSqhd+sEUIMi874+K8WLmylp6+CRSa7DOe/Lz3qQRVoVNBooNv3Gf0A+h81x0IWbm2nGcWvlTP2AsmeujS1xmCN5YM3PnfO4S4q3B9Ttj7nMXS2saRb2NivbFJPAAAArQGeYGpCfwAJrt+J3TVuTzC00wAONw3aMSYwPcuTdLk02Yh0FDx8/vGeHyH88hjJnD/p3iFoIBI8agwQxQA+WwgApWlCQUyl/yanrdZLdSnso7Wdcmtoq8r0uTH1jmyH0Gsq/8Al9KqMLzunAuieXYbymJ1+zBH4S53/UjcQuEWlCW4O8FZrcIORxIANQlJWVVkEB2hUD9lD4SgCc00U73cNG4FvB3iT1KxfcDu6AAABAkGaZUmoQWyZTAhv//6nhAAAKj7wluwSTlc3IAvZICPVmIhmasZq/H4HNn2qiX/zDf3txyKUQPNXiw7BINb/c0uD8jfm6OavN5VNNERBSKeU+L5z8ePARuLG3RZ4UO0E8dXCs44svHoeYC116HmSVZ66sJnNqSF9q5qHIvtk4b2Jij6Eb1/JqgIcYvxMjxf1/jwVxQc2rYP7Bzcx/4iMaSR/oH+idN3lQfaxzbIods3nbiZK3mhsFWRQ7lVtrDlcmJbFlZ5z4u4oiVmxYNwV0LMhU00r7S4oWQ4dz6mRFIIXE5AWmrv1zFJ+8ahzfIMDYQ8xn9R+AKsgtcRoIvOALSYh4QAAAO9BnoNFFSwr/wB/K9E810GJesSEjKeeHvIcOUW+xef/ntkYtx2tybH/P/8GACHZtaXXqubvK+JTTJ01FZx9A/jRrcJuiWA/rSXLQ6Thhk4xjJi1gyiV/FqgILgj/Om5ekMEbtYptLMAlrQrT/hLk/u3zz4s/XGBa8M3E7UlDqyTU5dDL9RbGTXa5rUOzIIXHzR57rV39MHRggcQ6Xt4lOJzaeQayqa2y5bQcQHvnhksrQYMIpbYFS37SNPSOAse9SxwDZqATv6oB8owuTw6ndEbF1eeII5K60XktI5pFd+xOr/HdPwnfAKzsItAtQAtIAAAAHkBnqJ0Qn8ACatRtiCUdK9UjAAX2CpZv2IObfLdvHKJVpxyJS8gyOY8LDqRoKO/gXW2zYtNVswyiYnuqjsa4B/aV6lTvytAtEP/3meJ1ABVkv8v9ixQZrgMGqlxFLY6KaWHZwavFl+P689Kg3Y4PXuU2hyUoFt4bI7pAAAArAGepGpCfwAJrt+J3TVuFeJ/R2Zf1RSXdNhxQAFAZ9w8WBi28KCN5asu+5O9yISpcqjXBJ0wu0yQo5t1pchc3+JVI8WvVBz8ELjnB4ZjJzYJ3Jci+g3iJ+eiZooeXyaMlFTsXnfLHvX1VO+F1wqEleWluCIViCAeuZ5prwmGJu3a4MHJiACNVXknj5Cd5XuMgeE76nqN/8hK84vWw4JZ7czQo97cX+csqvKUdUEAAAD3QZqpSahBbJlMCG///qeEAAAn/Mu04jzeGJpEYyqOxizgmR0LKASdRHaEk9Kz3xN9YGjpXJJQdWlAAlZRGq+KsOkt7Ttt433eNcCAu3NvYxhxlW9gBrjsmodahLgLzQbausZq06uJr71Ouj6CkE/jvfR/NHY64L0vfGSYtGA+yc8GoDcWgovEZ1bVFbMYqew1Te+fy5sccZrjQ5tykTjczC2H0Y+QQ+H4e2D5QOMNoy1iq2mPJyRV33QyLrmFLw1t49vE3jkCARuP8HzAB8suECSFpQEBVjlUehCCSincEGdtvq+N6n3D/JywLvoUJhPjMidcNQDFgQAAAHVBnsdFFSwr/wB/K9E810GJesSEjKeeFq7lojE4ce0QZEk/cHy6qtN2g1cja8wagA2sWcjn4F8tgVZSj+KABoShqyFT6nSl61hqN+nlqXrFO4kMFU22KQ/5Vv3KrbjKEJX7YzNautf6sTzjVyKZDsNFsWJG4wsAAABnAZ7mdEJ/AAmrUbYglHSnIZ2GfRHv/MWPqbiW/dxkYX7lZbuEAH23YZ5Z1+TO+NySMfLKiE/UWXEyXda5+SX53XHzbpPQ5UxtHaUVxXcvNJUC0KBtU/fsZxUNquk8SADTU4ljUmaxgQAAAIkBnuhqQn8ACa7fid01bkf0J05jcN0brTeJdyhl/PoVPq9LgrFwh5fF/NrhMT42qPgANFGFlAIeD360doySL34NZEbpuyeykY3wBHviiPq/nRVZR6LWl/ij5fo5VkdXyYF5luH4ZsjPjLlnd3330fnShVAUTRmqDX2EimEpWgtfWz70ECO9tygxYAAAARVBmu1JqEFsmUwIb//+p4QAACXdN7URfmGsCXsuuZlEhkb4+YuNaVvyRSkc1WuBnUAIzXTxEjwx7R6RozBesWBtgOZvCOSNrGCapenxg+a/PLtsdf1qFHRgKt1CrOxC5P/rN3zNirr0TRu9FZHNy+FK6EokFuQLnkMdRBcxqQtARL/QusjsGsDTByaXZKhoov0laZTVyIXmPxw9+lPlfzf52bNANwhD3wi+fp/OhE8QiZUVtEtQS+IMeRXwlvhYPYhYxVQN0o1QTavLOgA8ybtNhrTbF2QXwGNXZec7YjH8edcWk8pDxOtqs0GCYh5DIju+G+NyGqKtzB+E3nQlaA25fmIqx4BDRqAIFdLgtI0oIFezKOJvAAAApEGfC0UVLCv/AH8r0TzXQYl6xISMp54P6eGyl7Qbr+HQZwkGrHvFrOilAAuFoBN4+0at6xjwf1XFXRo0mXRA5DqTHGyi4A3GXTwvmq/IMsFAPO0Yurb2FuTTLdZsQh9lYWT5Ijt7Lw8kzynjGood39rbfNFndSQm8fRdqY8FAYiihIXX7KFXFbb119k6+04vcWgHr1OyFmPxBEuTeE8bS8hT1AEHAAAAWQGfKnRCfwAJq1G2IJR0oHzQWPv7PdKXs86qJjYNAFV2kz2dQkjxY9SCC76W4DWVWLFg6HTBM1Qf6EAep5/LHDvZBdZCESWiAf2fvMybhZQFOxbaPWL1UCmgAAAAbQGfLGpCfwAJrt+J3TVuPmUyy6PBGuNXw4UyXxoumgA91FNaq/Cb7BrUas2WJ7ENTB7A/4j8/wh7TI8x7XKeU/j0l8I38ttFdTrQ7Ctj0NcJ5JaGNiY7IIP2VLW9VcNiUfM8+DOMmYduvaCXQxcAAAEDQZsxSahBbJlMCG///qeEAAAO0EOtSzO2FRDQAqaj8S8hd3AuGm4TAvw8Xw5MLsxzlqb8/mr++PCCPmrVtQfceQwPfM/qCzztS9cJo9kcldHkHUKYcgTGkSj5FjO/GNM0/Z38Qm0AwD8ZEu4JXuVL8t4XMDTXzITtVbMXD43E2hE6exyZAuplA+JbRQY2gBD7Uauh3Q5FJ+xemj0DrQPy5HrtNmFlj2Gg2bof9wYQPyMyWgVb3FROuawu8nEPTKJdOqHMnu4XpmCMyUZYyQtbo/yOM2EBKezW2Bir/Ok8y1+9h9sVvCUtHwNvgTTP17DuvKkESulTA6JVU0dZ5YKxBu050wAAAMNBn09FFSwr/wB/K9E810GJesSEjKed/dvoh+R8N/i/YRRifILcgMJ3NtQAEyrSpqw12r9Hu6Lw3RZTghyT0i4XA6V1fpQsdqlH7WvMsgaLlpiRv8QomhRM8dQMHy0C1+1jCroQBvw2v8ufjndyYm6hDc8h8MRzhDPQhzOA8HgmySEco43+6DlOaoVViB/DWUH6SRCdJtbpSkFbRdcA2Sk68C2kVlOgpRPxYeAuI6NPrO1lcki3svQQGkTSg0TKGv+1dYsAAADKAZ9udEJ/AAmrUbYglHSTZyo4tyb7lCgLEfDXfaABO0svdJJVNcFNIHCZupk8sSP7YFfSHTYkJ8VgFCWqNVZ0XdAUFI+1J3RFfcyMzT9eS4kUD64c+T5RB8wrYHjKCzWkgA3eBkL0tHV7AsSaLOvLcnpHxyT+qS+LZr7a+lZIY+YtRFPYOgxKS87cvayn6EeG4WpHMSvfIsn+QdSbjpitve+6yL6fUKlCfRifpU82tZazR9wbsIsTQiVJlvnKr9byta/QkEGi/EJ8wAAAAJYBn3BqQn8ACa7fid01bj5mwI4qLboFTgoN4lkDYy74U9j5wx/HgtURYDiIXnqABACwr5Zh68z480AlglBzWQSoO/+hTfchZliOc8aLfrR/qxMFJuYTM5QzIx55wajPOmbKSztAH4S82pEQed3XGle5r6RBZYcoQViYPp7b7gidnYQ89+E0RWLM8at97ZySYkioGykHmtAAAAEHQZt1SahBbJlMCG///qeEAAAO34MrPfIAiXfGSP2dbG6SwWYMDYD2nro6d73yfnnEg90bjApW0l5P5bLu2vfxaPm7minnNJ/gmQOPRbHNj6wIsLEfoe82V+Tw4mE/rwnPlf5foDrFobzg69L1Af/NkbFVH2WLLdOGSpGf1LP1c7OtlbzjottjJBaO+y/cWKSZG+9MxYlS0f6gCwLH3RxenPISIY8/mhhoEJWgbm84yo4IzEzvx+BtrUivXB3RwsbOY0XQCQYUhPeHDQvOMh8DeauBnewpV7UqfHhpyBz2qHvQtauORVc5DfMfGxF2Vm4xHetCeWKirfMGx9OmryrFeB3qmApXBD0AAAC6QZ+TRRUsK/8AfyvRPNdBiXrEhIynnf3as3+G4pXt5IXa/pDGpzrHys9l4hElJMgweNBcBlIehgBxNcLTSVQd3WXzuz9MhrESwV2vKeCYgrW8uo06mJnAvzVetqAeQh8ujYbC7xY4l1h50AfwUNIFSLcCU1IF70B8LWUJojerCsRDrZmD9uMAUVRmnb8ayK3TsgyiF9Hobor6wjHsxOYqEoUHBE7vzpJXKSvhM3cldurbdSHpceaQDyDgAAAAvgGfsnRCfwAJq1G2IJR0k2n24K3jPrt7/PI3z//4gAD9/t0EIOhP2FEM2S/TltCyayLTT3RXcl+lWdqpDlMtVNODtiS6ctzcHFnW07DO4SVModbyBDJ2tdvXUorBVazsirRmSBfZu+NQUPJQ97a1Hrc/YVX418GdkesFF5NcuurC2pVTGNs5v3YcdrjyaGMqW9YSdj+hWZu9Rs64CDUiMJyld/RFHzEYx4FYL8vNMZDVZY0U00YuQE9ryDIR72gAAACgAZ+0akJ/AAmu34ndNW4+ZmGlcRDNA2KIcvJdCXDSQvdpYIATLyg/BG35d9K0wWb6qBU9ppJ6k/YHcgSdRM3W4yCyF81Rpi6GukxWVmc2vd3D20/tlVMpmgqhnYXiKpx3fyyP7h4vZbtiNHXb6KnWxuzGKrsYtLGRO/rKmYU8mYfEI85fxwpSf49XQu0uI0Cj94qikM0FE+lDZOKuPw09iwAAAS5Bm7lJqEFsmUwIb//+p4QAAA8/CeZLEMj4ShKdwXO+2TqUB/JUyGAZpJ0zwpBZrMb05H8PQfLFjWpECYL/sUhO47JODK5gE2lHSb8Nckrp/3LmqqSRnJfIyHNN7T/H0p9mMvRK5QOcN6aRqqz/Slu+9mM3z4YpDRnR9vFT24unSsMXYef/R9xKxRVFgd6y2yaSCxf53FawTZRZks3PLYMDsZPEh7LdIeCd7jdcjrcjb/8DqLqqhP4ZgZAvcuv/3ouCha3lO+eBIZCA9W0hNIExdOceyRChWp4NCmCllZzx4zTuew0Z5x7fb3p9DDwPvL72Wf6GssTFU53zpQNup7zwASkb/JV2f7H58lXaS8ewD7jy6Sxo/iP0MPEhEQJQwRRFdkai0IIOL+3zMUWUMAAAAIFBn9dFFSwr/wB/K9E810GJesSEjKed/dsvrAY3lTdyyXdp1w5gHki1f7Z1yGHnPmAXlt9/xCaoq/jrlY+LgGgKnhc0kkcIh6lifjc5z6OcnoS6qh0lGbpJy/0EGs7pa69z/kwhBQE/aVnslDT4+s52omcBjhGWge7OKzn0R6u0Z8EAAACJAZ/2dEJ/AAmrUbYglHSTaNA31/UALHbjhQPDqJBppC7rR8Ewf8IASfRNDd3XZ7TReNucws2XDUi5Nu5+V+aswvmqNMXcacJxkuX1fGA9i4m0/tlVOu5lkC8tVaoVRT2Baj3T+5wRXhj1ORtJg5JxmLLg5ZZGwW1L2GJu9u0iKR8s4Js1ryIAAr8AAAB8AZ/4akJ/AAmu34ndNW4+ZdSjb0gCosseXanhsyvLSxdtZJvCatZYDnl7IHUZwf8c5nZ+SmWV8iJ6MFbOSPhtbJ08Jd7R6W5HvrAI3TpBfZBlAwz/Umqv4bK2Irn8pkXw7jDvZkXm+xkRKMq+RV05MUPY6bAoXR0EOFXh6QAAAPRBm/1JqEFsmUwIb//+p4QAAAXU8riAiADs/av/v6DIhzp8jPjkrM0ALLFeWyBXbiuXpzEKW/q4+zycMmD/xjE+pT/0Ry+/fmlRADA2t5ajWQEHIJ2j03csEpRuJoZZc2e23xlpBiRJKy5GBavkTor5dbe6i3JnvjYXiGLPrNakNGkeI+9ZFtL5OpebLLSxgl6rPwihM1AqCE4pOh7PYganClpd97Rxai0dz3f4lOku1dJvb6Jn0uNQTzIIGqyDtA8whje+mY2cvENgZoYB6ox31KudD/VePyrmYQ35CP84r5ovYBKcBrjGz96V8ZNUm+QEwjkvAAAAqEGeG0UVLCv/AH8r0TzXQYl6xISMp5384VqLeL+MGDllXGMbzhniC1ABO206koOV2xqoUrUHWO6zXkiVKQ86ECORfEesZAJDA5N8+Z4CG7/+hTRGGcER4i8FgZWLHKUUYMDYYCgomsiIskJ0MqPm1FpOJFSIY+wVwVX5a0qdG/5iNzEYgLSm55tOjREUGtZKhsiI8h1T5dhklYoiBl5JByGQtdjIlwA9YAAAAJsBnjp0Qn8ACatRtiCUdJJGKtGGtMIyL4fHBSDJAMvgzfRrqh2cQKLo///XgAnbVxXELCldfW7g1w6PS/K9R13XNsNv6Y1X/lAaS1A9y2hTBwfo/Ier5gtu6XraKBt7dpcZRuuDivABOOKpITtz0ZHWx96wrqkQQSP5Ru2FmQBYxXE/l+sHnl3VPVk7bAKq30T/yuG85z9FOFpjUwAAAJABnjxqQn8ACa7fid01bj20z1mbL3qOeTxSg0XLlV9juFGDYvCD6/yXABO1xImSERN6ZztiiNaCyvLlumUPb8SHIeTkG7HjOmFebkQUmykokTigEo+COcQvnJo7EFeLmX7boiPDsv3AKj3dEK+fPrsgRGuEvYXlxLX+p+k+3NFIyih9AcnxeBdig0t33Sh/yDkAAADgQZohSahBbJlMCG///qeEAAAFzxi+pnKHDECZn0gatPFUXwAj1IvxD6eXxS+QRkm8Jb5cKzDFFCAON4Vwd+J7Tewmo1dc0brEddXXrDQC1e6xaJybGHlN1Hp0uNsp+sU6Zm+ChZwM0p+RWFS/rnkOaGTXt2dIT+0fJdBxTWiINRY1gh6X+7RUynfZkGiw27ePAyvsbEkEh/7OaesSWohnNqjgDvsS8zGN3WewMH7GzsDTuqkSeoeZxzVQ8DwW9I8fkJvP7awPPSvQNj5TD2DJq0ZZGR9iYZxKAN5/66cGwVUAAACWQZ5fRRUsK/8AfyvRPNdBiXrEhIynnfzhWot4v6fENlCFW5O76kUDd27yqVv6wkFYY/QRs5ZdLWuo8okZ1NEuwUUmXarQKc4/TL4j0pf2ncv7zN1oNVR28vynrc8zxITvtb/hP/UP/cknsgf8Gbp3JxMVdvLaaIfF+XI0Q9mPj/bwh3LAsdIuTHtzW2zZm29v0XpOoFlAAAAAnQGefnRCfwAJq1G2IJR0kkYqtvYfYV4SmKTYuOQ4+SnN76oFUdLpyOc98Pnq/Z2Pk7lG6rUo7EhVjZMQ2R5iN9d9gZvybxVQVv0at2DyP/VWhLRB34gimi2MeKB3m7KL2DtP/QkidtYm+kyPyOifBwg+po0FtmXs1L86HzE67BI2IpCTMcZsUVyaYAfR/K6YhgH1I7dxz/SRg684oi8AAACAAZ5gakJ/AAmu34ndNW49tM9kVdPNCwBK/q06JZb2bhpmoDwnju0ClenuTP6qiABO1iNKC+RUs9w4skNjDuGOoBbY0bQutSYi+748whbXE+l6HcZR3btqFwjxbrx6e+B0YJ9iKiiX6LsKaeRJaZfddyRM0tR1jRuWRNXfLAEYQd0AAAC6QZplSahBbJlMCG///qeEAAAFz//lQSh4XT7Qzf1U5HIEAM0itxKq3Kumuc2IDcSQZmy7RD7Xff0F4Us+yUMCWaVzmR48/zajVSBk2+aqa40VZ/FzaP+rhFadcq3PiopiB/Z1gqs5/+43pJheZ0jCyaKi18bFuOYwQpgiVGLJHuq2qYhHkrmV7z27Tsyv29net4Tp/zcMdIXQADcOksMb535LxEADRKAvRfXuXft677Xm55qtrDixFzKhAAAAbUGeg0UVLCv/AH8r0TzXQYl6xISMp5384VqLeL7IPGEiOqWErt8qhmOoTMJPaOdj3NO1Qml1uwAEfZGdPrAvUg02ENm01Nj14aBGAr6Xl+bsaHvLRu6/ex5CIRN8hN5U9Is39jl/X0/pXY0AO6AAAACnAZ6idEJ/AAmrUbYglHSSRirEkMmMhZy2w15KM8sKsFd0jNKVdYATJG3mhxtQaaCGy2oUNu9Ow5EV0NcqLjuD4Zv7EDVimOUT090b+qWLHA8WTS7dhs5eJGAws0LVekeENzDfu85SlZtJ+RVJaP/Ifg2rcTO6z6VBoJcbS6LNS0wUTbn8GzupACG+FvG0YVLBQ61qkQHZspQUw3CW3RMZYX9Wvrj3npEAAACAAZ6kakJ/AAmu34ndNW49tM9dzbU9Qyph/BVPRs8eEUj5J0ENbEijlAB+mgQP0SZ6+xUy4Id6VTrnRoF/KfVBL13nWC0pZDmIuR2/0kiaa3BCWWHgM8OedjMbr0OQESfwKPH7aV0OkwRhNe3/JDGm9qE5xbVwiQDQsLa+9jB3sQcAAADbQZqpSahBbJlMCG///qeEAAAF15l2jlw/En4kJ1uEhOStvZV1UkIAUuc78h/OnwJvDNtF0e7oZy21H7HMlIkOOwcWfmDwpKbHz6SJjEtg18WRHR1mCAAfu6aanGEzqUy5Cx926nO6l0i32gBJGpyU2JmOukTIlrdbPrfbZnTIUmU80YEWpxnzrry4wvtCpzq8/YhOwceeGkHzwQe+d8H860ioNrFVgoxWjJzDWcTqqEYoMbBxTRqCI1wgeArSB4n+a0PjKkb0tDAeoxF9CG2RN7GguiAEbtIvsusDAAAAlUGex0UVLCv/AH8r0TzXQYl6xISMp5384VqCzEyAVHlZuNI61A4Mwkx8fyKjNl5brqZSWmYYBH8mWJTkrWzwjU6dWd3Qp+We8rg5JlOb/7SElS93mjxoyohX09yQ2zUpIYwAdNQslWXwIh4BjqTkYcv1smvCccdlAQCJbzZcqZpk9d6mYYF4ggTjceolcAKPo8x6ZnMXAAAAZwGe5nRCfwAJq1G2IJR0kkYqzlrE+WpzzIdvaNYAW2kSBak+QBf5Ugq+UykzwtM8qbuWZZcD+eDR1UUgGKI7ofMa+TyrkvCEnqpXihy2YXnMTJT9eN2GbUg7RoxX2ibYGsmJ5Qb8k4AAAAB5AZ7oakJ/AAmu34ndNW49tM8l1NoJdxg0C7RDE7NTe6EH2On/TvffpW2YHGNXgBNLNKjRKxaq55YuCNvO876zNWGz0FsY/WQlwaJjAJ6xeO+1f/SuT4y1+9Rx7MdQIxhCgGDiooMSM/LzEGDHVTP6pypAsRtUwJiPgAAAAOlBmutJqEFsmUwUTDf//qeEAAAFs5loCA3QrH1U0/a4AEstUN+8aqJMLlx/lv2MWwhm/5BlVdWDZ7gp4L3s/sjFLiFll64UkCX3UmuuTWbWyZqRvApzlklW2XoDLEG+jWNer2buK5QPeZr1SHIUmZ0oDpaagF1fQKerYL9rMRnc8MiuPqaWpAaie8GFuOwdriKM3AKgSgqHfr9a0EvOiZYiqICW6NFcmZ2jeX+3ZkJ06sHocVzBUkhzYiezSvcjwBwTf6Ligwxa9VK/MhblLtkfcCojSU62vDbDWkehwuiUO2YWbGFIdFhSMQAAAHwBnwpqQn8AqHm/QsX1JaUXkv3mnmo8kBrVrq2ABO3Dd39cLt+ECFoZHIh8PpsS+cTp6BSIF65HoRN7XFQnrXe1y0R32k8CU3qVFRmqmX6+uCZ3aRSSqz3lda6+E79FuFiJ9yQJW0EGg7jHKwpn7tw02DmKErYNwMv/jwb0AAAA5UGbDUnhClJlMFLDf/6nhAAAAwIp7vLUoIvBETRhJRI9ABXqGxq7vhQj956MjTNuCWpNB/0fZrRshPFefpvmeuTIPo1wBAAPKKJYliXScEEQsERiuLjoojRv8CZHCGU9W6bqqzo5V62mQQ+SDAjl+KXxKw6gvUyXE4vSVNbG0KTvNNmd0VJFpZFlaxfj8hwZilezIkVqrOmqCGcVJxKzl4LjQ5FAJibaFOHo3mOyB3X4KA4OBkV6jHRPxfH+WqWU0k6rBRCaFtfGCLX9lPGBbqh5BgO6aDMJn3qfI2e0ZwdP4CU3ApAAAACPAZ8sakJ/AAADAkP3ndvMokVpts07vAER9EPuk9DlTG0dpRR+H4+uXtG0oitSrFCK9J426ugSkvPoEiFlnyfso8wxWP4vXCf79NNvVIgNKlQUChuCKkcGSAHHD/ICtKeGQxP/6nLz6s8Y2OsSvEviqnyaNoV1MQ8cm80hrv4rtvrBPDir0q6HgdaO3/XggoMAAADzQZsxSeEOiZTAhv/+p4QAAAMCOl1U8dhRFALoQBMlKVIgDNVioQIR9f87QMAkXTHgt3izTLtLGhNDTuabuILx67jq7e7ZVdjmkk4k7fvr+6+5xi3WfA7xbU1CBc7w/byXelCQXtZCd0Xict7aq75EWn+eMjzgs7Q+zLftb94odWLq9s3vPjm8ynoJ138arHVEvXGkvCiKFQNbI3bgryljoD1xwzjN/FPPYAfe0j/iPjqbovhFRD0XK/gNjQkvtEVfTX7TBUBhR5tKgaqOrRCs9LyH8Rj7Y6CcWNHe54GrgMMUGZiHOOPBnHeB8rQcnYDBZcjBAAAAcUGfT0UVPCv/AAADAdBkWAJOGQYj1V6JmJvcaOAI94s67mEdHLzhCulpGG0CMEsM9JK7kwJQcWM3RWQUfEN+ZO9ztUT0j0W23B/h/lYRecZqyf6HZ+9suEfhiKNCRPH2NfOF2FcIGitep/8rNjhFBielAAAAYAGfbnRCfwAAAwJJ9MBHFMDeCqdK9aWPS23SABYe4AeydtJgoTA5UqCMdOsFcHdHtNQ6MiHOipc31Izyou1MlxVG5yXFOMixtRbLAr2ta598nkES7MI4Z/3FBXyCfJwltAAAAHoBn3BqQn8AAAMCW7WXAY+psCaAAmNQBjKJiR5whgUAga4Ty8tY3HupBE+X9rg0+2Suoohq51ceZ4K1JNTx2vHDZ5yyLTZRWvzN6FFOyaKoJ5K6W7SCf+FIUVKhNao8cCeXqhcdY524u4yeo7HQ1KrqTLqLHCQbVWY9IAAAAPFBm3NJqEFomUwU8N/+p4QAAAMCOkhj3+xCCSKAEnzXqi9bfe3fH4YS+elBkD6W/hiuLsondiNVs+4gAGu1Au4ds3GWugkyKd5vos7U9h1iGd7d8x1g+xL0KF8yhktIjAudVg6OMS7vOZWMhn4gPt1lGpFcnp/9vxQC6teDkC5VZLo3wQZ4dPFN+UGWjGCIhxZssxOUd0tnvj4O7dYjkTYm9fXwDGkGd5uy1/q6Ww/7ko5PpXml500ppyjFqtO7LSKppgLtXqFkHGcVihyieWE82vRRScyxM0bCLi4V0Fpl5wuI8BC+uZhGVr59OSfuTYfNAAAAdwGfkmpCfwAAAwJbpDtgSv+QHXBekKd4cgAceCsBi2UQMyjj2ELMCbwTL/2MGBo/P8K9oehE1Cqi80XaBu2qwW9yIuWKkLXVIS5Dx8cy7srr9/1nmmVblR96b0ohmGp673kXhilVenkgRKt0j43kThX1S8PxtlHpAAABCkGbl0nhClJlMCG//qeEAAADAj3Te0c3lD2Ovu2J+3S241rYj1OgDlxU0OuPwBkvACMi+IBQ2EVwooHQoiBA6YgyK0MKtGeOLlp+4XTqjOMh/8wjVWHAi9zzQHq4xPNtxRZ9tqVhbbtT5UtYHeH6aQ1SDZwM9A3t2OqcpOuTxnBPH9BOTC31jxBfhyV36lvjSMCMg3ayPakZ+uNLjsjYU/6lMwoB+vOSsPkqgvU1XqZfH+gS8QW16M2VMx6AQHRWccxmIlVLXxBpdQyzD1qz9Umw4bevTF2EEBH+22f76k1XHvyfD4Xhp7ZbEXaSrFC7pRI+Yd/G2dRDW4Pq0g+oy4fhYQtUbT5Ez2+6AAAAmEGftUU0TCv/AAADAdAB1sCzQarbIArThio4eEAHt7spSmvHwzPS/k0jWpZzRi7uBl38fXRGEMcPntYQc3oavLoD2cgRVXMA9/FluMnLI+5DPzKnDNZFzM/Y8cHxo7bmo7m+wq0yvox0n14urmuhTJV4OY+wqCrKAFqmAdkk/KqjyPuFRIwfrAUVFKzCYLGBqhXnwn6P6DbhAAAAcwGf1HRCfwAAAwJb2u097NpzmhACLTuH8qi54uLFFOBnIBIRD20ONCiXqk+vALR6JGjcKgymued6Hz9JRnr7EV9yNhtw+n5Hof7tk9WaK0vE4V8VT+CttLP2hbm34Vtj9VNEBK4fCdyeHiMfa7YZCvhb0u4AAACCAZ/WakJ/AAADAjsXJ89j9OQvwIcD9hLqRJ/vYABMX9hJzW/krf5LecVjpzdO9CBPfIK8Z/HjSk06Ye2vd7szV54hlBa/5IaZ6NFbmc92wC1353lavVGu164/ErhTl4alUAwRJhS3tTwQFHjU4wX/mKUPDTq8oHpiL6e0bwSbypAakQAAANtBm9tJqEFomUwIb//+p4QAAAMA2JG7o6iFYyUQA0zkchekmwwqDFtFYyCEKXiYt2xF6xEt22Asb8PLgsRnf/0+rOz1A/prmApFPjBK2e0m8kcH9ZO1nTfN89w/kQh6RZgFw78D9ldJL+qIAUzqVWMjgc/uiKT4QrC74pzJ5to2DrxLvNH+/MTzEyOqawvWj1DTdyq7E/K7P16oAtd8ATs3ob3M4xeHI14c2+4V+onlt4tl6EHN/SNJ7mN1LM+Ku2MpNxMqiXbUJIVqN9V4YvWTcf+LV4FT34ToLiEAAADJQZ/5RREsK/8AAAMBfrDQ0oCPXeQAsLfKqUcDEqI1006pW1gMofNTkcbF5nAiQlkjPlyGCHKbWWPrpteyXbTh+0xP6kNgnCWAFv2ifljFpzocT8Zjufksh0f/OMBjNKoTv+6PeU4s4JUsk0l+qd5MKu3lLW5ku2phsvkQspuyJzT+Pgp4gP3VHkL3mwVXre2Jti2yGyBFswvynRU1Kb79r2beurKcCJgpwVe0FDiz4M8rdLiOUH1YYjYomUDdjUICtOt/yFIZkgbMAAAAYwGeGHRCfwAAAwDimuvcsv9tZOo5tF47Wref3MXQYAEv/VdKydhCXFYvcl6iVXMvHH7S33GjD4Bk07FruyeO8dBcUpuMe4lc9ogTuSRElkLzRLE3RuoxObXNIBg3ZRtsJ1N9wQAAAGQBnhpqQn8AAAMA4nT0be+pUmSN97iBoVqFkpjFarx8oASyyxVto1B8oCJw3qnSykOpiHUGXmgIP9zAMrh5dn3zMKAqyLL30i1fCCAD9L6dcLuvPx6JXd7b67/MOH84v09AL8a0AAABGUGaH0moQWyZTAhv//6nhAAAAwDc2hgaJgY9bLvX38CDXwEAi1KXpNoGTnlB6W7mYUwQfhNeOAaJlZxEWw7NPSLMNSxALhe9H4ktaKD4OIJCdw+q1/AinMCC+FjPt+YjH/+XVRRbp6gb6DdnfNafT4R5+1pY7e10jsMrMCbIMoi+ST4+XK3xMwRm7FDlgbm5iRQZf9PfqpkkZc09fkA9Ax6vedumbHh+XDsp9iFukUsFlA4OJdPXuVWptEqGvxGJTk5ZkfuoMCsLcdfJRT0V3v2Czc72eESM8wW9DyywK2Siz9BANmUIG5DszdsujuBLr47b0V4kOZLRzOav+OD+YHNdY5KHByuGvQYSlq5WsjKgoFTiW5dsM1jRAAAAkkGePUUVLCv/AAADAX6w0NKASd3T0MtJSRe+8HkDkK8vthyIS+ohTaQE3oAPCVJZ3jQHl3L3QqFbk8hw1LG+ZaORfrpMcOOfsSYSHZWs2uOFU/u0IM/oOqzX6XAST/qR/l+e/+n+ZXW6oHdgm11fvYLFeiG7yXBHhReIxyiskpgJvXSkdCx2OPHiJJclKuoBiOuBAAAAdAGeXHRCfwAAAwDiwWfUy6BJIOEXzXVYx3ClQaPcCs2Xi4LZjAAAk8jLbTD5cbn2mQMXUrFPPNbvKeW/2b78UkRN9z5jNWAKbt1v2p/Z613eb3Ho51Z9qKjUiEYxzvc1YbLitKioQqiqzllLjFLfEb0MbIeAAAAAZAGeXmpCfwAAAwDidPDv5TsSaU8gQYNOmDcUk5M2JqibDba4U0F0wAD4UTnM+9M1/eTTn1RE0a+tXu59KlKki9BCUz6nXX4F8I9PiOQvFRfsGXp8HJZ3YHUqVfGQZh7ozGa3OQcAAAEZQZpDSahBbJlMCG///qeEAAADANjwm7FYwYHm7QLESvCJFyjLziT0AXlI2069QTVQmonEK5Lur6mbxR/XT5dWqimZ66daUHzVm1Se1A6smnNhbanTtwX8VQ4Ca++v4au9vNkO32szpnUuLFZPkKZwRclJr50XWewBn4iwfZOI3l1Xaqv6tC5kypNv3idYFLvFM/cj0DO03O2PlcAlmX7bS6dTh52pDEdZujoK/hQtaISM52iGht+BtI4y1+XDRLyZo366FUjgybr8A8xgNKHI9hL4tnIyh02szDrNNSK8c5jShkaBklLQXQN0TszacxAFdTjn/UQe2PSiwjh7eCkXug5/nICzxCXB/wR/OOMMYnv5St4zkS0Y0YEAAAC4QZ5hRRUsK/8AAAMBfrDRaZ05NV9OFAFyxg8/QN3sdl6mZGI/gk6li0cNgWFW7NbOYDjHbExKMTWJQlXic8tBcFOg3jX6FMuRaChTwbissiW8HzH6lrrh3+BHgw4rh3/fc6jahfykzPvgkUcdNhVTAwVlfAZA4BM83lDHB/aUopimbcwI6PzHPOYDpOCAMmOc3RZt+6jnlY47RaUWFVpq5f83nY2IVrvoJfGNlf04k1TprslQcrIGVAAAAGwBnoB0Qn8AAAMA4sFpEkc/pCDl+noXoudGYFUoWQG+JbokfePOb6ua55+zPyOskAWszhnXAnaiSlOLbqgc8/4F3v+lV8O3lAriICenr1OEFrm28tlHlTR4oQWxZifRBNmfK14Ws7aRWgJdgkcAAAB3AZ6CakJ/AAADAOgDSEFCbBlycWy3GmIanpoYnqAjicIAJxMhs1FlMMd4mMKlXmH8McbHOKdzF8lrZRXgJhNnDDgXGwlMuKjwehiD1t0XheNn8IFnUWbn9XIDymkV0Xs6DQ2ewDMEp9vd+qmvQxKZknl33nWIRcAAAAE3QZqHSahBbJlMCG///qeEAAADANjwnmimKs9Hyk2oyCYWqwE+uEBhhrjr3FMAeT6JTj57MVIMweLSEivhRRrLoY9rneb5WSSXCCl4VwPyZ2grpfgxvRURz5Qc0zFDu36l28S49YL4n8UwfrIAe6kozzOT0sw8cEwt4q/UizgEd2G2cM/nAu3mBqYZfL1I7oFoyTgeFVp7eC/BvG43sS1JV0I3JfhT4926NRWU3rBskqTSGWbgzCqsl5yeEg3S2bJaXbSmy/vcQ5Xs5jYIMHM0Jt+9N21tlrPpqpX+VD8hWgw6VkzCRTuJ7hkQDa7M6jK8PTjFMlxC0+dMrqaVcncqCq1urYK0AticR8KiiNCYkT0gCxPn29dHDAg44HQ8A11QneXTkr7Kcoh7HrCs/5mvMcYwfsbwu4EAAACxQZ6lRRUsK/8AAAMBfrDKLhO9kM2SETJpdDYmHMOl920gQJQAAm9LxK8C06VmQxuChI/Qql8ZukHbG86HlWmzoegkRFgqGyBMHxX58MkvkqGAmawE/ZC8Z3+ouZxv0y60lchrtXZoPv/aI5rMb3j9F84I2tMiJ2K+KHPuRa1VhxVsHwgKvXJS4BQ0FELVSOR7tnrZZYnODO+2ELhdxqP7vmOfBKCliNEH0oBj88q4AG9BAAAAdwGexHRCfwAAAwBYUdgAkWSDLM/QF1JJWdp6B76VAo1/0TgAfj3ABmSAXzKC2SdMA8YBnj3AU31VQzOWFKvDsQCU4PbqKBqVPSnZyQpE5Q+PcegRPaf7WOkHUkra8ZjTSyimaYUJ1vDGbCjuIKI9D1W/Z4I/mqyRAAAAawGexmpCfwAAAwBYq4dsWR00D+s1mqxFqhxtbuq+OvnAWdWQg0AAaUlGkV4VuZpo3sztv9SpKoOUh3R4Tj7CeXvcFvQ7fCOiGfKecjpYhN7S/aiilkgZWqPrbdM+PTATLxTSGrGSAUknsUjhAAABUUGay0moQWyZTAhv//6nhAAAAwBUA7HDLgzyAEz/T3W+98eeX2AZomicSkpLmAnZkRQDTXJr3Eq/bjLMBZj5aEcB3/h/ef/KkBjcyBuf15IdKbacHd9Pdn3KWt9y+ncabnjBtwHUA7O9E/mFqKLPzzrdsALRNNlVVj0Tc/9v/dJCpfXfIuGAp/fcYfOu6FbF9scKCJ6f6+QAeGnC+5ztJYFQqf2L1FDJXiUH5emxzRuF8yr75oU3gjM9HEFL2tKBGVAngG57WzKJdbdeTrHTwE9PbIQOYcIDAwU6lI4a2allb6Ssow4b4OwrZ/a85NwCfFiJwg89exb+wF3VQV2zTOfziObKNXALBQuOzp7hoF1rin2gFsv2rHrcw71714W9BltPIC9ZVfyLtNtxOjCRSed06fREzU/0Sg8Odju4DjTJDNHhmgSIqsNzk+wahNwRregAAADbQZ7pRRUsK/8AAAMBfrDKPz5zi7FYZ1JsZAtMALXlHWxwtZRritMhHoKUMD4enDPJfjV3PDAfex9fSSk/yjwORMGOPtUbzU3xM1notcCULVLcX1V9yaJKZ277Q1Wpsx6/867OP/3R2E4JZ9MWcY5RRCPhkFRrvMaC1PkU0lyM4Tw7rOZ7qDG5zaSqvg+3QzDXhPnpQMMwJ59JdZ1WbJ4+VasSFY4CKIPD4wy8e0HFxMRxIU/i86oP01268SZBSfFhSbdPhHCI/1ixqRikSOF5qT+/nPir9HgLrgLKAAAAhgGfCHRCfwAAAwBYsJVvt4E/GQe9VEOSUfamnPQAPxdJxgNHy58OChznIp0vYLWFvJZHywfQgGhqwNQDJjBhOkGul8yBCcFVqS1rtZTJ9aBiQag2LLpSTiRn/HUgYd9+QSa0E2wXu9aa3jVLWnLoQgJexJNGmkopdJDUI5jw/I/en/o1RkCRAAAAhwGfCmpCfwAAAwBa7cGk6/Bcu/vNEbMuR7G8MVABMvNbmb/waaZ0/qeTfi5U1zeKkn4+E+YI739s6WvMfzQNlTJkwIcBd0R8p7KsFvMvij7utp42rbOtDH2yGPjkdlxbU50LiT2/tr54SdxQdlZz5EBY2c/J48RCT9C7DttjV56Cw88pZPYRMAAAAWdBmw9JqEFsmUwIb//+p4QAAAMAVrpmBPgs3/1IOSC7EGO7Wpg4A26ZpjWyxqGCiqFekeb8re7P2KoM2kqqtFL9vFWQeaBk3r6A7OPor0Nm+IKIOOIxhJVZcTJqduGZH6qLHCQ8Ga2YiKaVp3NGoqxI1uzAelcooVfvfIH87hXX3WLUKuohCS12IsZrIcEqL6PgJFr2Oq481OOCRtXe5n1GAU3F54pTCD+myCZbDqmJ7oiEGxIfAw5DrroFknAVJQ57XH7IGEiA47M2vYihFLB4URs1STLAOpp7uSa640f7mt/YTvfrzppQCpzeMAlhve0/vjFA1aYzI7HUeBKigBA3rqWWI+nPlOfPnTP9QCk35gNYzD36sW5VHBnB6t/+fagO92G8x/Cbg8limiQAkgHQl4IDswlkqKwNiIgWNBVIkjUohq+S7PWE7I+1l1q+/uzZcI4lthq9dk8RCYbxTI2v1Y7x6leWhAAAAJxBny1FFSwr/wAAAwF+sMo+Q52N/AlzkjiTyKrtGNplovKH0ks/GjDQAWqLzDm925+uWVazrqochlm84ZSp5hdn5gXWaU4lvxasoZPEwhnL17wHQW/9duWDpWh2Enjl+gvyK3fvpbm+yDwcX/py5pwEBa9pm67Ra5nqy5b+tBek6efOs2ELTUMqaemEqI5xFtj60q8z0Q8Sj/Elpi0AAACMAZ9MdEJ/AAADAFiwlW+5UFMBFDYCnXagR8GXjXCKAB41HFsXohzm5vlmRWb0AVsHPxEZ3a9NgsCfiQJgd+02Lk5PrONeEZ6qmRlE/BHlEyDd5rTVukFOAz6g7GKjqBXirxBWSSlNP66gE4XoK+eSa+Xsah/HGg/FtOsNYny/fhR9ghXU0EL0tqIRz7UAAABzAZ9OakJ/AAADAFrHfkMdAaS1wjqd4uLdlAB+HSsQ8i0F0ZfkiW67/fy/3y+ov12O9dVRo/fjQr9+Ik3V8QZFULUyy3QO1vF0JhD4JJhrw/peJsc2yMJZ7XlX9nkrB/CStYSr8YbkL9TuR5TQn7rDR8bURwAAAPtBm1NJqEFsmUwIb//+p4QAAAMAVrmXaOb1Yo4s18o3vSfprK2nCj6OMgB8jQgz6GfZ0CaFIoTsfeBT+/P/y9j+V97Rupl01PApplnISKKDvN2F0GkGvWLB/FNxpZ9/6jYB9MEb4jG4S8KukvjtqysU8WCPn1VwZF4G4x1Re3zAUgTCFiWoGulCoNJeqitMP75dYSIKQXwelbRdpl2eaTHb54s7Mai9C7k2UzYgIrDogVt4fl697UDyRnMqzfvcdxVXMmOkhSFBxmwpLw8TBr2RzAwyBqFQD1QjqXsrThpQ32JYmRBOE/OrLQfLkjcl5Jj/A8z1F4rcV4q2YAAAALVBn3FFFSwr/wAAAwF+sMo+e32p7VEpJGKNyeZ4gBcDw2qxXvxiph6iAGyyF9XuVt1Tzf9fn0no34HTeXSjLFDaYW6hHlV6X54V5X3BHwCCDlEnxDst+zRDKHWwj0DIAJzUPgVH1pZrpGMbPHTVqba6qKJB489Pu9dtfucASXxlrUZYFf3CfxgX0WhhxsRMtPRMwee6PI/pSmzynZI8m4O5wX0xVlra2KnUj2sD4o7G4aL/wO6AAAAAhQGfkHRCfwAAAwBYvicwAvGkqAm5evj53WKKIBnH+Ls3cSvPBO0SyIIHYgHAh5NLEmL0Xka9RRh1DRoEh5CkFe0JkgmDgYEvYiIdhaLqr1NrTAtKN+0J7+/1QfGidGpHkM/ohl87lJsBm3FeA7a7R8V27z9Lo2ytlSyHvj+HWq/e19cO1IEAAAByAZ+SakJ/AAADAFitSu2v6iwwCQFcNnonQWntJACBRSjZl5zGxyly0cz94LiQqLn5a+j2pobEHy1JN7VkU+UwGQafVueEiaRcNxDQiPE6CteAHbABqEzbjZORUhwUNcqDZL1AYsfpXDsQyf+wT6PcuG1AAAAA3EGbl0moQWyZTAhv//6nhAAAAwAfrNhpAfS2BmM4kr7tLZN2EQ8dxxH9o2uMAH68HyQzPADiqNHa8LXl8NYHSDPtu2R91hL/tue3LQzf+9IT3JXnhkbHbRUdmS8xfgedapYWt0VB6namsXl6JRQbbTbCbmNO19IWibEbVu+k0qnKyt1v/k93aH2jMcOSyckeucb61VZUAdf5SEX8lBmM1gvUx4aJ69q5wo7AcZWnRNluPO2dKPEd0wbh9quUmOAzbWooqH/+AzrLPFcXfcvapI+fUtn8mboGCsbTrUgAAACOQZ+1RRUsK/8AAAMBfrDKLiDJ749Jyvw5GIfr+S7SmHOBS5PqABAURijukZHEE3asDhHL7WOnYP9KnPOheYnH8Jq5lVExLfbttiy6QZjOzKD1IUjnfKnB+p9nowZ5cvW2F5H646AREdjltgydf4elhy4s8QPdocUJAZZRCOUzascLtG+Jmhu4WRaNhmmbuQAAAGEBn9R0Qn8AAAMAWJFPda2HkmtQ0IAS9oR/IqathbFvr57Renglxrofn1ZwSSEqdt6TQsGM7477MWbLmkEMdAcPUna3cHlVCly9oUuRY5wLWagpYyC8Bp0ak637XCGKwG4OAAAAeAGf1mpCfwAAAwBYrdbWOsRzBkWKyQACWKcTIVfkEUH3IvnR5ZCjw8EcYMHahpJ5MmGyTT8+qOifJfU8/mcW0pcMQCvXKh94osb1EpwmHu/RizAe3MDmSbxdt7c7ClVhpiYukOshN3RrQcLNEl7Fm4X1r0IV2xSg4QAAAQlBm9tJqEFsmUwIb//+p4QAAAMAIKO+C8xXAyYWe7sUDxwXpHVptNsGuzyEu2eaNs5DboItTp4EqGf188W2w5aQMyu/4qtI9BoV4GBxAod4zZuhZjnBN1aa4k0jgaiLFNYr6pIvfCl/7NqGR04/UdgGHi0z7tCzCCVj/aDVfc9Dwx4AS970CRcQqUAAxRnngw8eP3Gshrjd019yRtWKfbefbGWVmM0JmL6rkSFWB8hCGE2MJbxcKr7G+F9F3aBYOrbjhpnqAfxxGfJS3potMjfsOGhYUQMPTcQcf7LAjgTPQC8axeesBDwfzglhR1r09br2voPaFR2q2Zoyzz14vKfSLyV3FaQiiHdBAAAAf0Gf+UUVLCv/AAADAX6wyi4jVku7Wk/S05JIAWu+wxkuf6FJDb5lxFLpThdNPhvMLjxKz5je8VswgSEzXhGpBy0wzdg0z39Np6JdIYXro8xujW2RFEMPpzoudltC4n+62HOWiObt+jiMjnswrtG67gjfDGEU08gq8r0aB/WYHdAAAAB2AZ4YdEJ/AAADAFiRT3Wti77on2KcfyUJX9gRkO4aIQR6gALj5BW13gauVGU7km3lwSK6nXM9lcZ+QxX5zau18mmBEpGjQZQQJxd9NFA2Xq3Pwxq/6TP4z9Wt36GWgTUYZBCv9AlEvro1mpMpqCHgdpGBTphcQQAAAGEBnhpqQn8AAAMAWK3W1jrH3mHX21ZMAA5AdpnTvh53LOuW+9o3/XBJFYLAA2L2obZHvwt4Jr8M0oDtSoS5jiuGE4yWWp7guXMMMQWIch48FcAyANUndZFZwOBNY3DTDg6YAAABUkGaH0moQWyZTAhv//6nhAAAAwAgqXSWPrsgCsRfIEPVgYVUqssYckDPf7nOPNl2To8Tv4v8MLvAi+2+SygwSJFaAZ0Ww+S4ou5xq2VJB9DJr7X9GB8Bba5jm/EnwpdlqY806bVrV1l6/2zZIb21d+cMlFIgKKHXE3Vr5UQ/BlklUwyJCYFTREW9NY/x2AJRkigG7KMFlToDi8ruFQdmdy8pPwtlR4R74Bann+wOVpwmlksZ33hqF9hkbKpNlH98bf2xeDiBF1IAoJEaLODdr/1Bhv7c+1kiM/VvtxAMQhRMhiuPRXEzvMpABcNV8PXmhfFSGK6hXH/kRVnHZbHiPH5Cvxzeynr5SiOY/zNv8epVK5J2FOrlFumQBNlvd3no7N20ZovQql0oOXLHTwG/PPFR6ne+BP9sffCQzFK0YpX/8stl35NJ2C6Bx0k+VWJAXc3BAAAAxUGePUUVLCv/AAADAX6wyh4ledX3M4u3EgBx4OQbjIvuArxAot037KGnofey/ripDK/h9MjFogF56tSk3TNHiIwhZHZQRQOunzp4q71PSavejoRrm8fsqGMfYYpvhRbEOr7REDLkLET+YFUNEyS32DKszoq4Daq6O6Mr+FwOaNgxoy6ex4KOsIkMYqZBiqc85aiBCQFc2D+hK6H+j0Wib8xGq7hIkDo5RAwLe9kmJ9rFbNcr1Qlj+AOK3ZPHphD9M8zCwEvBAAAAagGeXHRCfwAAAwBWUdTJjXE0jRnA47xmi1bRC9MgAEs/kQyP8BCBSmzg1EHG8ol+r4+SLAyJJjyLBNPYOL7mOddao7O7TOEiMnYaeJeorJw6mg9TooXolhzCIBYzDnRk/xu8UY96+Yz36MAAAAB0AZ5eakJ/AAADAFZuN4bzwYI74ocT93YgAJzc49OZYpbFuTtNGAIn7nPkxNsQ6+O8ogFmHAZQyeg/ZKX2QJFArMPlisG7q4fbViNKHoBXL8sM7HX8lq4k8rJLIOk3TUMOEVn4icXQ/2TPznqqoIB/otwGfNoAAAEoQZpBSahBbJlMFEw3//6nhAAAAwAgqXA9j+yAIhjod9tZi/S91Z/2538a06xY1rPiB7o7DKMmoHxQLWtWmw7OeCKxHVdu9JQnTN+4GPTQwoESUNbWF5YEV6mFLGGMVTVnXbWE7SupZpcVtjUnNvd0jLnCSgtvvKUMf+ZNXH5iSRWL9HR5//39QznhBj0+q+VOAjlHkg/iI79Xkdgh1eOoSsbQY+XxQcJ9MdXFxZ78IkuiJBy2/crxXW9OeFPNo/mWrR/lKjZQXioi43ZAk9GqkuvTOIQncmwVvdjAaMuAnjsPHYt8/TFvcRX+5EoYBcgC9TUttNIdErSh98+blCPVvCHK8vIdV6EDNIptLYRANZmRZJIPWnPlWObcEf63pLBUVA4kPgqL8d0AAABtAZ5gakJ/AAADAea93jxtimvMIITSnAn5HgtUcwCIATW6OxCBciXpnKcg6+Fm7XD0q4LRr8eQKhulRkAxzRW5401kCdy937B5Ru742nfgQrCX5Y8pZXNXWZ6Eyu402/1h3oGI1YheqYDo/jeizgAAAU1BmmVJ4QpSZTAhv/6nhAAAAwAkpd5cAmi1/+5r9yQ6zvhJdIfurtTF+oZttue2vBYnDiEEe5XqdIeeaqhSYfnERoPaKdajyRQOWN7HyVh2LKCU2d7QZ/yxqdqaDW1fVx1i104L7fbBvgVn7Et6VMUVMgp6LtgV9sWntjTTAsJ4awEpCGHhLdaTjjoxjZzVSOmWihMv6exa0mn22jwlU9WTv7plRxG1iFTMIxA0jXUo8FZSAV9IS8M36whZsIYYvSUZosUUa/Kwx4Sg4amWy4liHpslqum7BG4mATT/FIRvTZcxjqeRMchQo2h1KS2X51uQB1XocVocCjDQcM9B+6eOgrHqwpK0p2Yx6pCBGzqxqqORbW/EOPP1BnWP+vrKGhCHngas+6z03HJJ3TArqgw4fSb05E9nF5PhkVzMYV1t7yLzolu7+aWPAjXqqYEAAADIQZ6DRTRMK/8AAAMBfpMKHdcSZPtMwz67+ckAekvpE5M/+Fn8hf0aVZyqwqgAdodrYCmkyRux36oc/wsTcfkrqLYtQarqHtlWXzLF1Lm2GoeRolts8GysXVcojesVLPMqmr4I36h2tUVmHv3tTODiIolWP67Z/T2S/c6J8UYRq2ZsPlGb/2DBvD+a4IuH9haTWEhntDSBLTRyI2wH+Bq7aKvfzJDorUW4rRp+5gIKQ/viwNeCZKXV6Qr2b+ciAa70BbD6toDOK2AAAAB1AZ6idEJ/AAADAFZR1MmNXBiGTn8dYQ6e+eOtr4s7H3N1lEaGEnZxm0j7EEiRanSJf0VgAIEDRmvkeXKS6dztYKnDQx/ot5t85qumJwKTOeJqNLGsAbLNuR1yprQ2spAIL8sjM6bpW42vPiRWO8tvSiTqAHHBAAAAmQGepGpCfwAAAwBWbjeG88BuGrpzbkz2MhTqcjkagcQDBHMIAOLNLoy9Vs0mYbh+sdOP/favAxH6VSK/FM/HfLKt2ieOHmuEhvrYNFm2nnQNVxkdSzB+ci84d/OuLeJG5+lLJ/7EMsQ8WUDqpruKgwytksK5rW8KhUOacBIIECr8at1L3horwpBuueQ1N9fuLJh/ngUWtLeekQAAAQhBmqhJqEFomUwIb//+p4QAAAMAIN8jYDvektBWiAE7csuYeFrum3CNcPuKSMN2UFtdb/cIjFwPupt3dqGYM7FpDm8dRWoWx75IbwOkFM8TiQ3EleJ3YHZa5QDfXEnDZoedfY5dM+zQ0lCNWBeNFLpNNntQikEWX7hu+OfJEoHoW4l0EXoSxMYEt/XeMFXN6xT5l8viBnl2puoYfd7QvfZmPSTfHc0JTMZFO1K7YAm2OgAjwfQY7gBCPb7tK7HCG7LyoMfUImbZMVzLcaY521puP+md3UH//9MUTRQ72lDYgjj+pYJU+/mlK4tsxspkLtHKj9S1PcPCMBqqsEYr+b+W+kb3CFpXDZkAAACLQZ7GRREsK/8AAAMBfrDKHiV51fa4hoBg8DptEAQfcrD1CiaYrQPt+CXQtlOSQ6+14G2LomN53bgs/9Q1qTV24mlDLhtUv2v9/4/WaARE4EjtAf7wIuNR4mXTUEYJx+WdFyShMoBhO4FVfckzjPuWi47VD0ipsWsS66EF0YsdRJmtVijOk4YSc8LCpwAAAJEBnudqQn8AAAMAVm43hvJNZp5+4+CKABFWAWDUjnXYrQAdfkYGiGDQP6zRomNAhKo9TF9mV2/oc3ogJeiXBqjVqUjWYxrpeE8OaUtyyQ2WMx5vapd+vn7OkIUgU7KFnCviFNOZujeWRdL3vFyxfU+tBu6idHgMiO9MtZF8ghXjgxPyu7dn16q5Fipw7GCQuhswAAABIUGa7EmoQWyZTAhv//6nhAAAAwAg3IPniE7AA2x8wCC/7eiY5pw34J1l/qZLF6TI/Fy/UIHGmenIOGlPvouv36M+7HQ3G6VhbmieAzzKgteLsqzWPYAL+0IR2RSLmhaeMU224mQhHC8cpgf3v+L4gyDsrZvhjhZwqBnnTCnGJokRQIVT/rnWObHwL3CqalC82zqwL+8HGRsVCvhBcVqB49Q36U0AnJqUZbPvlhHUME3V31KILbsojOKsIXBpjvVOeAchimzi1WWXdxZ3s0ZiewfCB1M2MpYoKEW93+4h1+QZBBWXYGBq0Okt7EmCjYdql9vJdwA2IS2wqPzNVGKyLm3/D5U18zMJ6NPv8RDrJ3WSQjdvwkmnq7RBDLvPXdw+98cAAAB3QZ8KRRUsK/8AAAMBfrDKHiV51f2XSTCKAF+KhUrT55bUYeUDjjkLi8dKxqnfbIw8Pa4CQlAb7MdyoCfSj8KXWstYb2ODG4Ox76C1cpxm8yxbwJ6UsT2JucMqt0oDZoGX5k48QpT0ScEnw3wMnUPttDFOGrbMQMEAAABwAZ8pdEJ/AAADAFZR1MmNdZjDKa3Iez/FUAHGfY0tied0DwgPZ91kyzwHsArOVrQpU651RGx7PRMBBWVqBApDtUO1R7qPeK4hVdW/onW/IKj28BV6qT8DT+Yp3K6Lgwh9mZonMJC487r2V0Gn8tgDugAAAGYBnytqQn8AAAMAVm43hvWRTEQDmETkNMRyp8XZnMr+gRACH5zahJqHC7EA9IjPv8LntRZHvtDVESmkA7MsgyHhTWvWryikRZs4Ko94UCa1rAz0AdTaE1FipXkW3duzUtpI4oHggR8AAAGMQZswSahBbJlMCG///qeEAAADACDdN7US1QNa+/4fACEEPo4cfVHrrfesetB/911ufnDDnhZyLpFwCM53f3/NjZGbzeRetJs1Qxd3m5AT+HEqaisHzcpjKb9gVxUzj+iUrL1he0ly4T5OPJhh31RC8dR5iPqliS4ZiOyjYtAkjLZOAMo5VNtBjA5a58T8SA8KcWFXnDCdxH/1b/sIonixTPKZxyyrG2OJW6MHrFarU/uCzHHLQoG/wydxMY2q31qLE3nA5w+ITW7cPW+EBql4hXFEMe6XUa9UGcku9B16qVj3XHh10hhtGtbcHM/GGxpdZ2x7YnHtK5tPwoK9VL6clRYtsD8tt/o+iYI8mtq7qEbG1hu1At1G7TKF5cIKHPZfSFeWWupBhR0c/dd3XBwS/5mevvnEzBNwgX7mniidphDP1mk14XpC9ixReev/yIvGxeJN65KLhYgOZ0+XgD8aLUC/J/3fYhBz4I0hAUndx1MbjOe/Xoh8ilMyKYfbbBXP7MHgVPZnwq0Vb3jhAAAAmEGfTkUVLCv/AAADAX6wyh4ledX9VnK0wBEjU37eKYOZ9545/aHWg8rlM/wr4M9p6f2kXghn/MblW0kq4VEKoeV9g8A91hGKgUQXtxB/YUg1eNpy/RNqUqRMvuiLr1l6yk/VThfjAIYXbVaH70259eZLbj+8X1+sv+vDLbIe4XGtrT6YXPtfTybf6QygZRu938S0t3uGGdZRAAAAXwGfbXRCfwAAAwBWUdTJjsoSkKWc4/9COVyRDCxWAEyPmRrwTt27Ugs1NmYQP7fWe/PSDq+nXC8jdKGQzq9h/OJ0j7UfvepSIQE0+efbNoG+vaiMZXL3HU7xUjkcegG9AAAAcwGfb2pCfwAAAwBWbjeG9KjY4EtuKJbkgA4rXzbmBZ/KxszfzNmmZSQYLDiQIwheuB0cmkd/T2MCRN391vtucAigwB53oHREaLu6ytND5wfRR2+9qViG8Xb2G+/KBJowGXErYtQXJ5qVz5GbZ8J4c6Bl8RcAAAG2QZt0SahBbJlMCG///qeEAAADACPfBBgfWJRmWx0gBL6P0agpmUeRCbdL4lxrQqW26i25x9D5QoC/fPMqGTBVnAphNaVblF8ZIuAOTUFJzQw/xMrqB/JVQ0AfmThoTSgxXGp6Cko4YcmOYSKWnsiuZwq8FC8JO/NI8SXlo4ABPVEiGYEpARPBKBX/AYtyZoZZGERNpiG0Ow5VQ4FmmMMsstp9FtDRJ9+k0vBgchmFNwkrlDTC5iCRN+6ch/37YjZ90GSbZ9/5AlhRH2gnh7Y0bRjIO98gMhxgXxCXDa6x9FrC8u63iXjJkUG0AMvqnzM3VNXEhyB3vnqDlhjpZzHgilTfaRNW4w0SWtxdL+AQuVL1A9fbxSCxZVxsth0Y6/GVr6y8LixSVNCvC/0VgJr7I/PyhKFOPYJDNVuUddBVvICz15Lehycc5LSt6luVz31YDnk3eBBQ0iOp6wVlRckwxKMpwGL/mDkIrfDDflE/R/08QvwlQTna0twT7y9RA95UkiRJfHk0LenB85fVhitBJdQXKZSs6lNe8qpslCMiXe+z6nlVqqxZWinuP7sJXYiT1AG2nSIgAAAA0UGfkkUVLCv/AAADAX6wyh4ledXXm/DlDCWFmgA+pF2Gau50uqR/XUbEeDnqcrncyYMiqRePdZDJ0mx7IoaD9/o/imRPAvdwdjkwOWGbX1pdo9sxUoOSWf7Bb7ZDUtZUgK2743XGxie1YIgA9jE9364NKc7aDJJbQt8wJRtrPaJOfh2peO+VJLHzfi48GhU008uxSzpeJeL5RaupTt/l9sRHcAbiL2ZFSMmZWqR3qFh7+wkkZcBfSrHb/698xC5uCH+ZupCmHDUWHlXgv6MtzCZhAAAAjgGfsXRCfwAAAwBWUdTJgxERuywtw/ZAK8gAlSHyIv7KMZpmeQj6caRcfxD2W503UN17WJXbEFBsNwYPw7hPaaXrZx+JB8uCO12sNw2oq+p6W1+JWaKQKTV5qNsu/khmYAsuMM5RMh0OrwonuDupXwxiKl90bi1vKz1UTeOCMJN1zQe+z/9E+Icoh15YKuAAAACsAZ+zakJ/AAADAFZuN4bsmQ8Z4oeNkAN5FkXm5loioBuTKT/63eeoKDXBP7c+vmJRXNczy+ZCQmSm56oCXpSXnMemoThY9QmACdT4nRKrG89qh1QAUskhgm3LWRWAaOOH8WCrG6vX6l+t7XqHHNUYJvKpzZfgJfGNZ6GP9F4a1jDhXavFbhUDPa3IkMJa9bAdpTQd4nF02odYwHJW3K1RQrNnk9SmxM2vh6Uh/gAAAXlBm7hJqEFsmUwIb//+p4QAAAMADo+yjY2xDLDYojE8/ExIKZKy2wkvD4aP0Nn7CFB0ellQLQSEH5U0mZ2PjK+PEGwk3HZ/4+73nGpRDGRJqpYspccIl5ws9Gr/NU/PNkOfVlDuhbGK+eBqvcdN5/M2v5PW6/23vuFFnD2MwBTwhuv7XgPJIBk+Nwh0Nw9YjWyA/qjgZxzUnNlBWuoFHAgK5eKkc7HeJ3gbpVJ2YWuQYiydCWkc7REHnkLK1y1faovDS18cveYyMt7D8nfnncr3f3+iaAIeVDpOy+W8ZzYrBCYE789wQQzhh2/w5ncbhjuDbHtB8u+b/TDNqe+H6PN5jMddXFxJFlYOoU4V0qZgfn9ILmC5zoEo63upCRkkufklICjOZavR51A/2whV8ldKs4S5i5JvVdH8DeJsmCuaH8IqI2rauEwsOoxSP59SOQ3cmYOLYxg/ypi4JPb0VLAF8695V4VcuRQBej5TDJzkm/82YtLMUTR5kwAAALlBn9ZFFSwr/wAAAwF+sMoeJXnV18DgkAQZFoeAMjuZfqfYE6Qf+iEYgPNN5AWemFTjnNGb8TOz488RaiaGmmYw7+d6vrd7QriHAeP+caRMtLQjph9cRkBmFGhBL+MAFM6trdriVXZdxmMUr9Cun4RpSRIPCcL16+/pvPpOQfzZaQZkSgtCf51wqbkZJDYtqp2k9YRBBwkZgY7sxnpIPCIEn7W2CNVv8hYVF/sU8WKFdNJJI0kEy6zBZQAAAJIBn/V0Qn8AAAMAVlHUyYMrofIA1sVfEFy09PoHlv01uJrJNuxIhm6NSj8pqfoFXJMw2qooQlD7X/HPBW4qLTKq7swHG1FEYr24qJUjS/WxU1HKTdMXCAk/ReWJqlEi4J+ct/whtA3gvy3xbGJhpQbTlnY87ER/9aud5sNajI+jiQzUDiIo6uN442zSW3H1YigxYQAAAJcBn/dqQn8AAAMAVm43huy1TBADejuP27NA240i/QY6GfY1kMl/7lYdunSuJForNQ4UWWr5zabGsuNZox+PLF8Gq/5yqimR+XZADHu6WcZkHNUAR7I7g3F6IcBrzFwGxwr9wR+OyX04wMeFEg4O2cTNDtx+3JHGtbDpvrzxu3fyjRgDyDrxZZv3uaL5e5QKjU5B+7Maogr5AAAAj0Gb+UmoQWyZTAhP//3xAAADAAHy9N7T3qeLux5jNh60oBixo3X/a8s2bqU7H89hwhgLSRFA3/Q7fzOODQXFcnWJnJrFOyMIG84iOhpEJTX37CadvjYyEhG3D5kpr8m20Xbp4rmGn9gcUnzHKmaq92LnYzL0eLTajMYGBivFFmAFa0EpcsACQ991PvVgDo7gAAAKW2WIggAEP/73gb8yy2Q/qslx+ed9LKzPPOQ8cl2JrrjQAAADAAADAAFHh7Xrjd2DW0nQAAAawAOkH8F5GDHQI+PkcI6BwESLwC3FfYLDMUEABlm7SkJsKYVXqJGu+/H4trI6Vq4QdQFfa6phopOKpsXcHcjIZ20dSih6qyRdlyJU2EilggPr08/mEUeGpJMAe+X9SjwNLT1vshza74z3XAk23uqXZwEsbRr7KKOTblyYZCtnwI91m2ltONFX3xDfmpQfHqTAyrqEc4PV6Ap8RqIa9wWVoIG9ScILjBbu6PFl5N3xzXumXNfBK6SHDOvo5RaI3kqNYWyjxvZmFYbT7/c0JkGKGQ+io9r7ytmDv7je5Jjh3Q+G5YZWQSsIkuoYiWmcNrJC5bzLfDy85Bof4k7E9vImF+/HvFHYUpmGz+ND84lirDUAAdyM/9R2JSdm0m9QtCrND47WC+1Yf724r7SUbNkbvjrfmKkL8sMpb2Ks9R48CMqEaqhyH7HctEjaezMa14MsqIAIgK1hsulBTwa3ASpwt22aq4Ru/fh7YkRgSyagrZfwk4GfpmezSRGFjc/vdJ9XFPj5B+zrvw9vspCdmOuzbJy8TfbdI6B3wA8VQZf1TTfd/mjIc1pDawzweH8tbLJobyqCDFNYM3BWhftuqSNrezVds59pVYgV++5r3cq16ShJovb7CYLCDPFgMYCxcDYYKzeUslSCLOoWcLU1DjcWJw11+vy/RRxOiyE8lMTNiTDy33SJNP2qEfMKl9lznMHbX9dEWM7msvVBARtNmKuND9Ih9tqhPh96WT3+a9p+18HErVJ3DwWJ6D5IIDUF0Jahsm5XXfqi+a4yOaOgHwPUgY/S5ZZvOdE3XsIZe0NBaQUEn0vA8SMQRsQSFfkNPb5qMpfuXdf72Vfo9wmhbzO2FmADzHVXrvUv46twaWiHSx+CQDEGR5BuHkHRaNFwI+Gv4aj0FmgAU1ZFiVvNSValYrmIwCh5C9jufzKF4cW6J3agfcuXcAF+GJ3Kp+IVZ6+kZy3W0Ov8IyttySoS+0tpVMF6zoYDos3sgSSVL6osPBiLZxkhApnCjjGtvoLRPhhWHbu1TazWDEUeDdtOvX69jdMjOwf+cHJVc/X2H4oyxJp/Iq3yRy+qRxB0APKjvqIm6l1TxZ20VYylDPVY2p0erDZGP2PhgvLjZlFwd5KBXO/xu0lGd//oQDManNeiEj90jr7M1M+HlP3ar411ilAJLnGKpxr59YrVrX7WWKI1i1JUYoqCB10t+0hI/YbEeYE2zGNbTaZufurxP12eRM74j2e/kv2dR72oCGfivrSR65JGiPevKcCFF+LKvFHhhfOiyofLROCf96HtgHk60mT93KnndNPR7TPL/syd6LqRpT5q8xw5UdaEVqjMz3hW6j9JYA1ppSAcXzaEBCyO2pdHI8D2/NaCvmc19BPOlWey3M22D41d2jOixHs+Jh5HzE/q8wm/VBDNMlcjFaY8iHeNP4jgpF44Gh1Da2dwHwjBGcD7hyR7YtOkRTI+XUQxf69SfLVrGZN+FQBuTA36af/LM6EQT1/sR8M6lWzbyHahCXyymnDu4fetN+wfwwbhHnW5QiL6VuLHaU2vLCWT5C5rAoBvVrBWYWARzrvWIkEhlGdO7LEzbZ9w3pIWx5ed43unwSy4dUrIV+bwOxDKP2pzYRW7tBxIg4DLpPmDZLCEZD+ubjm1I7FlRNxO266KdNWMZNfsWoSlfygx91ZmUGH2vj3vqa3Scvh/ctuTpqTq3ymJ1I+mAj88hHctq5reeJSt0pUqfC/5dPCRDhTZ9KFlHz/ghO7Wgkiv8f3LDiVTmXWBW4EhY15IPtxfqLkXOsxnQQv7U8jGWkabHxQ91mUJIBzFrXdnwncBVhCFoV3HiRlAMTH5wvEQ0eqGuJRpRaTFJnH/nahtikTGaKfBRLNZx2k97LjKTcE0JVUbwlYmtu4hjDz2NTDxOroEdRa36F3bM8xpyc3N4TKXWr8qR6PF/iTydT3yvp0hHoTRgMbsD1y9+rf2O3uvW74HrDeKbo0hR/UM3ISyeo4XdGJEHMYdLm1qz76+HyYJGXwgeIXwfkMdHyEWHhnoDJYEkOi9vvfPhZrhKpK1M0Dq6EmXfoUpBPwZmUljHreASWjcmcoKOYr+LrVy8IEreC1odW8JmGKCo808KeyAJLeJq/93GI9DjJrgB5FKNOddrlF31SkytqRxxLTq+ENKH4GNhOcBZCUndPBWauDGAGqZhS5n9Abjm5WHIFN5m4e5Y0Z+tGtXmtGvtUqWOPEFQ2dBpDuRKWcatX84ZaVcFavwHPfYborAyb44veS2q9Atckoo0OFTVZKzvuzGsgTew8LZpZwazce9tOvwnTgvuSjI8sBRvP2XqyHjkwc4xLo3e+14zaM0pKkjUg1wpWCu+CRFoWDGUmB6h51s5+im9pq0G0/GXWr7kPF34GMIGbOu3OsDN4ielzzastD+EaQ1bin4ry5TYMxaixt2oVML32FiDH41zPqVh/hqr/gxYUiXwO8Cy36ZXRqValTkcLIPNSP4SmDq94L1I4lxico0g5FiskTVn+K/w2Ya7Yv10fN7CMHANy4Yfrdf9B0Kg6TKET/okgPDwmgMd2UvSZ+aO8z0W6PujDgJ5A5gvqjwBqPJNzOlQN7r4V30v4A4yzZ5mk+WUzCLKx58PHCmbTjIjg0WLCYWmTuKgyAVAPwfNn/4P7bRiA2JblmE4dDuy4ohjReAONI7A6wpLmz1FNimCVQY5XTitzud0QjINb0LL+s+9/qq+gyIY9c9qWlSBBiredcTEjSxTIjpsHg4mPcDjscNmdS4px8iVFBAq4rrp4TrSg1yIcOf3sDitFXX8ZG2SXlq6W1iC5R5NKZgNLIdSxRLy7kfltuJR/cFj1mcjcc+2LHOuoUxGQOZNm8TwSxOtk0oc6f8mxlKtJJxwwbhXlMEAVYj5PuoE3mq2F8Oi4Ykm1xzyIICAF6gmnBqifAb1Ip7wJOG0+IJnL6W89kZve12s8zQ0RvccB8K7KmvH0XhIex7JTh1hkjKom/Fcm6auwJId27llc45FVoeXVHkDVegScz6IJfjxfRdoT1v0miCghyTZ5bSW9A05k33pBg5xO/ls21+GZkg+TyRTl1BiLqIu1GpHoees+z4FhuuYPKn3wYe33iMgaVt2RsUZdhTvqzBFSNzQVo9ywZGHtBUme8s+ZYcosqNxAOgSNZonN0JizT9QZkSzAn90wohhm+T7Z143A1zn8AoLa+/u0aeZ5qKdIP2iibU5Ej9EcZi2Wz8dc7srnP4TP8GDG/K3GskxIjKpWGX/ll9K/eGfxwbdJRTBGzxxwP8BpUtQ+S+qOZ1t5sj+90WoPJn+lbKdB/kWaEq/GZTVJ9vM0v7uG0tNcEcTSpnhi7vP+cUILW8WN3QDp1xYscf2NCC/ttQ62AfCY6VXdGPnag8aZH1TqrMx0vkKU5Lb4NPjQuDtvk6r7IVkgPdAWsmwrwW/o2yi7OAAA2pQ2YAALKgBvwDIgOXAAABZEGaJGxDf/6nhAAAAwAOIyckAW6otWiBG9AP8bD8Gd+9QVsjafbN7bXLMc4c2kLqjr90owd45EP7MeqKCzHbld31j+AHjK9KxSuZLRdY3TC4zANn1Vmobt3sktyIB/IMGJzV9bfuj6foJoHgmWknRGn7FGdNfIQ7Hlsp4cvIgLTiyQ31Ub/P1bV0TJQIVr2ZuOUfl6yUzfnv/4DrA5DAB5dJV60SnKZ5SV3k95BG4pMtuvkxeU1EkpfQY02/p55y1WMijPsTNzlgmVV6ZSqU/3BnBB7USmnHZQ3AGSqtHOf5JBD4jw8hwvyLHOMgbyaKXhTWXpLwSJz4CExsUR/CDL+Il4fXwy4z+TK0J9VSpOp4pHlfqWD83bV9N9SAgF35dprZTIwu//TwUc6fAAgeoZ1/bcBEvBfGg3lRaHrIQOPqHiT1IRPXAosAIeuSiPlGT4v8RW6+XL7Z2K263k93Bb0WfhjAAAAAlkGeQniFfwAAAwAKzcj6BBAI2NPmq1AsfjwHAC2eN/PpbHfBFgkhH0JuE941MFf81hBUsJmm3cnZPQAKzj6CSSy16DAcFfH8akL6Iy4UED1p7bpLO8aduTzlyby6nQQzn8yHVcc3ggfZr6YpN+y74rI1a+Ip+eeaXTwqWfU8mDw8u44YkHjN7w37iIvPbtNPLxk172JaoQAAAH8BnmF0Qn8AAAMADdTSS5TmaoDdk9jwBEt7FzLtJCgBp5PaGgdL89Zqmw0xaQO70sThAnbU4bZXpQWz9Qqm84npvilGi8tzzhVtSIB2x/4g4IY8vaYgEn9N/S5K0aOpe2lhAiKW1j8taPFs1/XNRP87z7bXayL6L6JiAvSmZ5lRAAAAhwGeY2pCfwAAAwANzeqDONvTpVbp2WYAqWwrxdvJVpsO35FNbxl6BRBFwjHjEVCKB/WO4Lb2iKOSCilKBon18I7VB2vnloJYgCU4WT3acKkisWuFZHGYRruARyGJZMsXFNJiAR00QsClqD2T0ynbyozToWrse8TeHfyDwhSW3R80IoTTm2yTcAAAASVBmmhJqEFomUwIb//+p4QAAAMADTD2XTIBqqpWPAMnBF8xr8Gjf7fXcz3dsPtaTX5eG3cF47EUzmhpkgQNxn3VFx3yJ5ZfdlyVqkW90Ul5Pn8WUQSaUTpY87D4PISl+jmIaftQ30uK5GFDQNejHzPcOnxWJm0EDl/+k84C58dytWdqjRMO4vY+1+VN7Eew39F4GlDcxvptwZuutFCekUtDuaMIw11OgEilIiBRo4I+wSEqO7a/ZJ8DzuBo3T2B1H/KnljqSnWd1eGaJTFdtWHqgi5mw6RqLdp6Ntuz/SMV8st4b2Y8dBHEUmYTXLnfFD1qSxJbAjMqr//JvfzAHvawchPaBJjaGJ3zVlu7n0cTqLo4T8auMVOTg0nEMrPhEQaUF+DiQAAAAHJBnoZFESwr/wAAAwALFXrh/i1FuOQ4SLf8UoAIA10mGXAS6HghNClH17UYNY1dgaFS3/vXjR4/Rls8DDsAxTv4qbjtHdwHPjBztBXucsQXlU4b8GMjP6txcWt+DLITw9FiRQr2wMfIQoH/y2nL/eA7CRsAAAB3AZ6ldEJ/AAADAA3U1eiEn0NYZd1mgBNI5ZI2ot4JycQ8lJQUMgtLPjYLveSQat0c6nUgZFyadVLIus1v9mTET+r3qVkRS8B1xEOmMGTrXsKYpR9tl+ywgAZOGNI7zzAqOGzPmxVvC+yRcmF5ydC8prA7toUROmAAAAB5AZ6nakJ/AAADAA4t70PLkkxu1NIADVzjp+dfEiRlGQqGEC9SYjYWYODv5o5wcme9O8swMXv6S6tKg4U9QweONOc9SrN8g2sgjfmRdcAbs0oO6kv6HgxBk5pndw4g+LNsCgYrSmNGHfJgmPHWCbb8le2Ry7Lp5I8M+QAAAL9BmqxJqEFsmUwIb//+p4QAAAMADXmuq7H85cALdQGcnxOwzTXNm7Ak+wKB5eT8161VYcv78nTfHDx/qppPpvPySCxjTQEnccutXsqOOqpoiS20KJvTlUMIObbLIGs+FcyZMJpjuNjWYL1LtA5UP1XrENaZs9ZhYabKMdXI0DnU8rtQE1WDiFQGJuKuBzaTzieqbMLBZs9FoIZJTP7PLCErTVBVSD+76KIHgJH6FUXIleraZ844QUMvEQ5mG2/pewAAAI9BnspFFSwr/wAAAwALD5d/0Xh9Xp9J/948AV4LNJZFo1h4b0Pv7SE3lNFHg7M8mWHmpSQGYgpzouQtX3KISRRVc5aeK4sO++MIfMNfSbqJLMCPalutW3/aAuwqNcYs0EKPMcXsh9mS3MJ30iKfF0hiKunCbtrUpvEYsS7HZ2jFd0xK2fNoYuYh4dxlioCLgQAAAFUBnul0Qn8AAAMADgE7+zWv8vFRAiiYkEkZy2sQgA4Ob9uYi6O/LzIQBMk311K7mWVOOUd32pz+qFMgMCB1+oXx5EAtkUAUVxek2epKuNpuPcyagg5tAAAAaQGe62pCfwAAAwAOivQAC6jpsk/kLYlaRgyX/9mrEPssif2k552S2UDNwWH3tAWcpywjFjMTqTSz5lNO2niUSVJhq8J0XuqIFLcvRtgsapZtwLofYN4bmEGlazrVq5fR4nxIGiR3ofXQQQAAALtBmvBJqEFsmUwIb//+p4QAAAMAJbPiFIAvQhPOKkHKGr3vL3FrFxArCxsJUEm5Znf6GdTe9Q6OLjvqqNRfcIsJ7N4DBUoyTvVoEP9ImSWxVbGdl1hIK2f+c/5oyM9/gVaSsFzpreaFFdsp4yiq88GkCbrYsrp3zTjhsLdYCV2psls5+TjQrCZyFsun6j4dsp47YpRqlpqwIUsTYkkBAXQkzlvrRx/wQhYmEU86CfsacspGrwTC+F88qgP5AAAAXUGfDkUVLCv/AAADAAxDqjfNqJt6C0YugBXNPqF/qkmIayqAZqxxbRs6M+zZG1i9r6R1Pn9DEbaIP+7h1QDLAjO8jjF2hnOF3oSGwr9Z9m/Ulk9NZQiLS1wB++wj4AAAAH0Bny10Qn8AAAMAD4y/LMkIAEsk36qgGRbrR3u+OrwWO0hobAtmmf2PRwKkTRN05SmRhOefX4q2L6Y7wJd7a6OJueJjgAJ8q+qJKTJbFeqB02QnsI7J9YKWhZg1OLm6javCLbIeTeL22evREVe6BkJWylBuLYK2r9DBTlglYAAAAE8Bny9qQn8AAAMAD43r+qptRyvt7gogGrxiY/VuX6lbPsqgL2RcjnXzXn68LU+3HCIAEJZ4rjOTKBmadRqRxoBhIYoZxnTvv+EcsrcqnBZRAAAA5kGbNEmoQWyZTAhv//6nhAAAAwAls+AuAOMhuKVBXvJqgM9nHJY66bQmSUoCAc3+PD8QAPnxTtJpfvowSEKR0eddmDlyHIrgXTHBOMbqjvX4ZM6EWfjyX3pOTsc81YbNhiEf5S5pjEQpSRI1d+4AQzP4deoonvkehy3yfSY7yBG2/cyS0c+vsDPTPQJ6cYisfoAJ9Nn6ZzpxI5Te8JGf6nOZkaR0ocQ/t8FvUVyjex9iBLJywnwohg6JseSKJGYiwWR/yd7N0PRUtVbG/JyBuDjFA2KVFuNyQSUcNBBmr1eY0Ne95F9IAAAAK0GfUkUVLCv/AAADAB5gHaLizW9+117CkA+vPhonlrty+tsSVP2sHW8SK2AAAAAnAZ9xdEJ/AAADAA+G14Eih7BoA5g3kpB4gxqmFBSIGKjZIUqWXc0vAAAAGgGfc2pCfwAAAwAPi80fPngVpj+wCVf9jlNvAAAAaUGbeEmoQWyZTAhv//6nhAAAAwANLfq1umQDVp2+lObjKOKdyqDoG5TM6JM3Y8gVHabTj9/0aNjd1zOJwdEJppCYJfuS8rE16Vd7U3pdU8XXVrRBKrbMD+qMo83fea0ZxhzdKB49P0M+6wAAACFBn5ZFFSwr/wAAAwAMRYfLt0d+/PIQBHb4p3HDCb2FuwIAAAAXAZ+1dEJ/AAADAA+G14FoxiZnpHi4HDwAAAAbAZ+3akJ/AAADAA+LzR8vlhjJbbWlKerRuqCBAAAAsUGbvEmoQWyZTAhv//6nhAAAAwANLN9pAM+CsUc21TjOLfQtluvL8/UBKYdQYp3zMnayuKY27Al4TjBh43k65/CAmstL0G/L4vV1GMtDrqGXroCXYcwbNuUr8u+vVj8wm1V3GmxwirLMX0Ya/qTQ1KLfixq3C3ormK8+7r6fuEejXE+IjBGprhvy+EkYliw0/NcPZK5iLceX7YeY+NrtUIw15TicB2XMFZrGSepOVCK8vAAAAChBn9pFFSwr/wAAAwAMRYfLuodRxiUuvjNAHGljCyZO1h3boeC+a29AAAAAHQGf+XRCfwAAAwAPhteBaMYmaUAkgq4q4w62GAxZAAAAGgGf+2pCfwAAAwAPi80fPngVqKAQj36qdkdMAAAAiEGb4EmoQWyZTAhv//6nhAAAAwANOegLAkAraLsGkR1aaQEj4XKhZa4u9XtdV7uqDp2YBHO3do/KQrGCsPgcZ2Sc150u6QkH9BDJAifn6PrDaBbljL8pzsO3nLjxb1YMXNkxjUHIkJyDAHuEEM0JbXh2F2zi5U4UJW3o/L00HhnfgWjkhszbh4kAAAAmQZ4eRRUsK/8AAAMADEWHy7dJYKT67FCoPOgTObzYfCZIVLDuL3EAAAAcAZ49dEJ/AAADAA+G14Eb9YOViYm8UnvsaEvegAAAABsBnj9qQn8AAAMAD4vNHySxN+aXeonp608TgncAAACOQZokSahBbJlMCG///qeEAAADAA0sXJADYeAPqlVOMYldDSOvRej015NeL8dZWZqldo8NGcSil8g89Sc1BzcGwAGxkeWEFzP0TJaErzXMbGgiRIKMQoYwj1fHqD/G5NdpcnxirtU7ZnWXz/TVD9AKpFndOwhca2wUgF0LZXvT9AyCeg6wchedr/5k6+Gf4AAAACRBnkJFFSwr/wAAAwAMRYfLukWsJsz3+6kF2N0fw87rSLIAMCEAAAAZAZ5hdEJ/AAADAA+G14Ffu35GoaXUeRAtIQAAABoBnmNqQn8AAAMAD4vNHz53htmyDKi3MWLegAAAAIxBmmhJqEFsmUwIb//+p4QAAAMADTngLWxiAKTcl3V8+3ZK+C216i61lxFKzotTd8XtbMYMBmMHf9NkP90nzPIoeSPleABk5W6ZR7SCbY2+oFbgA34oYXWO/a4s35KgA+j/xHTIoGKUmJzuP85KiZd7MGeDOMXlIpo1KYlLB6GLOm8MoZAoLUdrc4aUEAAAACZBnoZFFSwr/wAAAwAMRYfLt0lmx0zZZNrHYUTX4pIpD7PGrcb3EQAAABkBnqV0Qn8AAAMAD4bXgRvzlkCR4QruxET4AAAAIgGep2pCfwAAAwAPi80fK+pJiOA1+SiRxbNvFa53cha7nvUAAAC0QZqsSahBbJlMCG///qeEAAADAA0sXJAE+yY7VbN0jSMlDS2rwyWx2YlUQzUzKdB+incxyEbGL2QXj+mEC/NsHW/KRGl9em7d9FDELcvGc3k0sHmv+hZo1yuG/I3KdepO8IM6dZIPYARU1VjTRGkM6PCEbM2ZI5dcU9ZIHv/z/gik0jeiViy+hL1SOc0hoJNsLAI6iXeHa7AgXNYb80dzVVwlNudyiSwQNqLPGsbMVxRUJ+2AAAAAJUGeykUVLCv/AAADAAxFh8u6RawmzPed4CnMnOAJRItYhUiIJ8EAAAAcAZ7pdEJ/AAADAA+G14FowCYylG+zeNAYpkhakQAAAB4BnutqQn8AAAMAD4vNH2AzESVQW9TMonHsgYxMaEEAAAA+QZrwSahBbJlMCG///qeEAAADAAzo1bAQBas1jd6F7UotzwWdlBnIp9GdoWPmraeb+pH/BAeLAm0+XKGkyoEAAAAkQZ8ORRUsK/8AAAMADEWHy7risSvLuTwPNO/MYUlparo+AEfAAAAAGgGfLXRCfwAAAwAPhteBX7t+RqGl1MtMTpFlAAAAGwGfL2pCfwAAAwAPi80fYDMRIVEW2ueseiBZQQAAABpBmzRJqEFsmUwIb//+p4QAAAMAAc9PFcQ+YAAAACFBn1JFFSwr/wAAAwAMRYfLukWsJsz365r6fNxgkvBzgScAAAAaAZ9xdEJ/AAADAA+G14Ffu35GoaXUy0xOkWUAAAAZAZ9zakJ/AAADAA+LzR9gMxEhT+c4NbYdMQAAABhBm3hJqEFsmUwIb//+p4QAAAMAAAMA1IEAAAAgQZ+WRRUsK/8AAAMADEWHy7pFrCbM9+uavhiwcXjAVsAAAAAZAZ+1dEJ/AAADAA+G14Ffu35Gn0Z1xQBywAAAABkBn7dqQn8AAAMAD4vNH2AzESFP5zg1th0xAAAAGEGbvEmoQWyZTAhv//6nhAAAAwAAAwDUgAAAACBBn9pFFSwr/wAAAwAMRYfLukWsJsz365q+GLBxeMBWwAAAABkBn/l0Qn8AAAMAD4bXgV+7fkafRnXFAHLBAAAAGQGf+2pCfwAAAwAPi80fYDMRIU/nODW2HTAAAAAXQZvgSahBbJlMCGf//p4QAAADAAADAz8AAAAgQZ4eRRUsK/8AAAMADEWHy7pFrCbM9+uavhiwcXjAVsEAAAAZAZ49dEJ/AAADAA+G14Ffu35Gn0Z1xQBywAAAABkBnj9qQn8AAAMAD4vNH2AzESFP5zg1th0xAAAAF0GaJEmoQWyZTAhf//6MsAAAAwAAAwNCAAAAIEGeQkUVLCv/AAADAAxFh8u6RawmzPfrmr4YsHF4wFbBAAAAGQGeYXRCfwAAAwAPhteBX7t+Rp9GdcUAcsEAAAAZAZ5jakJ/AAADAA+LzR9gMxEhT+c4NbYdMAAAABdBmmdJqEFsmUwIT//98QAAAwAAAwAekAAAACBBnoVFFSwr/wAAAwAMRYfLukWsJsz365q+GLBxeMBWwQAAABkBnqZqQn8AAAMAD4vNH2AzESFP5zg1th0wAAAR/m1vb3YAAABsbXZoZAAAAAAAAAAAAAAAAAAAA+gAACnuAAEAAAEAAAAAAAAAAAAAAAABAAAAAAAAAAAAAAAAAAAAAQAAAAAAAAAAAAAAAAAAQAAAAAAAAAAAAAAAAAAAAAAAAAAAAAAAAAAAAAAAAAIAABEodHJhawAAAFx0a2hkAAAAAwAAAAAAAAAAAAAAAQAAAAAAACnuAAAAAAAAAAAAAAAAAAAAAAABAAAAAAAAAAAAAAAAAAAAAQAAAAAAAAAAAAAAAAAAQAAAAAJgAAABkAAAAAAAJGVkdHMAAAAcZWxzdAAAAAAAAAABAAAp7gAABAAAAQAAAAAQoG1kaWEAAAAgbWRoZAAAAAAAAAAAAAAAAAAAPAAAAoQAVcQAAAAAAC1oZGxyAAAAAAAAAAB2aWRlAAAAAAAAAAAAAAAAVmlkZW9IYW5kbGVyAAAAEEttaW5mAAAAFHZtaGQAAAABAAAAAAAAAAAAAAAkZGluZgAAABxkcmVmAAAAAAAAAAEAAAAMdXJsIAAAAAEAABALc3RibAAAAJdzdHNkAAAAAAAAAAEAAACHYXZjMQAAAAAAAAABAAAAAAAAAAAAAAAAAAAAAAJgAZAASAAAAEgAAAAAAAAAAQAAAAAAAAAAAAAAAAAAAAAAAAAAAAAAAAAAAAAAAAAAABj//wAAADFhdmNDAWQAHv/hABhnZAAerNlAmDOhAAADAAEAAAMAPA8WLZYBAAZo6+PLIsAAAAAYc3R0cwAAAAAAAAABAAABQgAAAgAAAAAYc3RzcwAAAAAAAAACAAAAAQAAAPsAAAnwY3R0cwAAAAAAAAE8AAAAAQAABAAAAAABAAAKAAAAAAEAAAQAAAAAAQAAAAAAAAABAAACAAAAAAEAAAoAAAAAAQAABAAAAAABAAAAAAAAAAEAAAIAAAAAAQAACgAAAAABAAAEAAAAAAEAAAAAAAAAAQAAAgAAAAABAAAKAAAAAAEAAAQAAAAAAQAAAAAAAAABAAACAAAAAAEAAAoAAAAAAQAABAAAAAABAAAAAAAAAAEAAAIAAAAAAQAACgAAAAABAAAEAAAAAAEAAAAAAAAAAQAAAgAAAAABAAAKAAAAAAEAAAQAAAAAAQAAAAAAAAABAAACAAAAAAEAAAoAAAAAAQAABAAAAAABAAAAAAAAAAEAAAIAAAAAAQAACAAAAAACAAACAAAAAAEAAAoAAAAAAQAABAAAAAABAAAAAAAAAAEAAAIAAAAAAQAACAAAAAACAAACAAAAAAEAAAoAAAAAAQAABAAAAAABAAAAAAAAAAEAAAIAAAAAAQAACgAAAAABAAAEAAAAAAEAAAAAAAAAAQAAAgAAAAABAAAKAAAAAAEAAAQAAAAAAQAAAAAAAAABAAACAAAAAAEAAAoAAAAAAQAABAAAAAABAAAAAAAAAAEAAAIAAAAAAQAACgAAAAABAAAEAAAAAAEAAAAAAAAAAQAAAgAAAAABAAAKAAAAAAEAAAQAAAAAAQAAAAAAAAABAAACAAAAAAEAAAoAAAAAAQAABAAAAAABAAAAAAAAAAEAAAIAAAAAAQAACgAAAAABAAAEAAAAAAEAAAAAAAAAAQAAAgAAAAABAAAKAAAAAAEAAAQAAAAAAQAAAAAAAAABAAACAAAAAAEAAAoAAAAAAQAABAAAAAABAAAAAAAAAAEAAAIAAAAAAQAACgAAAAABAAAEAAAAAAEAAAAAAAAAAQAAAgAAAAABAAAKAAAAAAEAAAQAAAAAAQAAAAAAAAABAAACAAAAAAEAAAoAAAAAAQAABAAAAAABAAAAAAAAAAEAAAIAAAAAAQAACgAAAAABAAAEAAAAAAEAAAAAAAAAAQAAAgAAAAABAAAKAAAAAAEAAAQAAAAAAQAAAAAAAAABAAACAAAAAAEAAAoAAAAAAQAABAAAAAABAAAAAAAAAAEAAAIAAAAAAQAACAAAAAACAAACAAAAAAEAAAoAAAAAAQAABAAAAAABAAAAAAAAAAEAAAIAAAAAAQAACgAAAAABAAAEAAAAAAEAAAAAAAAAAQAAAgAAAAABAAAKAAAAAAEAAAQAAAAAAQAAAAAAAAABAAACAAAAAAEAAAoAAAAAAQAABAAAAAABAAAAAAAAAAEAAAIAAAAAAQAACgAAAAABAAAEAAAAAAEAAAAAAAAAAQAAAgAAAAABAAAKAAAAAAEAAAQAAAAAAQAAAAAAAAABAAACAAAAAAEAAAoAAAAAAQAABAAAAAABAAAAAAAAAAEAAAIAAAAAAQAACgAAAAABAAAEAAAAAAEAAAAAAAAAAQAAAgAAAAABAAAKAAAAAAEAAAQAAAAAAQAAAAAAAAABAAACAAAAAAEAAAoAAAAAAQAABAAAAAABAAAAAAAAAAEAAAIAAAAAAQAACgAAAAABAAAEAAAAAAEAAAAAAAAAAQAAAgAAAAABAAAKAAAAAAEAAAQAAAAAAQAAAAAAAAABAAACAAAAAAEAAAoAAAAAAQAABAAAAAABAAAAAAAAAAEAAAIAAAAAAQAACgAAAAABAAAEAAAAAAEAAAAAAAAAAQAAAgAAAAABAAAKAAAAAAEAAAQAAAAAAQAAAAAAAAABAAACAAAAAAEAAAYAAAAAAQAAAgAAAAABAAAGAAAAAAEAAAIAAAAAAQAACgAAAAABAAAEAAAAAAEAAAAAAAAAAQAAAgAAAAABAAAGAAAAAAEAAAIAAAAAAQAACgAAAAABAAAEAAAAAAEAAAAAAAAAAQAAAgAAAAABAAAKAAAAAAEAAAQAAAAAAQAAAAAAAAABAAACAAAAAAEAAAoAAAAAAQAABAAAAAABAAAAAAAAAAEAAAIAAAAAAQAACgAAAAABAAAEAAAAAAEAAAAAAAAAAQAAAgAAAAABAAAKAAAAAAEAAAQAAAAAAQAAAAAAAAABAAACAAAAAAEAAAoAAAAAAQAABAAAAAABAAAAAAAAAAEAAAIAAAAAAQAACgAAAAABAAAEAAAAAAEAAAAAAAAAAQAAAgAAAAABAAAKAAAAAAEAAAQAAAAAAQAAAAAAAAABAAACAAAAAAEAAAoAAAAAAQAABAAAAAABAAAAAAAAAAEAAAIAAAAAAQAACgAAAAABAAAEAAAAAAEAAAAAAAAAAQAAAgAAAAABAAAKAAAAAAEAAAQAAAAAAQAAAAAAAAABAAACAAAAAAEAAAYAAAAAAQAAAgAAAAABAAAKAAAAAAEAAAQAAAAAAQAAAAAAAAABAAACAAAAAAEAAAgAAAAAAgAAAgAAAAABAAAKAAAAAAEAAAQAAAAAAQAAAAAAAAABAAACAAAAAAEAAAoAAAAAAQAABAAAAAABAAAAAAAAAAEAAAIAAAAAAQAACgAAAAABAAAEAAAAAAEAAAAAAAAAAQAAAgAAAAABAAAKAAAAAAEAAAQAAAAAAQAAAAAAAAABAAACAAAAAAIAAAQAAAAAAQAACgAAAAABAAAEAAAAAAEAAAAAAAAAAQAAAgAAAAABAAAKAAAAAAEAAAQAAAAAAQAAAAAAAAABAAACAAAAAAEAAAoAAAAAAQAABAAAAAABAAAAAAAAAAEAAAIAAAAAAQAACgAAAAABAAAEAAAAAAEAAAAAAAAAAQAAAgAAAAABAAAKAAAAAAEAAAQAAAAAAQAAAAAAAAABAAACAAAAAAEAAAoAAAAAAQAABAAAAAABAAAAAAAAAAEAAAIAAAAAAQAACgAAAAABAAAEAAAAAAEAAAAAAAAAAQAAAgAAAAABAAAKAAAAAAEAAAQAAAAAAQAAAAAAAAABAAACAAAAAAEAAAoAAAAAAQAABAAAAAABAAAAAAAAAAEAAAIAAAAAAQAACgAAAAABAAAEAAAAAAEAAAAAAAAAAQAAAgAAAAABAAAKAAAAAAEAAAQAAAAAAQAAAAAAAAABAAACAAAAAAEAAAoAAAAAAQAABAAAAAABAAAAAAAAAAEAAAIAAAAAAQAACgAAAAABAAAEAAAAAAEAAAAAAAAAAQAAAgAAAAABAAAKAAAAAAEAAAQAAAAAAQAAAAAAAAABAAACAAAAAAEAAAoAAAAAAQAABAAAAAABAAAAAAAAAAEAAAIAAAAAAQAACgAAAAABAAAEAAAAAAEAAAAAAAAAAQAAAgAAAAABAAAKAAAAAAEAAAQAAAAAAQAAAAAAAAABAAACAAAAAAEAAAgAAAAAAgAAAgAAAAAcc3RzYwAAAAAAAAABAAAAAQAAAUIAAAABAAAFHHN0c3oAAAAAAAAAAAAAAUIAAAn6AAABOgAAAF0AAABJAAAARQAAAIoAAABVAAAAMQAAAD4AAAB/AAAARwAAACsAAAAsAAAAeQAAAC0AAAAgAAAAGwAAAGAAAAArAAAAIAAAAB0AAAB3AAAAOAAAACoAAAAoAAAAwQAAAE0AAAAqAAAAOgAAAMIAAABZAAAANQAAADwAAAEkAAAAWwAAAGwAAAGoAAAAtwAAAHkAAACWAAABjwAAAOwAAADPAAABhwAAAOYAAADgAAAA2wAAATcAAADhAAAAxgAAAMIAAAFFAAAA5gAAAOEAAADlAAABTwAAAN0AAAC7AAAAugAAARUAAAC8AAAAnQAAAPQAAAFBAAAAzAAAAMUAAAC0AAABEQAAAOAAAACzAAAA2wAAAQ4AAADpAAAAyAAAALAAAAEAAAAA5wAAALMAAADcAAABAQAAAMkAAAC6AAAAqAAAAQIAAACcAAAAhwAAAHMAAAEDAAAAhwAAAIwAAABgAAAA3QAAAHkAAABsAAAAdgAAAUMAAAC5AAAAmAAAAJQAAADuAAAA2AAAAJQAAACTAAABEAAAAOsAAACnAAAApQAAARUAAACuAAAAnwAAAO0AAADXAAAAbgAAAIoAAADxAAAAoQAAAIkAAACXAAABIgAAAOsAAACbAAAArQAAAP8AAADFAAAAowAAAHcAAAElAAAAmQAAAKAAAACxAAABBgAAAPMAAAB9AAAAsAAAAPsAAAB5AAAAawAAAI0AAAEZAAAAqAAAAF0AAABxAAABBwAAAMcAAADOAAAAmgAAAQsAAAC+AAAAwgAAAKQAAAEyAAAAhQAAAI0AAACAAAAA+AAAAKwAAACfAAAAlAAAAOQAAACaAAAAoQAAAIQAAAC+AAAAcQAAAKsAAACEAAAA3wAAAJkAAABrAAAAfQAAAO0AAACAAAAA6QAAAJMAAAD3AAAAdQAAAGQAAAB+AAAA9QAAAHsAAAEOAAAAnAAAAHcAAACGAAAA3wAAAM0AAABnAAAAaAAAAR0AAACWAAAAeAAAAGgAAAEdAAAAvAAAAHAAAAB7AAABOwAAALUAAAB7AAAAbwAAAVUAAADfAAAAigAAAIsAAAFrAAAAoAAAAJAAAAB3AAAA/wAAALkAAACJAAAAdgAAAOAAAACSAAAAZQAAAHwAAAENAAAAgwAAAHoAAABlAAABVgAAAMkAAABuAAAAeAAAASwAAABxAAABUQAAAMwAAAB5AAAAnQAAAQwAAACPAAAAlQAAASUAAAB7AAAAdAAAAGoAAAGQAAAAnAAAAGMAAAB3AAABugAAANUAAACSAAAAsAAAAX0AAAC9AAAAlgAAAJsAAACTAAAKXwAAAWgAAACaAAAAgwAAAIsAAAEpAAAAdgAAAHsAAAB9AAAAwwAAAJMAAABZAAAAbQAAAL8AAABhAAAAgQAAAFMAAADqAAAALwAAACsAAAAeAAAAbQAAACUAAAAbAAAAHwAAALUAAAAsAAAAIQAAAB4AAACMAAAAKgAAACAAAAAfAAAAkgAAACgAAAAdAAAAHgAAAJAAAAAqAAAAHQAAACYAAAC4AAAAKQAAACAAAAAiAAAAQgAAACgAAAAeAAAAHwAAAB4AAAAlAAAAHgAAAB0AAAAcAAAAJAAAAB0AAAAdAAAAHAAAACQAAAAdAAAAHQAAABsAAAAkAAAAHQAAAB0AAAAbAAAAJAAAAB0AAAAdAAAAGwAAACQAAAAdAAAAFHN0Y28AAAAAAAAAAQAAADAAAABidWR0YQAAAFptZXRhAAAAAAAAACFoZGxyAAAAAAAAAABtZGlyYXBwbAAAAAAAAAAAAAAAAC1pbHN0AAAAJal0b28AAAAdZGF0YQAAAAEAAAAATGF2ZjU4LjI5LjEwMA==\" type=\"video/mp4\" />\n",
              "             </video>"
            ]
          },
          "metadata": {}
        }
      ],
      "source": [
        "import glob\n",
        "import io\n",
        "import base64\n",
        "import imageio\n",
        "from IPython.display import HTML, display\n",
        "from gym.wrappers.monitoring.video_recorder import VideoRecorder\n",
        "\n",
        "def show_video_of_model(agent, env_name):\n",
        "    env = gym.make(env_name, render_mode='rgb_array') #Getting the environment.\n",
        "    state, _ = env.reset() #Reset the state.\n",
        "    done = False #Set done to false.\n",
        "    frames = []\n",
        "    while not done:\n",
        "        frame = env.render()\n",
        "        frames.append(frame)\n",
        "        action = agent.act(state) #'act' method.\n",
        "        state, reward, done, _, _ = env.step(action.item()) #'step' method.\n",
        "    env.close()\n",
        "    imageio.mimsave('video.mp4', frames, fps=30) #Gathering and saving all the frames in a video.\n",
        "\n",
        "show_video_of_model(agent, 'LunarLander-v2')\n",
        "\n",
        "def show_video():\n",
        "    mp4list = glob.glob('*.mp4')\n",
        "    if len(mp4list) > 0:\n",
        "        mp4 = mp4list[0]\n",
        "        video = io.open(mp4, 'r+b').read()\n",
        "        encoded = base64.b64encode(video)\n",
        "        display(HTML(data='''<video alt=\"test\" autoplay\n",
        "                loop controls style=\"height: 400px;\">\n",
        "                <source src=\"data:video/mp4;base64,{0}\" type=\"video/mp4\" />\n",
        "             </video>'''.format(encoded.decode('ascii'))))\n",
        "    else:\n",
        "        print(\"Could not find video\")\n",
        "\n",
        "show_video() #Displaying the video."
      ]
    },
    {
      "cell_type": "code",
      "source": [],
      "metadata": {
        "id": "JDrkxAG5UYs-"
      },
      "execution_count": null,
      "outputs": []
    }
  ],
  "metadata": {
    "colab": {
      "provenance": []
    },
    "kernelspec": {
      "display_name": "Python 3",
      "name": "python3"
    },
    "language_info": {
      "name": "python"
    }
  },
  "nbformat": 4,
  "nbformat_minor": 0
}